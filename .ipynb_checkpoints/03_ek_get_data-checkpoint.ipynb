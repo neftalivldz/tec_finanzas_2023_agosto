{
 "cells": [
  {
   "cell_type": "code",
   "execution_count": 32,
   "id": "bf755ee9",
   "metadata": {},
   "outputs": [],
   "source": [
    "import refinitiv.data as rd\n",
    "import configparser as cp\n",
    "import eikon as ek  # the Eikon Python wrapper package\n",
    "import pandas as pd\n",
    "import numpy as np\n",
    "import cufflinks as cf  # Cufflinks\n",
    "import matplotlib.pyplot as plt\n",
    "%matplotlib inline\n",
    "import seaborn as sns\n",
    "plt.style.use('seaborn-dark-palette')\n",
    "import warnings\n",
    "warnings.filterwarnings('ignore')\n",
    "import datetime as dt\n",
    "from dateutil.relativedelta import relativedelta\n"
   ]
  },
  {
   "cell_type": "code",
   "execution_count": 6,
   "id": "0f9d96b2",
   "metadata": {},
   "outputs": [],
   "source": [
    "cfg = cp.ConfigParser()\n",
    "cfg.read('../refinitiv.cfg')\n",
    "ek.set_app_key(cfg['eikon']['app_id'])"
   ]
  },
  {
   "cell_type": "code",
   "execution_count": 7,
   "id": "4431e901",
   "metadata": {},
   "outputs": [],
   "source": [
    "df = ek.get_data('LP68167376', ['TR.FundRollingPerformance.date',\n",
    "                           'TR.FundRollingPerformance.value'],\n",
    "            {'Curn':'SGD','RollTimeFrame':'1Y','Interval':'M'})"
   ]
  },
  {
   "cell_type": "code",
   "execution_count": 8,
   "id": "c442f98c",
   "metadata": {},
   "outputs": [
    {
     "data": {
      "text/plain": [
       "(    Instrument                  Date  Rolling Performance\n",
       " 0   LP68167376  2022-09-30T00:00:00Z            -9.894127\n",
       " 1   LP68167376  2022-10-28T00:00:00Z             8.064516\n",
       " 2   LP68167376  2022-11-25T00:00:00Z             3.385786\n",
       " 3   LP68167376  2022-12-30T00:00:00Z            -2.062878\n",
       " 4   LP68167376  2023-01-27T00:00:00Z             3.088008\n",
       " 5   LP68167376  2023-02-24T00:00:00Z            -2.928429\n",
       " 6   LP68167376  2023-03-31T00:00:00Z             2.601507\n",
       " 7   LP68167376  2023-04-28T00:00:00Z             2.902637\n",
       " 8   LP68167376  2023-05-26T00:00:00Z            -0.395452\n",
       " 9   LP68167376  2023-06-30T00:00:00Z             3.510843\n",
       " 10  LP68167376  2023-07-28T00:00:00Z             1.543656\n",
       " 11  LP68167376  2023-08-25T00:00:00Z            -2.276076,\n",
       " None)"
      ]
     },
     "execution_count": 8,
     "metadata": {},
     "output_type": "execute_result"
    }
   ],
   "source": [
    "df"
   ]
  },
  {
   "cell_type": "code",
   "execution_count": 9,
   "id": "625a0e99",
   "metadata": {},
   "outputs": [],
   "source": [
    "def SMA(close,sPeriod,lPeriod):\n",
    "    shortSMA = ta.SMA(close,sPeriod)\n",
    "    longSMA = ta.SMA(close,lPeriod)\n",
    "    smaSell = ((shortSMA <= longSMA) & (shortSMA.shift(1) >= longSMA.shift(1)))\n",
    "    smaBuy = ((shortSMA >= longSMA) & (shortSMA.shift(1) <= longSMA.shift(1)))\n",
    "    return smaSell,smaBuy,shortSMA,longSMA"
   ]
  },
  {
   "cell_type": "code",
   "execution_count": 13,
   "id": "6e22fe05",
   "metadata": {},
   "outputs": [],
   "source": [
    "def RSI(close,timePeriod):\n",
    "    rsi = ta.RSI(close,timePeriod)\n",
    "    rsiSell = (rsi>70) & (rsi.shift(1)<=70)\n",
    "    rsiBuy = (rsi<30) & (rsi.shift(1)>=30)\n",
    "    return rsiSell,rsiBuy, rsi"
   ]
  },
  {
   "cell_type": "code",
   "execution_count": 14,
   "id": "db18a445",
   "metadata": {},
   "outputs": [],
   "source": [
    "def Stoch(close,high,low):\n",
    "    slowk, slowd = ta.STOCH(high, low, close)\n",
    "    stochSell = ((slowk < slowd) & (slowk.shift(1) > slowd.shift(1))) & (slowd > 80)\n",
    "    stochBuy = ((slowk > slowd) & (slowk.shift(1) < slowd.shift(1))) & (slowd < 20)\n",
    "    return stochSell,stochBuy, slowk,slowd"
   ]
  },
  {
   "cell_type": "code",
   "execution_count": 15,
   "id": "ef758c3e",
   "metadata": {},
   "outputs": [],
   "source": [
    "# Key code snippets - see Github for full source\n",
    "def sendSignaltoChatBot(myRIC, signalTime, indicators):\n",
    "    indicatorList = ','.join(indicators.values)\n",
    "    message = f\"TA signal(s) Generated : {indicatorList} at {signalTime} for {myRIC}\"\n",
    "    # Connect, login and send message to chatbot\n",
    "    rdp_token = RDPTokenManagement( bot_username, bot_password, app_key)\n",
    "    access_token = cdr.authen_rdp(rdp_token)\n",
    "    if access_token:\n",
    "        # Join associated Chatroom\n",
    "        joined_rooms = cdr.join_chatroom(access_token, chatroom_id)\n",
    "        if joined_rooms:\n",
    "            cdr.post_message_to_chatroom(access_token, joined_rooms, chatroom_id, message)"
   ]
  },
  {
   "cell_type": "code",
   "execution_count": 16,
   "id": "652f26e9",
   "metadata": {},
   "outputs": [],
   "source": [
    "def runAllTA(myRIC, data):\n",
    "    price = data['CLOSE']\n",
    "    high = data['HIGH']\n",
    "    low = data['LOW']\n",
    "    # Simple Moving Average calcs\n",
    "    smaSell,smaBuy,shortSMA,longSMA = SMA(price,shortPeriod,longPeriod)\n",
    "    # Do the RSI calcs\n",
    "    rsiSell,rsiBuy,rsi = RSI(price,shortPeriod)\n",
    "    # and now the stochastics\n",
    "    stochSell,stochBuy,slowk,slowd = Stoch(price, high, low)    \n",
    "    # Now collect buy and sell Signal timestamps into a single df\n",
    "    sigTimeStamps = pd.concat([smaSell, smaBuy, stochSell, stochBuy, rsiSell, rsiBuy],axis=1)\n",
    "    sigTimeStamps.columns=['SMA Sell','SMA Buy','Stoch Sell','Stoch Buy','RSI Sell','RSI Buy']\n",
    "    signals = sigTimeStamps.loc[sigTimeStamps['SMA Sell'] | sigTimeStamps['Stoch Sell'] |\n",
    "                        sigTimeStamps['RSI Sell'] | sigTimeStamps['SMA Buy'] |\n",
    "                        sigTimeStamps['Stoch Buy'] | sigTimeStamps['RSI Buy']]\n",
    "   \n",
    "    # Compare final signal Timestamp with latest data TimeStamp\n",
    "    if (data.index[-1]==signals.index[-1]):\n",
    "        final = signals.iloc[-1]\n",
    "        # filter out the signals set to True and send to ChatBot\n",
    "        signal = final.loc[final]\n",
    "        signalTime = signal.name.strftime(\"%Y-%m-%dT%H:%M:%S\")\n",
    "        indicators = signal.loc[signal].index\n",
    "        sendSignaltoChatBot(myRIC, signalTime, indicators)"
   ]
  },
  {
   "cell_type": "code",
   "execution_count": 33,
   "id": "f41877a5",
   "metadata": {},
   "outputs": [],
   "source": [
    "# Calculate Start and End time for our historical data request window\n",
    "def startEnd(interval):\n",
    "    end = dt.datetime.now()\n",
    "    start = {\n",
    "      'minute': lambda end: end - relativedelta(days=5),\n",
    "      'hour': lambda end: end - relativedelta(months=2),\n",
    "      'daily': lambda end: end - relativedelta(years=2),\n",
    "      'weekly': lambda end: end - relativedelta(years=5),\n",
    "      'monthly': lambda end: end - relativedelta(years=10),\n",
    "    }[interval](end)\n",
    "    return start.strftime(\"%Y-%m-%dT%H:%M:%S\"),end.strftime(\"%Y-%m-%dT%H:%M:%S\")"
   ]
  },
  {
   "cell_type": "code",
   "execution_count": 34,
   "id": "59532c22",
   "metadata": {},
   "outputs": [],
   "source": [
    "# As per before, key code snips only...\n",
    "# Use a formatter to remove weekends from date axis\n",
    "# to smooth out the line.\n",
    "class MyFormatter():\n",
    "    def __init__(self, dates, fmt='%Y-%m-%d'):\n",
    "        self.dates = dates\n",
    "        self.fmt = fmt\n",
    "    def __call__(self, x, pos=0):\n",
    "        'Return the label for time x at position pos'\n",
    "        ind = int(round(x))\n",
    "        if ind>=len(self.dates) or ind<0: return ''\n",
    "        return self.dates[ind].strftime(self.fmt)\n",
    "# Plot the Close price and short and long Simple Moving Averages\n",
    "def plotSMAs(ric,close,sma14,sma200,sell,buy):\n",
    "    x = close.index\n",
    "    plt.rcParams[\"figure.figsize\"] = (28,8)\n",
    "    fig, ax = plt.subplots(facecolor='0.25')\n",
    "    ax.plot(np.arange(len(x)),close, label='Close',color='y')\n",
    "    ax.plot(np.arange(len(x)),sma14,label=\"SMA 14\", color='g')\n",
    "    ax.plot(np.arange(len(x)),sma200,label=\"SMA 200\", color='tab:purple')\n",
    "    plt.show()\n",
    "# Plot the Close price in the top chart and RSI in the lower chart\n",
    "def plotRSI(ric,close,rsi):\n",
    "    plt.rcParams[\"figure.figsize\"] = (28,12)\n",
    "    fig = plt.figure(facecolor='0.25')\n",
    "    gs1 = gridspec.GridSpec(2, 1)\n",
    "    # RSI chart\n",
    "    ax = fig.add_subplot(gs1[1])\n",
    "    ax.xaxis.set_major_formatter(formatter)\n",
    "    ax.plot(np.arange(len(rsi.index)), rsi.values,color='b')\n",
    "    plt.axhline(y=70, color='w',linestyle='--')\n",
    "    plt.axhline(y=30, color='w',linestyle='--')\n",
    "    # Close Price chart\n",
    "    axc = fig.add_subplot(gs1[0])\n",
    "    axc.plot(np.arange(len(rsi.index)), close, color='y')\n",
    "    plt.show()\n",
    "# Plot Close price in top chart and in the slowk + slowd lines in lower chart\n",
    "def plotStoch(ric,close,slowK,slowD):\n",
    "    plt.rcParams[\"figure.figsize\"] = (28,12)\n",
    "    fig = plt.figure(facecolor='0.25')\n",
    "    gs1 = gridspec.GridSpec(2, 1)\n",
    "    ax = fig.add_subplot(gs1[1])\n",
    "    # Stochastic lines chart\n",
    "    ax.plot(np.arange(len(slowk.index)), slowk.values,label=\"Slow K\",color='m')\n",
    "    ax.plot(np.arange(len(slowk.index)), slowd.values,label=\"Slow D\",color='g')\n",
    "    plt.axhline(y=80, color='w',linestyle='--')\n",
    "    plt.axhline(y=20, color='w',linestyle='--')\n",
    "    # Closing price chart\n",
    "    axc = fig.add_subplot(gs1[0])\n",
    "    axc.plot(np.arange(len(close.index)), close, color='y')\n",
    "    plt.show()"
   ]
  },
  {
   "cell_type": "code",
   "execution_count": 35,
   "id": "9c684147",
   "metadata": {},
   "outputs": [
    {
     "ename": "NameError",
     "evalue": "name 'timeStampLength' is not defined",
     "output_type": "error",
     "traceback": [
      "\u001b[0;31m---------------------------------------------------------------------------\u001b[0m",
      "\u001b[0;31mNameError\u001b[0m                                 Traceback (most recent call last)",
      "Cell \u001b[0;32mIn[35], line 3\u001b[0m\n\u001b[1;32m      1\u001b[0m myInterval \u001b[38;5;241m=\u001b[39m \u001b[38;5;124m'\u001b[39m\u001b[38;5;124mdaily\u001b[39m\u001b[38;5;124m'\u001b[39m \u001b[38;5;66;03m# 'minute', 'hour', 'daily', 'weekly', 'monthly'\u001b[39;00m\n\u001b[1;32m      2\u001b[0m myStart, myEnd \u001b[38;5;241m=\u001b[39m startEnd(myInterval)\n\u001b[0;32m----> 3\u001b[0m timestampLen \u001b[38;5;241m=\u001b[39m \u001b[43mtimeStampLength\u001b[49m(myInterval)\n\u001b[1;32m      4\u001b[0m \u001b[38;5;28mprint\u001b[39m(\u001b[38;5;124mf\u001b[39m\u001b[38;5;124m'\u001b[39m\u001b[38;5;124mInterval \u001b[39m\u001b[38;5;132;01m{\u001b[39;00mmyInterval\u001b[38;5;132;01m}\u001b[39;00m\u001b[38;5;124m from \u001b[39m\u001b[38;5;132;01m{\u001b[39;00mmyStart\u001b[38;5;132;01m}\u001b[39;00m\u001b[38;5;124m to \u001b[39m\u001b[38;5;132;01m{\u001b[39;00mmyEnd\u001b[38;5;132;01m}\u001b[39;00m\u001b[38;5;124m : Timestamp Length \u001b[39m\u001b[38;5;132;01m{\u001b[39;00mtimestampLen\u001b[38;5;132;01m}\u001b[39;00m\u001b[38;5;124m'\u001b[39m)\n\u001b[1;32m      5\u001b[0m shortPeriod \u001b[38;5;241m=\u001b[39m \u001b[38;5;241m14\u001b[39m\n",
      "\u001b[0;31mNameError\u001b[0m: name 'timeStampLength' is not defined"
     ]
    }
   ],
   "source": [
    "myInterval = 'daily' # 'minute', 'hour', 'daily', 'weekly', 'monthly'\n",
    "myStart, myEnd = startEnd(myInterval)\n",
    "timestampLen = timeStampLength(myInterval)\n",
    "print(f'Interval {myInterval} from {myStart} to {myEnd} : Timestamp Length {timestampLen}')\n",
    "shortPeriod = 14\n",
    "longPeriod = 200\n",
    "basket={}\n",
    "# Do we want to plot charts?\n",
    "plotCharts = True\n",
    "# Dataframe display setting\n",
    "pd.set_option(\"display.max_rows\", 999)\n",
    "pd.set_option('precision', 3)"
   ]
  },
  {
   "cell_type": "code",
   "execution_count": null,
   "id": "f8186215",
   "metadata": {},
   "outputs": [],
   "source": []
  }
 ],
 "metadata": {
  "kernelspec": {
   "display_name": "Python 3 (ipykernel)",
   "language": "python",
   "name": "python3"
  },
  "language_info": {
   "codemirror_mode": {
    "name": "ipython",
    "version": 3
   },
   "file_extension": ".py",
   "mimetype": "text/x-python",
   "name": "python",
   "nbconvert_exporter": "python",
   "pygments_lexer": "ipython3",
   "version": "3.8.15"
  }
 },
 "nbformat": 4,
 "nbformat_minor": 5
}
