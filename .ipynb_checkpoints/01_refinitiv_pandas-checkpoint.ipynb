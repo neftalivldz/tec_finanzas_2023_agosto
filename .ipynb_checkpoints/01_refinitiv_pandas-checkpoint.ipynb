{
 "cells": [
  {
   "cell_type": "markdown",
   "id": "1334912b",
   "metadata": {},
   "source": [
    "# Información y Programación Financiera, TI, Algoritmos y Ciencia de Datos"
   ]
  },
  {
   "cell_type": "markdown",
   "id": "d582e293",
   "metadata": {},
   "source": [
    "Neftalí Valdez\n",
    "\n",
    "<a href=\"http://twitter.com/neftalivldz\" target=\"_blank\">@neftalivldz</a> | <a href=\"mailto:nvaldez@tec.mx\">nvaldez@tec.mx</a>"
   ]
  },
  {
   "cell_type": "code",
   "execution_count": 1,
   "id": "d7e54f6e",
   "metadata": {},
   "outputs": [],
   "source": [
    "#!pip3 install eikon\n",
    "#!pip3 install cufflinks\n",
    "#!pip3 install seaborn"
   ]
  },
  {
   "cell_type": "markdown",
   "id": "ce666ef7",
   "metadata": {},
   "source": [
    "# Importar librerías"
   ]
  },
  {
   "cell_type": "code",
   "execution_count": 2,
   "id": "500ee4fb",
   "metadata": {},
   "outputs": [
    {
     "data": {
      "text/html": [
       "        <script type=\"text/javascript\">\n",
       "        window.PlotlyConfig = {MathJaxConfig: 'local'};\n",
       "        if (window.MathJax && window.MathJax.Hub && window.MathJax.Hub.Config) {window.MathJax.Hub.Config({SVG: {font: \"STIX-Web\"}});}\n",
       "        if (typeof require !== 'undefined') {\n",
       "        require.undef(\"plotly\");\n",
       "        requirejs.config({\n",
       "            paths: {\n",
       "                'plotly': ['https://cdn.plot.ly/plotly-2.20.0.min']\n",
       "            }\n",
       "        });\n",
       "        require(['plotly'], function(Plotly) {\n",
       "            window._Plotly = Plotly;\n",
       "        });\n",
       "        }\n",
       "        </script>\n",
       "        "
      ]
     },
     "metadata": {},
     "output_type": "display_data"
    },
    {
     "data": {
      "text/html": [
       "        <script type=\"text/javascript\">\n",
       "        window.PlotlyConfig = {MathJaxConfig: 'local'};\n",
       "        if (window.MathJax && window.MathJax.Hub && window.MathJax.Hub.Config) {window.MathJax.Hub.Config({SVG: {font: \"STIX-Web\"}});}\n",
       "        if (typeof require !== 'undefined') {\n",
       "        require.undef(\"plotly\");\n",
       "        requirejs.config({\n",
       "            paths: {\n",
       "                'plotly': ['https://cdn.plot.ly/plotly-2.20.0.min']\n",
       "            }\n",
       "        });\n",
       "        require(['plotly'], function(Plotly) {\n",
       "            window._Plotly = Plotly;\n",
       "        });\n",
       "        }\n",
       "        </script>\n",
       "        "
      ]
     },
     "metadata": {},
     "output_type": "display_data"
    }
   ],
   "source": [
    "import eikon as ek  # the Eikon Python wrapper package\n",
    "import numpy as np  # NumPy\n",
    "import pandas as pd  # pandas\n",
    "import cufflinks as cf  # Cufflinks\n",
    "import configparser as cp\n",
    "cf.set_config_file(offline=True)  # set the plotting mode to offline"
   ]
  },
  {
   "cell_type": "code",
   "execution_count": 3,
   "id": "d7f3a7fa",
   "metadata": {},
   "outputs": [],
   "source": [
    "# Se inicia la conexión a refinitiv mediante eikon "
   ]
  },
  {
   "cell_type": "code",
   "execution_count": 4,
   "id": "90dded4e",
   "metadata": {},
   "outputs": [],
   "source": [
    "cfg = cp.ConfigParser()\n",
    "cfg.read('../refinitiv.cfg')\n",
    "ek.set_app_key(cfg['eikon']['app_id'])"
   ]
  },
  {
   "cell_type": "code",
   "execution_count": 5,
   "id": "2a6b21a0",
   "metadata": {},
   "outputs": [
    {
     "name": "stdout",
     "output_type": "stream",
     "text": [
      "/Users/neftalivaldez/app/tec/tec_finanzas_2023_agosto\r\n"
     ]
    }
   ],
   "source": [
    "!pwd"
   ]
  },
  {
   "cell_type": "markdown",
   "id": "09f06a5a",
   "metadata": {},
   "source": [
    "### Numpy"
   ]
  },
  {
   "cell_type": "code",
   "execution_count": 6,
   "id": "73a8c712",
   "metadata": {},
   "outputs": [
    {
     "name": "stdout",
     "output_type": "stream",
     "text": [
      "Array is of type:  <class 'numpy.ndarray'>\n",
      "No. of dimensions:  2\n",
      "Shape of array:  (2, 3)\n",
      "Size of array:  6\n",
      "Array stores elements of type:  int64\n"
     ]
    }
   ],
   "source": [
    "# Python program to demonstrate\n",
    "# basic array characteristics\n",
    "import numpy as np\n",
    " \n",
    "# Creating array object\n",
    "arr = np.array( [[ 1, 2, 3],\n",
    "                 [ 4, 2, 5]] )\n",
    " \n",
    "# Printing type of arr object\n",
    "print(\"Array is of type: \", type(arr))\n",
    " \n",
    "# Printing array dimensions (axes)\n",
    "print(\"No. of dimensions: \", arr.ndim)\n",
    " \n",
    "# Printing shape of array\n",
    "print(\"Shape of array: \", arr.shape)\n",
    " \n",
    "# Printing size (total number of elements) of array\n",
    "print(\"Size of array: \", arr.size)\n",
    " \n",
    "# Printing type of elements in array\n",
    "print(\"Array stores elements of type: \", arr.dtype)"
   ]
  },
  {
   "cell_type": "markdown",
   "id": "5721f01e",
   "metadata": {},
   "source": [
    "## Python Pandas"
   ]
  },
  {
   "cell_type": "code",
   "execution_count": 7,
   "id": "bdde4180",
   "metadata": {},
   "outputs": [
    {
     "data": {
      "text/html": [
       "<div>\n",
       "<style scoped>\n",
       "    .dataframe tbody tr th:only-of-type {\n",
       "        vertical-align: middle;\n",
       "    }\n",
       "\n",
       "    .dataframe tbody tr th {\n",
       "        vertical-align: top;\n",
       "    }\n",
       "\n",
       "    .dataframe thead th {\n",
       "        text-align: right;\n",
       "    }\n",
       "</style>\n",
       "<table border=\"1\" class=\"dataframe\">\n",
       "  <thead>\n",
       "    <tr style=\"text-align: right;\">\n",
       "      <th></th>\n",
       "      <th>sesion</th>\n",
       "      <th>asistencia</th>\n",
       "    </tr>\n",
       "  </thead>\n",
       "  <tbody>\n",
       "    <tr>\n",
       "      <th>0</th>\n",
       "      <td>420</td>\n",
       "      <td>25</td>\n",
       "    </tr>\n",
       "    <tr>\n",
       "      <th>1</th>\n",
       "      <td>380</td>\n",
       "      <td>20</td>\n",
       "    </tr>\n",
       "    <tr>\n",
       "      <th>2</th>\n",
       "      <td>390</td>\n",
       "      <td>27</td>\n",
       "    </tr>\n",
       "  </tbody>\n",
       "</table>\n",
       "</div>"
      ],
      "text/plain": [
       "   sesion  asistencia\n",
       "0     420          25\n",
       "1     380          20\n",
       "2     390          27"
      ]
     },
     "execution_count": 7,
     "metadata": {},
     "output_type": "execute_result"
    }
   ],
   "source": [
    "import pandas as pd \n",
    "\n",
    "data = {\n",
    "  \"sesion\": [420, 380, 390],\n",
    "  \"asistencia\": [25, 20, 27]\n",
    "}\n",
    "\n",
    "#load data into a DataFrame object:\n",
    "df = pd.DataFrame(data)\n",
    "\n",
    "df"
   ]
  },
  {
   "cell_type": "code",
   "execution_count": 8,
   "id": "fc2645c4",
   "metadata": {},
   "outputs": [
    {
     "name": "stdout",
     "output_type": "stream",
     "text": [
      "sesion        390\n",
      "asistencia     27\n",
      "Name: 2, dtype: int64\n"
     ]
    }
   ],
   "source": [
    "#utilización de índice:\n",
    "print(df.loc[2])"
   ]
  },
  {
   "cell_type": "code",
   "execution_count": 9,
   "id": "4505a8b9",
   "metadata": {},
   "outputs": [
    {
     "data": {
      "text/html": [
       "<div>\n",
       "<style scoped>\n",
       "    .dataframe tbody tr th:only-of-type {\n",
       "        vertical-align: middle;\n",
       "    }\n",
       "\n",
       "    .dataframe tbody tr th {\n",
       "        vertical-align: top;\n",
       "    }\n",
       "\n",
       "    .dataframe thead th {\n",
       "        text-align: right;\n",
       "    }\n",
       "</style>\n",
       "<table border=\"1\" class=\"dataframe\">\n",
       "  <thead>\n",
       "    <tr style=\"text-align: right;\">\n",
       "      <th></th>\n",
       "      <th>sesion</th>\n",
       "      <th>asistencia</th>\n",
       "    </tr>\n",
       "  </thead>\n",
       "  <tbody>\n",
       "    <tr>\n",
       "      <th>dia1</th>\n",
       "      <td>420</td>\n",
       "      <td>25</td>\n",
       "    </tr>\n",
       "    <tr>\n",
       "      <th>dia2</th>\n",
       "      <td>380</td>\n",
       "      <td>20</td>\n",
       "    </tr>\n",
       "    <tr>\n",
       "      <th>dia3</th>\n",
       "      <td>390</td>\n",
       "      <td>27</td>\n",
       "    </tr>\n",
       "  </tbody>\n",
       "</table>\n",
       "</div>"
      ],
      "text/plain": [
       "      sesion  asistencia\n",
       "dia1     420          25\n",
       "dia2     380          20\n",
       "dia3     390          27"
      ]
     },
     "execution_count": 9,
     "metadata": {},
     "output_type": "execute_result"
    }
   ],
   "source": [
    "df = pd.DataFrame(data, index = [\"dia1\", \"dia2\", \"dia3\"])\n",
    "\n",
    "df "
   ]
  },
  {
   "cell_type": "code",
   "execution_count": 10,
   "id": "6b27f989",
   "metadata": {},
   "outputs": [
    {
     "data": {
      "text/html": [
       "<div>\n",
       "<style scoped>\n",
       "    .dataframe tbody tr th:only-of-type {\n",
       "        vertical-align: middle;\n",
       "    }\n",
       "\n",
       "    .dataframe tbody tr th {\n",
       "        vertical-align: top;\n",
       "    }\n",
       "\n",
       "    .dataframe thead th {\n",
       "        text-align: right;\n",
       "    }\n",
       "</style>\n",
       "<table border=\"1\" class=\"dataframe\">\n",
       "  <thead>\n",
       "    <tr style=\"text-align: right;\">\n",
       "      <th></th>\n",
       "      <th>sesion</th>\n",
       "      <th>asistencia</th>\n",
       "    </tr>\n",
       "  </thead>\n",
       "  <tbody>\n",
       "    <tr>\n",
       "      <th>dia1</th>\n",
       "      <td>420</td>\n",
       "      <td>25</td>\n",
       "    </tr>\n",
       "    <tr>\n",
       "      <th>dia2</th>\n",
       "      <td>380</td>\n",
       "      <td>20</td>\n",
       "    </tr>\n",
       "    <tr>\n",
       "      <th>dia3</th>\n",
       "      <td>390</td>\n",
       "      <td>27</td>\n",
       "    </tr>\n",
       "  </tbody>\n",
       "</table>\n",
       "</div>"
      ],
      "text/plain": [
       "      sesion  asistencia\n",
       "dia1     420          25\n",
       "dia2     380          20\n",
       "dia3     390          27"
      ]
     },
     "execution_count": 10,
     "metadata": {},
     "output_type": "execute_result"
    }
   ],
   "source": [
    "df"
   ]
  },
  {
   "cell_type": "markdown",
   "id": "198cec1a",
   "metadata": {},
   "source": [
    "# Refinitiv Python"
   ]
  },
  {
   "cell_type": "markdown",
   "id": "ce4c3fe1",
   "metadata": {},
   "source": [
    "# Extracción de datos estructurados"
   ]
  },
  {
   "cell_type": "markdown",
   "id": "4b52959d",
   "metadata": {},
   "source": [
    "Las funciones básicas para extraer datos de eikon son las siguiente:\n",
    "- get_symbology\n",
    "- get_data\n",
    "- get_timeseries\n",
    "\n",
    "get_symbology(symbol, from_symbol_type='RIC', to_symbol_type=None, raw_output=False, debug=False, bestMatch=True)\n",
    "Devuelve una lista de nombre de instrumentos convertiods en el código del intrumento.\n",
    "\n",
    "get_data(instruments, fields, parameters=None, field_name=False, raw_output=False, debug=False)\n",
    "Devuelve un dataframe de pandas con campos en columnas e intrumentos como índice de renglones.\n",
    "\n",
    "get_timeseries(rics, fields='*', start_date=None, end_date=None, interval='daily', count=None, calendar=None, corax=None, normalize=False, raw_output=False, debug=False)\n",
    "Devuelve series históricas de uno o varios RICs.\n",
    "<br>\n",
    "Referencia: https://docs-developers.refinitiv.com/1594387995587/14684/book/en/eikon/index.html\n",
    "RICs Reuters instrument code"
   ]
  },
  {
   "cell_type": "markdown",
   "id": "42f95495",
   "metadata": {},
   "source": [
    "# Obtener datos"
   ]
  },
  {
   "cell_type": "code",
   "execution_count": 11,
   "id": "7bb540fd",
   "metadata": {},
   "outputs": [],
   "source": [
    "data, err = ek.get_data([\"SPOT.K\", \"IBM\", \"GOOG.O\", \"MSFT.O\"], [\"TR.PriceClose\", \"TR.Volume\", \"TR.PriceLow\", \"TR.TotalReturnYTD\"])"
   ]
  },
  {
   "cell_type": "code",
   "execution_count": 12,
   "id": "26d9d49d",
   "metadata": {},
   "outputs": [
    {
     "data": {
      "text/html": [
       "<div>\n",
       "<style scoped>\n",
       "    .dataframe tbody tr th:only-of-type {\n",
       "        vertical-align: middle;\n",
       "    }\n",
       "\n",
       "    .dataframe tbody tr th {\n",
       "        vertical-align: top;\n",
       "    }\n",
       "\n",
       "    .dataframe thead th {\n",
       "        text-align: right;\n",
       "    }\n",
       "</style>\n",
       "<table border=\"1\" class=\"dataframe\">\n",
       "  <thead>\n",
       "    <tr style=\"text-align: right;\">\n",
       "      <th></th>\n",
       "      <th>Instrument</th>\n",
       "      <th>Price Close</th>\n",
       "      <th>Volume</th>\n",
       "      <th>Price Low</th>\n",
       "      <th>YTD Total Return</th>\n",
       "    </tr>\n",
       "  </thead>\n",
       "  <tbody>\n",
       "    <tr>\n",
       "      <th>0</th>\n",
       "      <td>SPOT.K</td>\n",
       "      <td>131.57</td>\n",
       "      <td>1129296</td>\n",
       "      <td>131.19</td>\n",
       "      <td>66.649778</td>\n",
       "    </tr>\n",
       "    <tr>\n",
       "      <th>1</th>\n",
       "      <td>IBM</td>\n",
       "      <td>140.66</td>\n",
       "      <td>3742058</td>\n",
       "      <td>140.6</td>\n",
       "      <td>3.646567</td>\n",
       "    </tr>\n",
       "    <tr>\n",
       "      <th>2</th>\n",
       "      <td>GOOG.O</td>\n",
       "      <td>130.46</td>\n",
       "      <td>23665562</td>\n",
       "      <td>129.85</td>\n",
       "      <td>47.030317</td>\n",
       "    </tr>\n",
       "    <tr>\n",
       "      <th>3</th>\n",
       "      <td>MSFT.O</td>\n",
       "      <td>316.88</td>\n",
       "      <td>21257161</td>\n",
       "      <td>316.21</td>\n",
       "      <td>33.034668</td>\n",
       "    </tr>\n",
       "  </tbody>\n",
       "</table>\n",
       "</div>"
      ],
      "text/plain": [
       "  Instrument  Price Close    Volume  Price Low  YTD Total Return\n",
       "0     SPOT.K       131.57   1129296     131.19         66.649778\n",
       "1        IBM       140.66   3742058      140.6          3.646567\n",
       "2     GOOG.O       130.46  23665562     129.85         47.030317\n",
       "3     MSFT.O       316.88  21257161     316.21         33.034668"
      ]
     },
     "execution_count": 12,
     "metadata": {},
     "output_type": "execute_result"
    }
   ],
   "source": [
    "data"
   ]
  },
  {
   "cell_type": "code",
   "execution_count": 13,
   "id": "0d47737c",
   "metadata": {},
   "outputs": [
    {
     "data": {
      "text/plain": [
       "pandas.core.frame.DataFrame"
      ]
     },
     "execution_count": 13,
     "metadata": {},
     "output_type": "execute_result"
    }
   ],
   "source": [
    "type(data)"
   ]
  },
  {
   "cell_type": "code",
   "execution_count": 14,
   "id": "cadc4ce3",
   "metadata": {},
   "outputs": [
    {
     "data": {
      "text/plain": [
       "RangeIndex(start=0, stop=4, step=1)"
      ]
     },
     "execution_count": 14,
     "metadata": {},
     "output_type": "execute_result"
    }
   ],
   "source": [
    "data.index"
   ]
  },
  {
   "cell_type": "code",
   "execution_count": null,
   "id": "9f2898b0",
   "metadata": {},
   "outputs": [],
   "source": []
  },
  {
   "cell_type": "markdown",
   "id": "81795762",
   "metadata": {},
   "source": [
    "# Obtener datos de un índice"
   ]
  },
  {
   "cell_type": "code",
   "execution_count": 15,
   "id": "2e09b33a",
   "metadata": {},
   "outputs": [],
   "source": [
    "dax = ek.get_data('0#.GDAXI', fields=['TR.CommonName', 'TR.PriceClose',\n",
    "                                      'TR.Volume', 'TR.TotalReturnYTD'])[0]"
   ]
  },
  {
   "cell_type": "code",
   "execution_count": 16,
   "id": "d9e23858",
   "metadata": {},
   "outputs": [
    {
     "data": {
      "text/html": [
       "<div>\n",
       "<style scoped>\n",
       "    .dataframe tbody tr th:only-of-type {\n",
       "        vertical-align: middle;\n",
       "    }\n",
       "\n",
       "    .dataframe tbody tr th {\n",
       "        vertical-align: top;\n",
       "    }\n",
       "\n",
       "    .dataframe thead th {\n",
       "        text-align: right;\n",
       "    }\n",
       "</style>\n",
       "<table border=\"1\" class=\"dataframe\">\n",
       "  <thead>\n",
       "    <tr style=\"text-align: right;\">\n",
       "      <th></th>\n",
       "      <th>Instrument</th>\n",
       "      <th>Company Common Name</th>\n",
       "      <th>Price Close</th>\n",
       "      <th>Volume</th>\n",
       "      <th>YTD Total Return</th>\n",
       "    </tr>\n",
       "  </thead>\n",
       "  <tbody>\n",
       "    <tr>\n",
       "      <th>0</th>\n",
       "      <td>BASFn.DE</td>\n",
       "      <td>BASF SE</td>\n",
       "      <td>45.555</td>\n",
       "      <td>1785253</td>\n",
       "      <td>5.754354</td>\n",
       "    </tr>\n",
       "    <tr>\n",
       "      <th>1</th>\n",
       "      <td>IFXGn.DE</td>\n",
       "      <td>Infineon Technologies AG</td>\n",
       "      <td>31.995</td>\n",
       "      <td>4566699</td>\n",
       "      <td>14.165032</td>\n",
       "    </tr>\n",
       "    <tr>\n",
       "      <th>2</th>\n",
       "      <td>SIEGn.DE</td>\n",
       "      <td>Siemens AG</td>\n",
       "      <td>134.4</td>\n",
       "      <td>1488881</td>\n",
       "      <td>7.822214</td>\n",
       "    </tr>\n",
       "    <tr>\n",
       "      <th>3</th>\n",
       "      <td>EONGn.DE</td>\n",
       "      <td>E ON SE</td>\n",
       "      <td>11.195</td>\n",
       "      <td>4249350</td>\n",
       "      <td>24.837148</td>\n",
       "    </tr>\n",
       "    <tr>\n",
       "      <th>4</th>\n",
       "      <td>DBKGn.DE</td>\n",
       "      <td>Deutsche Bank AG</td>\n",
       "      <td>9.87</td>\n",
       "      <td>8230173</td>\n",
       "      <td>-3.526533</td>\n",
       "    </tr>\n",
       "    <tr>\n",
       "      <th>5</th>\n",
       "      <td>SATG_p.DE</td>\n",
       "      <td>Sartorius AG</td>\n",
       "      <td>354.2</td>\n",
       "      <td>78284</td>\n",
       "      <td>-0.028677</td>\n",
       "    </tr>\n",
       "    <tr>\n",
       "      <th>6</th>\n",
       "      <td>SAPG.DE</td>\n",
       "      <td>SAP SE</td>\n",
       "      <td>124.18</td>\n",
       "      <td>2249024</td>\n",
       "      <td>30.713026</td>\n",
       "    </tr>\n",
       "    <tr>\n",
       "      <th>7</th>\n",
       "      <td>BAYGn.DE</td>\n",
       "      <td>Bayer AG</td>\n",
       "      <td>50.32</td>\n",
       "      <td>2365030</td>\n",
       "      <td>10.675026</td>\n",
       "    </tr>\n",
       "    <tr>\n",
       "      <th>8</th>\n",
       "      <td>RWEG.DE</td>\n",
       "      <td>RWE AG</td>\n",
       "      <td>38.35</td>\n",
       "      <td>1333331</td>\n",
       "      <td>-5.469801</td>\n",
       "    </tr>\n",
       "    <tr>\n",
       "      <th>9</th>\n",
       "      <td>1COV.DE</td>\n",
       "      <td>Covestro AG</td>\n",
       "      <td>47.9</td>\n",
       "      <td>582288</td>\n",
       "      <td>33.077975</td>\n",
       "    </tr>\n",
       "    <tr>\n",
       "      <th>10</th>\n",
       "      <td>HNKG_p.DE</td>\n",
       "      <td>Henkel AG &amp; Co KGaA</td>\n",
       "      <td>71.98</td>\n",
       "      <td>511944</td>\n",
       "      <td>13.647668</td>\n",
       "    </tr>\n",
       "    <tr>\n",
       "      <th>11</th>\n",
       "      <td>ZALG.DE</td>\n",
       "      <td>Zalando SE</td>\n",
       "      <td>26.46</td>\n",
       "      <td>845107</td>\n",
       "      <td>-17.034129</td>\n",
       "    </tr>\n",
       "    <tr>\n",
       "      <th>12</th>\n",
       "      <td>DTEGn.DE</td>\n",
       "      <td>Deutsche Telekom AG</td>\n",
       "      <td>19.008</td>\n",
       "      <td>5260853</td>\n",
       "      <td>5.177214</td>\n",
       "    </tr>\n",
       "    <tr>\n",
       "      <th>13</th>\n",
       "      <td>MRCG.DE</td>\n",
       "      <td>Merck KGaA</td>\n",
       "      <td>159.05</td>\n",
       "      <td>195673</td>\n",
       "      <td>-10.220541</td>\n",
       "    </tr>\n",
       "    <tr>\n",
       "      <th>14</th>\n",
       "      <td>PSHG_p.DE</td>\n",
       "      <td>Porsche Automobil Holding SE</td>\n",
       "      <td>48.98</td>\n",
       "      <td>1266728</td>\n",
       "      <td>1.629239</td>\n",
       "    </tr>\n",
       "    <tr>\n",
       "      <th>15</th>\n",
       "      <td>VOWG_p.DE</td>\n",
       "      <td>Volkswagen AG</td>\n",
       "      <td>114.46</td>\n",
       "      <td>780826</td>\n",
       "      <td>5.736381</td>\n",
       "    </tr>\n",
       "    <tr>\n",
       "      <th>16</th>\n",
       "      <td>BMWG.DE</td>\n",
       "      <td>Bayerische Motoren Werke AG</td>\n",
       "      <td>98.25</td>\n",
       "      <td>852110</td>\n",
       "      <td>29.015943</td>\n",
       "    </tr>\n",
       "    <tr>\n",
       "      <th>17</th>\n",
       "      <td>BEIG.DE</td>\n",
       "      <td>Beiersdorf AG</td>\n",
       "      <td>119.5</td>\n",
       "      <td>217509</td>\n",
       "      <td>12.590574</td>\n",
       "    </tr>\n",
       "    <tr>\n",
       "      <th>18</th>\n",
       "      <td>HEIG.DE</td>\n",
       "      <td>Heidelberg Materials AG</td>\n",
       "      <td>76.32</td>\n",
       "      <td>484373</td>\n",
       "      <td>49.714037</td>\n",
       "    </tr>\n",
       "    <tr>\n",
       "      <th>19</th>\n",
       "      <td>RHMG.DE</td>\n",
       "      <td>Rheinmetall AG</td>\n",
       "      <td>249.4</td>\n",
       "      <td>149875</td>\n",
       "      <td>35.145821</td>\n",
       "    </tr>\n",
       "    <tr>\n",
       "      <th>20</th>\n",
       "      <td>MTXGn.DE</td>\n",
       "      <td>MTU Aero Engines AG</td>\n",
       "      <td>201.7</td>\n",
       "      <td>97053</td>\n",
       "      <td>1.799783</td>\n",
       "    </tr>\n",
       "    <tr>\n",
       "      <th>21</th>\n",
       "      <td>FREG.DE</td>\n",
       "      <td>Fresenius SE &amp; Co KGaA</td>\n",
       "      <td>29.18</td>\n",
       "      <td>1013649</td>\n",
       "      <td>15.837397</td>\n",
       "    </tr>\n",
       "    <tr>\n",
       "      <th>22</th>\n",
       "      <td>DHLn.DE</td>\n",
       "      <td>Deutsche Post AG</td>\n",
       "      <td>42.905</td>\n",
       "      <td>2104730</td>\n",
       "      <td>28.57828</td>\n",
       "    </tr>\n",
       "    <tr>\n",
       "      <th>23</th>\n",
       "      <td>ALVG.DE</td>\n",
       "      <td>Allianz SE</td>\n",
       "      <td>221.15</td>\n",
       "      <td>723473</td>\n",
       "      <td>16.309975</td>\n",
       "    </tr>\n",
       "    <tr>\n",
       "      <th>24</th>\n",
       "      <td>MUVGn.DE</td>\n",
       "      <td>Muenchener Rueckversicherungs Gesellschaft in ...</td>\n",
       "      <td>355.3</td>\n",
       "      <td>248519</td>\n",
       "      <td>21.864902</td>\n",
       "    </tr>\n",
       "    <tr>\n",
       "      <th>25</th>\n",
       "      <td>CONG.DE</td>\n",
       "      <td>Continental AG</td>\n",
       "      <td>65.8</td>\n",
       "      <td>225774</td>\n",
       "      <td>20.760929</td>\n",
       "    </tr>\n",
       "    <tr>\n",
       "      <th>26</th>\n",
       "      <td>SHLG.DE</td>\n",
       "      <td>Siemens Healthineers AG</td>\n",
       "      <td>45.51</td>\n",
       "      <td>608645</td>\n",
       "      <td>0.495456</td>\n",
       "    </tr>\n",
       "    <tr>\n",
       "      <th>27</th>\n",
       "      <td>SY1G.DE</td>\n",
       "      <td>Symrise AG</td>\n",
       "      <td>88.52</td>\n",
       "      <td>223938</td>\n",
       "      <td>-11.143179</td>\n",
       "    </tr>\n",
       "    <tr>\n",
       "      <th>28</th>\n",
       "      <td>ADSGn.DE</td>\n",
       "      <td>Adidas AG</td>\n",
       "      <td>183.6</td>\n",
       "      <td>449752</td>\n",
       "      <td>45.759933</td>\n",
       "    </tr>\n",
       "    <tr>\n",
       "      <th>29</th>\n",
       "      <td>HNRGn.DE</td>\n",
       "      <td>Hannover Rueck SE</td>\n",
       "      <td>194.75</td>\n",
       "      <td>96832</td>\n",
       "      <td>10.026046</td>\n",
       "    </tr>\n",
       "    <tr>\n",
       "      <th>30</th>\n",
       "      <td>DTGGe.DE</td>\n",
       "      <td>Daimler Truck Holding AG</td>\n",
       "      <td>33.25</td>\n",
       "      <td>1334136</td>\n",
       "      <td>20.572014</td>\n",
       "    </tr>\n",
       "    <tr>\n",
       "      <th>31</th>\n",
       "      <td>ENR1n.DE</td>\n",
       "      <td>Siemens Energy AG</td>\n",
       "      <td>13.12</td>\n",
       "      <td>3328432</td>\n",
       "      <td>-23.470839</td>\n",
       "    </tr>\n",
       "    <tr>\n",
       "      <th>32</th>\n",
       "      <td>MBGn.DE</td>\n",
       "      <td>Mercedes Benz Group AG</td>\n",
       "      <td>67.02</td>\n",
       "      <td>2654962</td>\n",
       "      <td>18.756708</td>\n",
       "    </tr>\n",
       "    <tr>\n",
       "      <th>33</th>\n",
       "      <td>BNRGn.DE</td>\n",
       "      <td>Brenntag SE</td>\n",
       "      <td>71.58</td>\n",
       "      <td>428527</td>\n",
       "      <td>23.359018</td>\n",
       "    </tr>\n",
       "    <tr>\n",
       "      <th>34</th>\n",
       "      <td>CBKG.DE</td>\n",
       "      <td>Commerzbank AG</td>\n",
       "      <td>10.055</td>\n",
       "      <td>4763362</td>\n",
       "      <td>17.761293</td>\n",
       "    </tr>\n",
       "    <tr>\n",
       "      <th>35</th>\n",
       "      <td>AIRG.DE</td>\n",
       "      <td>Airbus SE</td>\n",
       "      <td>126.66</td>\n",
       "      <td>312356</td>\n",
       "      <td>16.164502</td>\n",
       "    </tr>\n",
       "    <tr>\n",
       "      <th>36</th>\n",
       "      <td>VNAn.DE</td>\n",
       "      <td>Vonovia SE</td>\n",
       "      <td>19.75</td>\n",
       "      <td>2521783</td>\n",
       "      <td>-4.059412</td>\n",
       "    </tr>\n",
       "    <tr>\n",
       "      <th>37</th>\n",
       "      <td>DB1Gn.DE</td>\n",
       "      <td>Deutsche Boerse AG</td>\n",
       "      <td>162.95</td>\n",
       "      <td>278297</td>\n",
       "      <td>3.730894</td>\n",
       "    </tr>\n",
       "    <tr>\n",
       "      <th>38</th>\n",
       "      <td>QIA.DE</td>\n",
       "      <td>Qiagen NV</td>\n",
       "      <td>39.57</td>\n",
       "      <td>535916</td>\n",
       "      <td>-16.081685</td>\n",
       "    </tr>\n",
       "    <tr>\n",
       "      <th>39</th>\n",
       "      <td>P911_p.DE</td>\n",
       "      <td>Dr Ing hc F Porsche AG</td>\n",
       "      <td>102.1</td>\n",
       "      <td>466102</td>\n",
       "      <td>10.909447</td>\n",
       "    </tr>\n",
       "  </tbody>\n",
       "</table>\n",
       "</div>"
      ],
      "text/plain": [
       "   Instrument                                Company Common Name  Price Close   \n",
       "0    BASFn.DE                                            BASF SE       45.555  \\\n",
       "1    IFXGn.DE                           Infineon Technologies AG       31.995   \n",
       "2    SIEGn.DE                                         Siemens AG        134.4   \n",
       "3    EONGn.DE                                            E ON SE       11.195   \n",
       "4    DBKGn.DE                                   Deutsche Bank AG         9.87   \n",
       "5   SATG_p.DE                                       Sartorius AG        354.2   \n",
       "6     SAPG.DE                                             SAP SE       124.18   \n",
       "7    BAYGn.DE                                           Bayer AG        50.32   \n",
       "8     RWEG.DE                                             RWE AG        38.35   \n",
       "9     1COV.DE                                        Covestro AG         47.9   \n",
       "10  HNKG_p.DE                                Henkel AG & Co KGaA        71.98   \n",
       "11    ZALG.DE                                         Zalando SE        26.46   \n",
       "12   DTEGn.DE                                Deutsche Telekom AG       19.008   \n",
       "13    MRCG.DE                                         Merck KGaA       159.05   \n",
       "14  PSHG_p.DE                       Porsche Automobil Holding SE        48.98   \n",
       "15  VOWG_p.DE                                      Volkswagen AG       114.46   \n",
       "16    BMWG.DE                        Bayerische Motoren Werke AG        98.25   \n",
       "17    BEIG.DE                                      Beiersdorf AG        119.5   \n",
       "18    HEIG.DE                            Heidelberg Materials AG        76.32   \n",
       "19    RHMG.DE                                     Rheinmetall AG        249.4   \n",
       "20   MTXGn.DE                                MTU Aero Engines AG        201.7   \n",
       "21    FREG.DE                             Fresenius SE & Co KGaA        29.18   \n",
       "22    DHLn.DE                                   Deutsche Post AG       42.905   \n",
       "23    ALVG.DE                                         Allianz SE       221.15   \n",
       "24   MUVGn.DE  Muenchener Rueckversicherungs Gesellschaft in ...        355.3   \n",
       "25    CONG.DE                                     Continental AG         65.8   \n",
       "26    SHLG.DE                            Siemens Healthineers AG        45.51   \n",
       "27    SY1G.DE                                         Symrise AG        88.52   \n",
       "28   ADSGn.DE                                          Adidas AG        183.6   \n",
       "29   HNRGn.DE                                  Hannover Rueck SE       194.75   \n",
       "30   DTGGe.DE                           Daimler Truck Holding AG        33.25   \n",
       "31   ENR1n.DE                                  Siemens Energy AG        13.12   \n",
       "32    MBGn.DE                             Mercedes Benz Group AG        67.02   \n",
       "33   BNRGn.DE                                        Brenntag SE        71.58   \n",
       "34    CBKG.DE                                     Commerzbank AG       10.055   \n",
       "35    AIRG.DE                                          Airbus SE       126.66   \n",
       "36    VNAn.DE                                         Vonovia SE        19.75   \n",
       "37   DB1Gn.DE                                 Deutsche Boerse AG       162.95   \n",
       "38     QIA.DE                                          Qiagen NV        39.57   \n",
       "39  P911_p.DE                             Dr Ing hc F Porsche AG        102.1   \n",
       "\n",
       "     Volume  YTD Total Return  \n",
       "0   1785253          5.754354  \n",
       "1   4566699         14.165032  \n",
       "2   1488881          7.822214  \n",
       "3   4249350         24.837148  \n",
       "4   8230173         -3.526533  \n",
       "5     78284         -0.028677  \n",
       "6   2249024         30.713026  \n",
       "7   2365030         10.675026  \n",
       "8   1333331         -5.469801  \n",
       "9    582288         33.077975  \n",
       "10   511944         13.647668  \n",
       "11   845107        -17.034129  \n",
       "12  5260853          5.177214  \n",
       "13   195673        -10.220541  \n",
       "14  1266728          1.629239  \n",
       "15   780826          5.736381  \n",
       "16   852110         29.015943  \n",
       "17   217509         12.590574  \n",
       "18   484373         49.714037  \n",
       "19   149875         35.145821  \n",
       "20    97053          1.799783  \n",
       "21  1013649         15.837397  \n",
       "22  2104730          28.57828  \n",
       "23   723473         16.309975  \n",
       "24   248519         21.864902  \n",
       "25   225774         20.760929  \n",
       "26   608645          0.495456  \n",
       "27   223938        -11.143179  \n",
       "28   449752         45.759933  \n",
       "29    96832         10.026046  \n",
       "30  1334136         20.572014  \n",
       "31  3328432        -23.470839  \n",
       "32  2654962         18.756708  \n",
       "33   428527         23.359018  \n",
       "34  4763362         17.761293  \n",
       "35   312356         16.164502  \n",
       "36  2521783         -4.059412  \n",
       "37   278297          3.730894  \n",
       "38   535916        -16.081685  \n",
       "39   466102         10.909447  "
      ]
     },
     "execution_count": 16,
     "metadata": {},
     "output_type": "execute_result"
    }
   ],
   "source": [
    "dax"
   ]
  },
  {
   "cell_type": "code",
   "execution_count": 17,
   "id": "b897c1a9",
   "metadata": {},
   "outputs": [
    {
     "data": {
      "text/html": [
       "<div>\n",
       "<style scoped>\n",
       "    .dataframe tbody tr th:only-of-type {\n",
       "        vertical-align: middle;\n",
       "    }\n",
       "\n",
       "    .dataframe tbody tr th {\n",
       "        vertical-align: top;\n",
       "    }\n",
       "\n",
       "    .dataframe thead th {\n",
       "        text-align: right;\n",
       "    }\n",
       "</style>\n",
       "<table border=\"1\" class=\"dataframe\">\n",
       "  <thead>\n",
       "    <tr style=\"text-align: right;\">\n",
       "      <th></th>\n",
       "      <th>Instrument</th>\n",
       "      <th>Company Common Name</th>\n",
       "      <th>Price Close</th>\n",
       "      <th>Volume</th>\n",
       "      <th>YTD Total Return</th>\n",
       "    </tr>\n",
       "  </thead>\n",
       "  <tbody>\n",
       "    <tr>\n",
       "      <th>0</th>\n",
       "      <td>BASFn.DE</td>\n",
       "      <td>BASF SE</td>\n",
       "      <td>45.555</td>\n",
       "      <td>1785253</td>\n",
       "      <td>5.754354</td>\n",
       "    </tr>\n",
       "    <tr>\n",
       "      <th>1</th>\n",
       "      <td>IFXGn.DE</td>\n",
       "      <td>Infineon Technologies AG</td>\n",
       "      <td>31.995</td>\n",
       "      <td>4566699</td>\n",
       "      <td>14.165032</td>\n",
       "    </tr>\n",
       "    <tr>\n",
       "      <th>2</th>\n",
       "      <td>SIEGn.DE</td>\n",
       "      <td>Siemens AG</td>\n",
       "      <td>134.4</td>\n",
       "      <td>1488881</td>\n",
       "      <td>7.822214</td>\n",
       "    </tr>\n",
       "    <tr>\n",
       "      <th>3</th>\n",
       "      <td>EONGn.DE</td>\n",
       "      <td>E ON SE</td>\n",
       "      <td>11.195</td>\n",
       "      <td>4249350</td>\n",
       "      <td>24.837148</td>\n",
       "    </tr>\n",
       "    <tr>\n",
       "      <th>4</th>\n",
       "      <td>DBKGn.DE</td>\n",
       "      <td>Deutsche Bank AG</td>\n",
       "      <td>9.87</td>\n",
       "      <td>8230173</td>\n",
       "      <td>-3.526533</td>\n",
       "    </tr>\n",
       "  </tbody>\n",
       "</table>\n",
       "</div>"
      ],
      "text/plain": [
       "  Instrument       Company Common Name  Price Close   Volume  YTD Total Return\n",
       "0   BASFn.DE                   BASF SE       45.555  1785253          5.754354\n",
       "1   IFXGn.DE  Infineon Technologies AG       31.995  4566699         14.165032\n",
       "2   SIEGn.DE                Siemens AG        134.4  1488881          7.822214\n",
       "3   EONGn.DE                   E ON SE       11.195  4249350         24.837148\n",
       "4   DBKGn.DE          Deutsche Bank AG         9.87  8230173         -3.526533"
      ]
     },
     "execution_count": 17,
     "metadata": {},
     "output_type": "execute_result"
    }
   ],
   "source": [
    "dax[0:5]"
   ]
  },
  {
   "cell_type": "code",
   "execution_count": 18,
   "id": "89c1f46a",
   "metadata": {},
   "outputs": [
    {
     "data": {
      "text/plain": [
       "Instrument\n",
       "BASFn.DE      5.754354\n",
       "IFXGn.DE     14.165032\n",
       "SIEGn.DE      7.822214\n",
       "EONGn.DE     24.837148\n",
       "DBKGn.DE     -3.526533\n",
       "SATG_p.DE    -0.028677\n",
       "SAPG.DE      30.713026\n",
       "BAYGn.DE     10.675026\n",
       "RWEG.DE      -5.469801\n",
       "1COV.DE      33.077975\n",
       "HNKG_p.DE    13.647668\n",
       "ZALG.DE     -17.034129\n",
       "DTEGn.DE      5.177214\n",
       "MRCG.DE     -10.220541\n",
       "PSHG_p.DE     1.629239\n",
       "VOWG_p.DE     5.736381\n",
       "BMWG.DE      29.015943\n",
       "BEIG.DE      12.590574\n",
       "HEIG.DE      49.714037\n",
       "RHMG.DE      35.145821\n",
       "MTXGn.DE      1.799783\n",
       "FREG.DE      15.837397\n",
       "DHLn.DE       28.57828\n",
       "ALVG.DE      16.309975\n",
       "MUVGn.DE     21.864902\n",
       "CONG.DE      20.760929\n",
       "SHLG.DE       0.495456\n",
       "SY1G.DE     -11.143179\n",
       "ADSGn.DE     45.759933\n",
       "HNRGn.DE     10.026046\n",
       "DTGGe.DE     20.572014\n",
       "ENR1n.DE    -23.470839\n",
       "MBGn.DE      18.756708\n",
       "BNRGn.DE     23.359018\n",
       "CBKG.DE      17.761293\n",
       "AIRG.DE      16.164502\n",
       "VNAn.DE      -4.059412\n",
       "DB1Gn.DE      3.730894\n",
       "QIA.DE      -16.081685\n",
       "P911_p.DE    10.909447\n",
       "Name: YTD Total Return, dtype: Float64"
      ]
     },
     "execution_count": 18,
     "metadata": {},
     "output_type": "execute_result"
    }
   ],
   "source": [
    "dax.set_index('Instrument')['YTD Total Return']"
   ]
  },
  {
   "cell_type": "code",
   "execution_count": 19,
   "id": "f586f060",
   "metadata": {},
   "outputs": [
    {
     "data": {
      "application/vnd.plotly.v1+json": {
       "config": {
        "linkText": "Export to plot.ly",
        "plotlyServerURL": "https://plot.ly",
        "showLink": true
       },
       "data": [
        {
         "marker": {
          "color": "rgba(55, 128, 191, 0.6)",
          "line": {
           "color": "rgba(55, 128, 191, 1.0)",
           "width": 1
          }
         },
         "name": "YTD Total Return",
         "orientation": "v",
         "text": "",
         "type": "bar",
         "x": [
          "ENR1n.DE",
          "ZALG.DE",
          "QIA.DE",
          "SY1G.DE",
          "MRCG.DE",
          "RWEG.DE",
          "VNAn.DE",
          "DBKGn.DE",
          "SATG_p.DE",
          "SHLG.DE",
          "PSHG_p.DE",
          "MTXGn.DE",
          "DB1Gn.DE",
          "DTEGn.DE",
          "VOWG_p.DE",
          "BASFn.DE",
          "SIEGn.DE",
          "HNRGn.DE",
          "BAYGn.DE",
          "P911_p.DE",
          "BEIG.DE",
          "HNKG_p.DE",
          "IFXGn.DE",
          "FREG.DE",
          "AIRG.DE",
          "ALVG.DE",
          "CBKG.DE",
          "MBGn.DE",
          "DTGGe.DE",
          "CONG.DE",
          "MUVGn.DE",
          "BNRGn.DE",
          "EONGn.DE",
          "DHLn.DE",
          "BMWG.DE",
          "SAPG.DE",
          "1COV.DE",
          "RHMG.DE",
          "ADSGn.DE",
          "HEIG.DE"
         ],
         "y": [
          -23.470839260313,
          -17.0341286620356,
          -16.0816847479259,
          -11.1431793415083,
          -10.2205409589443,
          -5.46980111116057,
          -4.059411845955,
          -3.52653328543903,
          -0.028677332413118,
          0.495456177989606,
          1.6292386753763,
          1.79978280868502,
          3.73089351012428,
          5.17721431237168,
          5.73638110690087,
          5.75435446724137,
          7.82221360419726,
          10.0260456101033,
          10.6750259569713,
          10.9094467561211,
          12.5905741004523,
          13.647668244709,
          14.1650321211467,
          15.8373966615766,
          16.1645024950011,
          16.3099751050809,
          17.7612932012054,
          18.7567076644861,
          20.5720140667618,
          20.760928605736,
          21.8649015249295,
          23.3590180048071,
          24.8371477265987,
          28.5782797213478,
          29.0159434064674,
          30.7130261955263,
          33.0779753761969,
          35.1458211791027,
          45.7599327544052,
          49.7140366458547
         ]
        }
       ],
       "layout": {
        "legend": {
         "bgcolor": "#F5F6F9",
         "font": {
          "color": "#4D5663"
         }
        },
        "paper_bgcolor": "#F5F6F9",
        "plot_bgcolor": "#F5F6F9",
        "template": {
         "data": {
          "bar": [
           {
            "error_x": {
             "color": "#2a3f5f"
            },
            "error_y": {
             "color": "#2a3f5f"
            },
            "marker": {
             "line": {
              "color": "#E5ECF6",
              "width": 0.5
             },
             "pattern": {
              "fillmode": "overlay",
              "size": 10,
              "solidity": 0.2
             }
            },
            "type": "bar"
           }
          ],
          "barpolar": [
           {
            "marker": {
             "line": {
              "color": "#E5ECF6",
              "width": 0.5
             },
             "pattern": {
              "fillmode": "overlay",
              "size": 10,
              "solidity": 0.2
             }
            },
            "type": "barpolar"
           }
          ],
          "carpet": [
           {
            "aaxis": {
             "endlinecolor": "#2a3f5f",
             "gridcolor": "white",
             "linecolor": "white",
             "minorgridcolor": "white",
             "startlinecolor": "#2a3f5f"
            },
            "baxis": {
             "endlinecolor": "#2a3f5f",
             "gridcolor": "white",
             "linecolor": "white",
             "minorgridcolor": "white",
             "startlinecolor": "#2a3f5f"
            },
            "type": "carpet"
           }
          ],
          "choropleth": [
           {
            "colorbar": {
             "outlinewidth": 0,
             "ticks": ""
            },
            "type": "choropleth"
           }
          ],
          "contour": [
           {
            "colorbar": {
             "outlinewidth": 0,
             "ticks": ""
            },
            "colorscale": [
             [
              0,
              "#0d0887"
             ],
             [
              0.1111111111111111,
              "#46039f"
             ],
             [
              0.2222222222222222,
              "#7201a8"
             ],
             [
              0.3333333333333333,
              "#9c179e"
             ],
             [
              0.4444444444444444,
              "#bd3786"
             ],
             [
              0.5555555555555556,
              "#d8576b"
             ],
             [
              0.6666666666666666,
              "#ed7953"
             ],
             [
              0.7777777777777778,
              "#fb9f3a"
             ],
             [
              0.8888888888888888,
              "#fdca26"
             ],
             [
              1,
              "#f0f921"
             ]
            ],
            "type": "contour"
           }
          ],
          "contourcarpet": [
           {
            "colorbar": {
             "outlinewidth": 0,
             "ticks": ""
            },
            "type": "contourcarpet"
           }
          ],
          "heatmap": [
           {
            "colorbar": {
             "outlinewidth": 0,
             "ticks": ""
            },
            "colorscale": [
             [
              0,
              "#0d0887"
             ],
             [
              0.1111111111111111,
              "#46039f"
             ],
             [
              0.2222222222222222,
              "#7201a8"
             ],
             [
              0.3333333333333333,
              "#9c179e"
             ],
             [
              0.4444444444444444,
              "#bd3786"
             ],
             [
              0.5555555555555556,
              "#d8576b"
             ],
             [
              0.6666666666666666,
              "#ed7953"
             ],
             [
              0.7777777777777778,
              "#fb9f3a"
             ],
             [
              0.8888888888888888,
              "#fdca26"
             ],
             [
              1,
              "#f0f921"
             ]
            ],
            "type": "heatmap"
           }
          ],
          "heatmapgl": [
           {
            "colorbar": {
             "outlinewidth": 0,
             "ticks": ""
            },
            "colorscale": [
             [
              0,
              "#0d0887"
             ],
             [
              0.1111111111111111,
              "#46039f"
             ],
             [
              0.2222222222222222,
              "#7201a8"
             ],
             [
              0.3333333333333333,
              "#9c179e"
             ],
             [
              0.4444444444444444,
              "#bd3786"
             ],
             [
              0.5555555555555556,
              "#d8576b"
             ],
             [
              0.6666666666666666,
              "#ed7953"
             ],
             [
              0.7777777777777778,
              "#fb9f3a"
             ],
             [
              0.8888888888888888,
              "#fdca26"
             ],
             [
              1,
              "#f0f921"
             ]
            ],
            "type": "heatmapgl"
           }
          ],
          "histogram": [
           {
            "marker": {
             "pattern": {
              "fillmode": "overlay",
              "size": 10,
              "solidity": 0.2
             }
            },
            "type": "histogram"
           }
          ],
          "histogram2d": [
           {
            "colorbar": {
             "outlinewidth": 0,
             "ticks": ""
            },
            "colorscale": [
             [
              0,
              "#0d0887"
             ],
             [
              0.1111111111111111,
              "#46039f"
             ],
             [
              0.2222222222222222,
              "#7201a8"
             ],
             [
              0.3333333333333333,
              "#9c179e"
             ],
             [
              0.4444444444444444,
              "#bd3786"
             ],
             [
              0.5555555555555556,
              "#d8576b"
             ],
             [
              0.6666666666666666,
              "#ed7953"
             ],
             [
              0.7777777777777778,
              "#fb9f3a"
             ],
             [
              0.8888888888888888,
              "#fdca26"
             ],
             [
              1,
              "#f0f921"
             ]
            ],
            "type": "histogram2d"
           }
          ],
          "histogram2dcontour": [
           {
            "colorbar": {
             "outlinewidth": 0,
             "ticks": ""
            },
            "colorscale": [
             [
              0,
              "#0d0887"
             ],
             [
              0.1111111111111111,
              "#46039f"
             ],
             [
              0.2222222222222222,
              "#7201a8"
             ],
             [
              0.3333333333333333,
              "#9c179e"
             ],
             [
              0.4444444444444444,
              "#bd3786"
             ],
             [
              0.5555555555555556,
              "#d8576b"
             ],
             [
              0.6666666666666666,
              "#ed7953"
             ],
             [
              0.7777777777777778,
              "#fb9f3a"
             ],
             [
              0.8888888888888888,
              "#fdca26"
             ],
             [
              1,
              "#f0f921"
             ]
            ],
            "type": "histogram2dcontour"
           }
          ],
          "mesh3d": [
           {
            "colorbar": {
             "outlinewidth": 0,
             "ticks": ""
            },
            "type": "mesh3d"
           }
          ],
          "parcoords": [
           {
            "line": {
             "colorbar": {
              "outlinewidth": 0,
              "ticks": ""
             }
            },
            "type": "parcoords"
           }
          ],
          "pie": [
           {
            "automargin": true,
            "type": "pie"
           }
          ],
          "scatter": [
           {
            "fillpattern": {
             "fillmode": "overlay",
             "size": 10,
             "solidity": 0.2
            },
            "type": "scatter"
           }
          ],
          "scatter3d": [
           {
            "line": {
             "colorbar": {
              "outlinewidth": 0,
              "ticks": ""
             }
            },
            "marker": {
             "colorbar": {
              "outlinewidth": 0,
              "ticks": ""
             }
            },
            "type": "scatter3d"
           }
          ],
          "scattercarpet": [
           {
            "marker": {
             "colorbar": {
              "outlinewidth": 0,
              "ticks": ""
             }
            },
            "type": "scattercarpet"
           }
          ],
          "scattergeo": [
           {
            "marker": {
             "colorbar": {
              "outlinewidth": 0,
              "ticks": ""
             }
            },
            "type": "scattergeo"
           }
          ],
          "scattergl": [
           {
            "marker": {
             "colorbar": {
              "outlinewidth": 0,
              "ticks": ""
             }
            },
            "type": "scattergl"
           }
          ],
          "scattermapbox": [
           {
            "marker": {
             "colorbar": {
              "outlinewidth": 0,
              "ticks": ""
             }
            },
            "type": "scattermapbox"
           }
          ],
          "scatterpolar": [
           {
            "marker": {
             "colorbar": {
              "outlinewidth": 0,
              "ticks": ""
             }
            },
            "type": "scatterpolar"
           }
          ],
          "scatterpolargl": [
           {
            "marker": {
             "colorbar": {
              "outlinewidth": 0,
              "ticks": ""
             }
            },
            "type": "scatterpolargl"
           }
          ],
          "scatterternary": [
           {
            "marker": {
             "colorbar": {
              "outlinewidth": 0,
              "ticks": ""
             }
            },
            "type": "scatterternary"
           }
          ],
          "surface": [
           {
            "colorbar": {
             "outlinewidth": 0,
             "ticks": ""
            },
            "colorscale": [
             [
              0,
              "#0d0887"
             ],
             [
              0.1111111111111111,
              "#46039f"
             ],
             [
              0.2222222222222222,
              "#7201a8"
             ],
             [
              0.3333333333333333,
              "#9c179e"
             ],
             [
              0.4444444444444444,
              "#bd3786"
             ],
             [
              0.5555555555555556,
              "#d8576b"
             ],
             [
              0.6666666666666666,
              "#ed7953"
             ],
             [
              0.7777777777777778,
              "#fb9f3a"
             ],
             [
              0.8888888888888888,
              "#fdca26"
             ],
             [
              1,
              "#f0f921"
             ]
            ],
            "type": "surface"
           }
          ],
          "table": [
           {
            "cells": {
             "fill": {
              "color": "#EBF0F8"
             },
             "line": {
              "color": "white"
             }
            },
            "header": {
             "fill": {
              "color": "#C8D4E3"
             },
             "line": {
              "color": "white"
             }
            },
            "type": "table"
           }
          ]
         },
         "layout": {
          "annotationdefaults": {
           "arrowcolor": "#2a3f5f",
           "arrowhead": 0,
           "arrowwidth": 1
          },
          "autotypenumbers": "strict",
          "coloraxis": {
           "colorbar": {
            "outlinewidth": 0,
            "ticks": ""
           }
          },
          "colorscale": {
           "diverging": [
            [
             0,
             "#8e0152"
            ],
            [
             0.1,
             "#c51b7d"
            ],
            [
             0.2,
             "#de77ae"
            ],
            [
             0.3,
             "#f1b6da"
            ],
            [
             0.4,
             "#fde0ef"
            ],
            [
             0.5,
             "#f7f7f7"
            ],
            [
             0.6,
             "#e6f5d0"
            ],
            [
             0.7,
             "#b8e186"
            ],
            [
             0.8,
             "#7fbc41"
            ],
            [
             0.9,
             "#4d9221"
            ],
            [
             1,
             "#276419"
            ]
           ],
           "sequential": [
            [
             0,
             "#0d0887"
            ],
            [
             0.1111111111111111,
             "#46039f"
            ],
            [
             0.2222222222222222,
             "#7201a8"
            ],
            [
             0.3333333333333333,
             "#9c179e"
            ],
            [
             0.4444444444444444,
             "#bd3786"
            ],
            [
             0.5555555555555556,
             "#d8576b"
            ],
            [
             0.6666666666666666,
             "#ed7953"
            ],
            [
             0.7777777777777778,
             "#fb9f3a"
            ],
            [
             0.8888888888888888,
             "#fdca26"
            ],
            [
             1,
             "#f0f921"
            ]
           ],
           "sequentialminus": [
            [
             0,
             "#0d0887"
            ],
            [
             0.1111111111111111,
             "#46039f"
            ],
            [
             0.2222222222222222,
             "#7201a8"
            ],
            [
             0.3333333333333333,
             "#9c179e"
            ],
            [
             0.4444444444444444,
             "#bd3786"
            ],
            [
             0.5555555555555556,
             "#d8576b"
            ],
            [
             0.6666666666666666,
             "#ed7953"
            ],
            [
             0.7777777777777778,
             "#fb9f3a"
            ],
            [
             0.8888888888888888,
             "#fdca26"
            ],
            [
             1,
             "#f0f921"
            ]
           ]
          },
          "colorway": [
           "#636efa",
           "#EF553B",
           "#00cc96",
           "#ab63fa",
           "#FFA15A",
           "#19d3f3",
           "#FF6692",
           "#B6E880",
           "#FF97FF",
           "#FECB52"
          ],
          "font": {
           "color": "#2a3f5f"
          },
          "geo": {
           "bgcolor": "white",
           "lakecolor": "white",
           "landcolor": "#E5ECF6",
           "showlakes": true,
           "showland": true,
           "subunitcolor": "white"
          },
          "hoverlabel": {
           "align": "left"
          },
          "hovermode": "closest",
          "mapbox": {
           "style": "light"
          },
          "paper_bgcolor": "white",
          "plot_bgcolor": "#E5ECF6",
          "polar": {
           "angularaxis": {
            "gridcolor": "white",
            "linecolor": "white",
            "ticks": ""
           },
           "bgcolor": "#E5ECF6",
           "radialaxis": {
            "gridcolor": "white",
            "linecolor": "white",
            "ticks": ""
           }
          },
          "scene": {
           "xaxis": {
            "backgroundcolor": "#E5ECF6",
            "gridcolor": "white",
            "gridwidth": 2,
            "linecolor": "white",
            "showbackground": true,
            "ticks": "",
            "zerolinecolor": "white"
           },
           "yaxis": {
            "backgroundcolor": "#E5ECF6",
            "gridcolor": "white",
            "gridwidth": 2,
            "linecolor": "white",
            "showbackground": true,
            "ticks": "",
            "zerolinecolor": "white"
           },
           "zaxis": {
            "backgroundcolor": "#E5ECF6",
            "gridcolor": "white",
            "gridwidth": 2,
            "linecolor": "white",
            "showbackground": true,
            "ticks": "",
            "zerolinecolor": "white"
           }
          },
          "shapedefaults": {
           "line": {
            "color": "#2a3f5f"
           }
          },
          "ternary": {
           "aaxis": {
            "gridcolor": "white",
            "linecolor": "white",
            "ticks": ""
           },
           "baxis": {
            "gridcolor": "white",
            "linecolor": "white",
            "ticks": ""
           },
           "bgcolor": "#E5ECF6",
           "caxis": {
            "gridcolor": "white",
            "linecolor": "white",
            "ticks": ""
           }
          },
          "title": {
           "x": 0.05
          },
          "xaxis": {
           "automargin": true,
           "gridcolor": "white",
           "linecolor": "white",
           "ticks": "",
           "title": {
            "standoff": 15
           },
           "zerolinecolor": "white",
           "zerolinewidth": 2
          },
          "yaxis": {
           "automargin": true,
           "gridcolor": "white",
           "linecolor": "white",
           "ticks": "",
           "title": {
            "standoff": 15
           },
           "zerolinecolor": "white",
           "zerolinewidth": 2
          }
         }
        },
        "title": {
         "font": {
          "color": "#4D5663"
         }
        },
        "xaxis": {
         "gridcolor": "#E1E5ED",
         "showgrid": true,
         "tickfont": {
          "color": "#4D5663"
         },
         "title": {
          "font": {
           "color": "#4D5663"
          },
          "text": ""
         },
         "zerolinecolor": "#E1E5ED"
        },
        "yaxis": {
         "gridcolor": "#E1E5ED",
         "showgrid": true,
         "tickfont": {
          "color": "#4D5663"
         },
         "title": {
          "font": {
           "color": "#4D5663"
          },
          "text": ""
         },
         "zerolinecolor": "#E1E5ED"
        }
       }
      },
      "text/html": [
       "<div>                            <div id=\"cd4611f9-9c2b-47b8-be01-7a4e63a902c0\" class=\"plotly-graph-div\" style=\"height:525px; width:100%;\"></div>            <script type=\"text/javascript\">                require([\"plotly\"], function(Plotly) {                    window.PLOTLYENV=window.PLOTLYENV || {};\n",
       "                    window.PLOTLYENV.BASE_URL='https://plot.ly';                                    if (document.getElementById(\"cd4611f9-9c2b-47b8-be01-7a4e63a902c0\")) {                    Plotly.newPlot(                        \"cd4611f9-9c2b-47b8-be01-7a4e63a902c0\",                        [{\"marker\":{\"color\":\"rgba(55, 128, 191, 0.6)\",\"line\":{\"color\":\"rgba(55, 128, 191, 1.0)\",\"width\":1}},\"name\":\"YTD Total Return\",\"orientation\":\"v\",\"text\":\"\",\"x\":[\"ENR1n.DE\",\"ZALG.DE\",\"QIA.DE\",\"SY1G.DE\",\"MRCG.DE\",\"RWEG.DE\",\"VNAn.DE\",\"DBKGn.DE\",\"SATG_p.DE\",\"SHLG.DE\",\"PSHG_p.DE\",\"MTXGn.DE\",\"DB1Gn.DE\",\"DTEGn.DE\",\"VOWG_p.DE\",\"BASFn.DE\",\"SIEGn.DE\",\"HNRGn.DE\",\"BAYGn.DE\",\"P911_p.DE\",\"BEIG.DE\",\"HNKG_p.DE\",\"IFXGn.DE\",\"FREG.DE\",\"AIRG.DE\",\"ALVG.DE\",\"CBKG.DE\",\"MBGn.DE\",\"DTGGe.DE\",\"CONG.DE\",\"MUVGn.DE\",\"BNRGn.DE\",\"EONGn.DE\",\"DHLn.DE\",\"BMWG.DE\",\"SAPG.DE\",\"1COV.DE\",\"RHMG.DE\",\"ADSGn.DE\",\"HEIG.DE\"],\"y\":[-23.470839260313,-17.0341286620356,-16.0816847479259,-11.1431793415083,-10.2205409589443,-5.46980111116057,-4.059411845955,-3.52653328543903,-0.028677332413118,0.495456177989606,1.6292386753763,1.79978280868502,3.73089351012428,5.17721431237168,5.73638110690087,5.75435446724137,7.82221360419726,10.0260456101033,10.6750259569713,10.9094467561211,12.5905741004523,13.647668244709,14.1650321211467,15.8373966615766,16.1645024950011,16.3099751050809,17.7612932012054,18.7567076644861,20.5720140667618,20.760928605736,21.8649015249295,23.3590180048071,24.8371477265987,28.5782797213478,29.0159434064674,30.7130261955263,33.0779753761969,35.1458211791027,45.7599327544052,49.7140366458547],\"type\":\"bar\"}],                        {\"legend\":{\"bgcolor\":\"#F5F6F9\",\"font\":{\"color\":\"#4D5663\"}},\"paper_bgcolor\":\"#F5F6F9\",\"plot_bgcolor\":\"#F5F6F9\",\"template\":{\"data\":{\"barpolar\":[{\"marker\":{\"line\":{\"color\":\"#E5ECF6\",\"width\":0.5},\"pattern\":{\"fillmode\":\"overlay\",\"size\":10,\"solidity\":0.2}},\"type\":\"barpolar\"}],\"bar\":[{\"error_x\":{\"color\":\"#2a3f5f\"},\"error_y\":{\"color\":\"#2a3f5f\"},\"marker\":{\"line\":{\"color\":\"#E5ECF6\",\"width\":0.5},\"pattern\":{\"fillmode\":\"overlay\",\"size\":10,\"solidity\":0.2}},\"type\":\"bar\"}],\"carpet\":[{\"aaxis\":{\"endlinecolor\":\"#2a3f5f\",\"gridcolor\":\"white\",\"linecolor\":\"white\",\"minorgridcolor\":\"white\",\"startlinecolor\":\"#2a3f5f\"},\"baxis\":{\"endlinecolor\":\"#2a3f5f\",\"gridcolor\":\"white\",\"linecolor\":\"white\",\"minorgridcolor\":\"white\",\"startlinecolor\":\"#2a3f5f\"},\"type\":\"carpet\"}],\"choropleth\":[{\"colorbar\":{\"outlinewidth\":0,\"ticks\":\"\"},\"type\":\"choropleth\"}],\"contourcarpet\":[{\"colorbar\":{\"outlinewidth\":0,\"ticks\":\"\"},\"type\":\"contourcarpet\"}],\"contour\":[{\"colorbar\":{\"outlinewidth\":0,\"ticks\":\"\"},\"colorscale\":[[0.0,\"#0d0887\"],[0.1111111111111111,\"#46039f\"],[0.2222222222222222,\"#7201a8\"],[0.3333333333333333,\"#9c179e\"],[0.4444444444444444,\"#bd3786\"],[0.5555555555555556,\"#d8576b\"],[0.6666666666666666,\"#ed7953\"],[0.7777777777777778,\"#fb9f3a\"],[0.8888888888888888,\"#fdca26\"],[1.0,\"#f0f921\"]],\"type\":\"contour\"}],\"heatmapgl\":[{\"colorbar\":{\"outlinewidth\":0,\"ticks\":\"\"},\"colorscale\":[[0.0,\"#0d0887\"],[0.1111111111111111,\"#46039f\"],[0.2222222222222222,\"#7201a8\"],[0.3333333333333333,\"#9c179e\"],[0.4444444444444444,\"#bd3786\"],[0.5555555555555556,\"#d8576b\"],[0.6666666666666666,\"#ed7953\"],[0.7777777777777778,\"#fb9f3a\"],[0.8888888888888888,\"#fdca26\"],[1.0,\"#f0f921\"]],\"type\":\"heatmapgl\"}],\"heatmap\":[{\"colorbar\":{\"outlinewidth\":0,\"ticks\":\"\"},\"colorscale\":[[0.0,\"#0d0887\"],[0.1111111111111111,\"#46039f\"],[0.2222222222222222,\"#7201a8\"],[0.3333333333333333,\"#9c179e\"],[0.4444444444444444,\"#bd3786\"],[0.5555555555555556,\"#d8576b\"],[0.6666666666666666,\"#ed7953\"],[0.7777777777777778,\"#fb9f3a\"],[0.8888888888888888,\"#fdca26\"],[1.0,\"#f0f921\"]],\"type\":\"heatmap\"}],\"histogram2dcontour\":[{\"colorbar\":{\"outlinewidth\":0,\"ticks\":\"\"},\"colorscale\":[[0.0,\"#0d0887\"],[0.1111111111111111,\"#46039f\"],[0.2222222222222222,\"#7201a8\"],[0.3333333333333333,\"#9c179e\"],[0.4444444444444444,\"#bd3786\"],[0.5555555555555556,\"#d8576b\"],[0.6666666666666666,\"#ed7953\"],[0.7777777777777778,\"#fb9f3a\"],[0.8888888888888888,\"#fdca26\"],[1.0,\"#f0f921\"]],\"type\":\"histogram2dcontour\"}],\"histogram2d\":[{\"colorbar\":{\"outlinewidth\":0,\"ticks\":\"\"},\"colorscale\":[[0.0,\"#0d0887\"],[0.1111111111111111,\"#46039f\"],[0.2222222222222222,\"#7201a8\"],[0.3333333333333333,\"#9c179e\"],[0.4444444444444444,\"#bd3786\"],[0.5555555555555556,\"#d8576b\"],[0.6666666666666666,\"#ed7953\"],[0.7777777777777778,\"#fb9f3a\"],[0.8888888888888888,\"#fdca26\"],[1.0,\"#f0f921\"]],\"type\":\"histogram2d\"}],\"histogram\":[{\"marker\":{\"pattern\":{\"fillmode\":\"overlay\",\"size\":10,\"solidity\":0.2}},\"type\":\"histogram\"}],\"mesh3d\":[{\"colorbar\":{\"outlinewidth\":0,\"ticks\":\"\"},\"type\":\"mesh3d\"}],\"parcoords\":[{\"line\":{\"colorbar\":{\"outlinewidth\":0,\"ticks\":\"\"}},\"type\":\"parcoords\"}],\"pie\":[{\"automargin\":true,\"type\":\"pie\"}],\"scatter3d\":[{\"line\":{\"colorbar\":{\"outlinewidth\":0,\"ticks\":\"\"}},\"marker\":{\"colorbar\":{\"outlinewidth\":0,\"ticks\":\"\"}},\"type\":\"scatter3d\"}],\"scattercarpet\":[{\"marker\":{\"colorbar\":{\"outlinewidth\":0,\"ticks\":\"\"}},\"type\":\"scattercarpet\"}],\"scattergeo\":[{\"marker\":{\"colorbar\":{\"outlinewidth\":0,\"ticks\":\"\"}},\"type\":\"scattergeo\"}],\"scattergl\":[{\"marker\":{\"colorbar\":{\"outlinewidth\":0,\"ticks\":\"\"}},\"type\":\"scattergl\"}],\"scattermapbox\":[{\"marker\":{\"colorbar\":{\"outlinewidth\":0,\"ticks\":\"\"}},\"type\":\"scattermapbox\"}],\"scatterpolargl\":[{\"marker\":{\"colorbar\":{\"outlinewidth\":0,\"ticks\":\"\"}},\"type\":\"scatterpolargl\"}],\"scatterpolar\":[{\"marker\":{\"colorbar\":{\"outlinewidth\":0,\"ticks\":\"\"}},\"type\":\"scatterpolar\"}],\"scatter\":[{\"fillpattern\":{\"fillmode\":\"overlay\",\"size\":10,\"solidity\":0.2},\"type\":\"scatter\"}],\"scatterternary\":[{\"marker\":{\"colorbar\":{\"outlinewidth\":0,\"ticks\":\"\"}},\"type\":\"scatterternary\"}],\"surface\":[{\"colorbar\":{\"outlinewidth\":0,\"ticks\":\"\"},\"colorscale\":[[0.0,\"#0d0887\"],[0.1111111111111111,\"#46039f\"],[0.2222222222222222,\"#7201a8\"],[0.3333333333333333,\"#9c179e\"],[0.4444444444444444,\"#bd3786\"],[0.5555555555555556,\"#d8576b\"],[0.6666666666666666,\"#ed7953\"],[0.7777777777777778,\"#fb9f3a\"],[0.8888888888888888,\"#fdca26\"],[1.0,\"#f0f921\"]],\"type\":\"surface\"}],\"table\":[{\"cells\":{\"fill\":{\"color\":\"#EBF0F8\"},\"line\":{\"color\":\"white\"}},\"header\":{\"fill\":{\"color\":\"#C8D4E3\"},\"line\":{\"color\":\"white\"}},\"type\":\"table\"}]},\"layout\":{\"annotationdefaults\":{\"arrowcolor\":\"#2a3f5f\",\"arrowhead\":0,\"arrowwidth\":1},\"autotypenumbers\":\"strict\",\"coloraxis\":{\"colorbar\":{\"outlinewidth\":0,\"ticks\":\"\"}},\"colorscale\":{\"diverging\":[[0,\"#8e0152\"],[0.1,\"#c51b7d\"],[0.2,\"#de77ae\"],[0.3,\"#f1b6da\"],[0.4,\"#fde0ef\"],[0.5,\"#f7f7f7\"],[0.6,\"#e6f5d0\"],[0.7,\"#b8e186\"],[0.8,\"#7fbc41\"],[0.9,\"#4d9221\"],[1,\"#276419\"]],\"sequential\":[[0.0,\"#0d0887\"],[0.1111111111111111,\"#46039f\"],[0.2222222222222222,\"#7201a8\"],[0.3333333333333333,\"#9c179e\"],[0.4444444444444444,\"#bd3786\"],[0.5555555555555556,\"#d8576b\"],[0.6666666666666666,\"#ed7953\"],[0.7777777777777778,\"#fb9f3a\"],[0.8888888888888888,\"#fdca26\"],[1.0,\"#f0f921\"]],\"sequentialminus\":[[0.0,\"#0d0887\"],[0.1111111111111111,\"#46039f\"],[0.2222222222222222,\"#7201a8\"],[0.3333333333333333,\"#9c179e\"],[0.4444444444444444,\"#bd3786\"],[0.5555555555555556,\"#d8576b\"],[0.6666666666666666,\"#ed7953\"],[0.7777777777777778,\"#fb9f3a\"],[0.8888888888888888,\"#fdca26\"],[1.0,\"#f0f921\"]]},\"colorway\":[\"#636efa\",\"#EF553B\",\"#00cc96\",\"#ab63fa\",\"#FFA15A\",\"#19d3f3\",\"#FF6692\",\"#B6E880\",\"#FF97FF\",\"#FECB52\"],\"font\":{\"color\":\"#2a3f5f\"},\"geo\":{\"bgcolor\":\"white\",\"lakecolor\":\"white\",\"landcolor\":\"#E5ECF6\",\"showlakes\":true,\"showland\":true,\"subunitcolor\":\"white\"},\"hoverlabel\":{\"align\":\"left\"},\"hovermode\":\"closest\",\"mapbox\":{\"style\":\"light\"},\"paper_bgcolor\":\"white\",\"plot_bgcolor\":\"#E5ECF6\",\"polar\":{\"angularaxis\":{\"gridcolor\":\"white\",\"linecolor\":\"white\",\"ticks\":\"\"},\"bgcolor\":\"#E5ECF6\",\"radialaxis\":{\"gridcolor\":\"white\",\"linecolor\":\"white\",\"ticks\":\"\"}},\"scene\":{\"xaxis\":{\"backgroundcolor\":\"#E5ECF6\",\"gridcolor\":\"white\",\"gridwidth\":2,\"linecolor\":\"white\",\"showbackground\":true,\"ticks\":\"\",\"zerolinecolor\":\"white\"},\"yaxis\":{\"backgroundcolor\":\"#E5ECF6\",\"gridcolor\":\"white\",\"gridwidth\":2,\"linecolor\":\"white\",\"showbackground\":true,\"ticks\":\"\",\"zerolinecolor\":\"white\"},\"zaxis\":{\"backgroundcolor\":\"#E5ECF6\",\"gridcolor\":\"white\",\"gridwidth\":2,\"linecolor\":\"white\",\"showbackground\":true,\"ticks\":\"\",\"zerolinecolor\":\"white\"}},\"shapedefaults\":{\"line\":{\"color\":\"#2a3f5f\"}},\"ternary\":{\"aaxis\":{\"gridcolor\":\"white\",\"linecolor\":\"white\",\"ticks\":\"\"},\"baxis\":{\"gridcolor\":\"white\",\"linecolor\":\"white\",\"ticks\":\"\"},\"bgcolor\":\"#E5ECF6\",\"caxis\":{\"gridcolor\":\"white\",\"linecolor\":\"white\",\"ticks\":\"\"}},\"title\":{\"x\":0.05},\"xaxis\":{\"automargin\":true,\"gridcolor\":\"white\",\"linecolor\":\"white\",\"ticks\":\"\",\"title\":{\"standoff\":15},\"zerolinecolor\":\"white\",\"zerolinewidth\":2},\"yaxis\":{\"automargin\":true,\"gridcolor\":\"white\",\"linecolor\":\"white\",\"ticks\":\"\",\"title\":{\"standoff\":15},\"zerolinecolor\":\"white\",\"zerolinewidth\":2}}},\"title\":{\"font\":{\"color\":\"#4D5663\"}},\"xaxis\":{\"gridcolor\":\"#E1E5ED\",\"showgrid\":true,\"tickfont\":{\"color\":\"#4D5663\"},\"title\":{\"font\":{\"color\":\"#4D5663\"},\"text\":\"\"},\"zerolinecolor\":\"#E1E5ED\"},\"yaxis\":{\"gridcolor\":\"#E1E5ED\",\"showgrid\":true,\"tickfont\":{\"color\":\"#4D5663\"},\"title\":{\"font\":{\"color\":\"#4D5663\"},\"text\":\"\"},\"zerolinecolor\":\"#E1E5ED\"}},                        {\"showLink\": true, \"linkText\": \"Export to plot.ly\", \"plotlyServerURL\": \"https://plot.ly\", \"responsive\": true}                    ).then(function(){\n",
       "                            \n",
       "var gd = document.getElementById('cd4611f9-9c2b-47b8-be01-7a4e63a902c0');\n",
       "var x = new MutationObserver(function (mutations, observer) {{\n",
       "        var display = window.getComputedStyle(gd).display;\n",
       "        if (!display || display === 'none') {{\n",
       "            console.log([gd, 'removed!']);\n",
       "            Plotly.purge(gd);\n",
       "            observer.disconnect();\n",
       "        }}\n",
       "}});\n",
       "\n",
       "// Listen for the removal of the full notebook cells\n",
       "var notebookContainer = gd.closest('#notebook-container');\n",
       "if (notebookContainer) {{\n",
       "    x.observe(notebookContainer, {childList: true});\n",
       "}}\n",
       "\n",
       "// Listen for the clearing of the current output cell\n",
       "var outputEl = gd.closest('.output');\n",
       "if (outputEl) {{\n",
       "    x.observe(outputEl, {childList: true});\n",
       "}}\n",
       "\n",
       "                        })                };                });            </script>        </div>"
      ]
     },
     "metadata": {},
     "output_type": "display_data"
    }
   ],
   "source": [
    "dax.set_index('Instrument')['YTD Total Return'].sort_values().iplot(kind='bar', color='blue')"
   ]
  },
  {
   "cell_type": "markdown",
   "id": "b0b6dee2",
   "metadata": {},
   "source": [
    "Generen grafico para volumen de menor a mayor DJI"
   ]
  },
  {
   "cell_type": "code",
   "execution_count": 21,
   "id": "e79b0aed",
   "metadata": {},
   "outputs": [],
   "source": [
    "lp4 = ek.get_data('LP40065886', ['TR.FundHoldingRIC','TR.FundHoldingName',\n",
    "                           'TR.FundPercentageOfFundAssets',\n",
    "                           'TR.FundNumberOfShares',\n",
    "                           'TR.FundNumberOfSharesChanged'],\n",
    "            {'Endnum':'5000'})[0]"
   ]
  },
  {
   "cell_type": "code",
   "execution_count": 50,
   "id": "d3db9b8a",
   "metadata": {},
   "outputs": [
    {
     "data": {
      "text/html": [
       "<div>\n",
       "<style scoped>\n",
       "    .dataframe tbody tr th:only-of-type {\n",
       "        vertical-align: middle;\n",
       "    }\n",
       "\n",
       "    .dataframe tbody tr th {\n",
       "        vertical-align: top;\n",
       "    }\n",
       "\n",
       "    .dataframe thead th {\n",
       "        text-align: right;\n",
       "    }\n",
       "</style>\n",
       "<table border=\"1\" class=\"dataframe\">\n",
       "  <thead>\n",
       "    <tr style=\"text-align: right;\">\n",
       "      <th></th>\n",
       "      <th>Instrument</th>\n",
       "      <th>Holding RIC</th>\n",
       "      <th>Holding Name</th>\n",
       "      <th>Percentage of Fund Assets</th>\n",
       "      <th>Number of Shares</th>\n",
       "      <th>Number of Shares Changed</th>\n",
       "    </tr>\n",
       "  </thead>\n",
       "  <tbody>\n",
       "    <tr>\n",
       "      <th>0</th>\n",
       "      <td>LP40065886</td>\n",
       "      <td>AAPL.OQ</td>\n",
       "      <td>APPLE INC ORD</td>\n",
       "      <td>5.3777</td>\n",
       "      <td>10205990.0</td>\n",
       "      <td>67032.0</td>\n",
       "    </tr>\n",
       "    <tr>\n",
       "      <th>1</th>\n",
       "      <td>LP40065886</td>\n",
       "      <td>MSFT.OQ</td>\n",
       "      <td>MICROSOFT CORP ORD</td>\n",
       "      <td>4.5546</td>\n",
       "      <td>5032980.0</td>\n",
       "      <td>31551.0</td>\n",
       "    </tr>\n",
       "    <tr>\n",
       "      <th>2</th>\n",
       "      <td>LP40065886</td>\n",
       "      <td>AMZN.OQ</td>\n",
       "      <td>AMAZON.COM INC ORD</td>\n",
       "      <td>2.2045</td>\n",
       "      <td>5853476.0</td>\n",
       "      <td>32076.0</td>\n",
       "    </tr>\n",
       "    <tr>\n",
       "      <th>3</th>\n",
       "      <td>LP40065886</td>\n",
       "      <td>GOOGL.OQ</td>\n",
       "      <td>ALPHABET INC CLASS A ORD</td>\n",
       "      <td>1.4645</td>\n",
       "      <td>4057503.0</td>\n",
       "      <td>43199.0</td>\n",
       "    </tr>\n",
       "    <tr>\n",
       "      <th>4</th>\n",
       "      <td>LP40065886</td>\n",
       "      <td>BRKb.N</td>\n",
       "      <td>BERKSHIRE HATHAWAY INC ORD</td>\n",
       "      <td>1.2727</td>\n",
       "      <td>1118776.0</td>\n",
       "      <td>8465.0</td>\n",
       "    </tr>\n",
       "    <tr>\n",
       "      <th>...</th>\n",
       "      <td>...</td>\n",
       "      <td>...</td>\n",
       "      <td>...</td>\n",
       "      <td>...</td>\n",
       "      <td>...</td>\n",
       "      <td>...</td>\n",
       "    </tr>\n",
       "    <tr>\n",
       "      <th>3555</th>\n",
       "      <td>LP40065886</td>\n",
       "      <td></td>\n",
       "      <td>MIRAGEN THERAPEUTICS INC CVR</td>\n",
       "      <td>0.0</td>\n",
       "      <td>67673.0</td>\n",
       "      <td>0.0</td>\n",
       "    </tr>\n",
       "    <tr>\n",
       "      <th>3556</th>\n",
       "      <td>LP40065886</td>\n",
       "      <td>ANGN.OQ</td>\n",
       "      <td>ANGION BIOMEDICA CORP ORD</td>\n",
       "      <td>0.0</td>\n",
       "      <td>17453.0</td>\n",
       "      <td>0.0</td>\n",
       "    </tr>\n",
       "    <tr>\n",
       "      <th>3557</th>\n",
       "      <td>LP40065886</td>\n",
       "      <td>LHDX.OQ</td>\n",
       "      <td>LUCIRA HEALTH INC ORD</td>\n",
       "      <td>0.0</td>\n",
       "      <td>12487.0</td>\n",
       "      <td>0.0</td>\n",
       "    </tr>\n",
       "    <tr>\n",
       "      <th>3558</th>\n",
       "      <td>LP40065886</td>\n",
       "      <td>NEXI.OQ</td>\n",
       "      <td>NEXIMMUNE INC ORD</td>\n",
       "      <td>0.0</td>\n",
       "      <td>14792.0</td>\n",
       "      <td>0.0</td>\n",
       "    </tr>\n",
       "    <tr>\n",
       "      <th>3559</th>\n",
       "      <td>LP40065886</td>\n",
       "      <td></td>\n",
       "      <td>USD CASH</td>\n",
       "      <td>-0.0298</td>\n",
       "      <td>-8165447.79</td>\n",
       "      <td>-20690870.65</td>\n",
       "    </tr>\n",
       "  </tbody>\n",
       "</table>\n",
       "<p>3560 rows × 6 columns</p>\n",
       "</div>"
      ],
      "text/plain": [
       "      Instrument Holding RIC                  Holding Name  \\\n",
       "0     LP40065886     AAPL.OQ                 APPLE INC ORD   \n",
       "1     LP40065886     MSFT.OQ            MICROSOFT CORP ORD   \n",
       "2     LP40065886     AMZN.OQ            AMAZON.COM INC ORD   \n",
       "3     LP40065886    GOOGL.OQ      ALPHABET INC CLASS A ORD   \n",
       "4     LP40065886      BRKb.N    BERKSHIRE HATHAWAY INC ORD   \n",
       "...          ...         ...                           ...   \n",
       "3555  LP40065886              MIRAGEN THERAPEUTICS INC CVR   \n",
       "3556  LP40065886     ANGN.OQ     ANGION BIOMEDICA CORP ORD   \n",
       "3557  LP40065886     LHDX.OQ         LUCIRA HEALTH INC ORD   \n",
       "3558  LP40065886     NEXI.OQ             NEXIMMUNE INC ORD   \n",
       "3559  LP40065886                                  USD CASH   \n",
       "\n",
       "      Percentage of Fund Assets  Number of Shares  Number of Shares Changed  \n",
       "0                        5.3777        10205990.0                   67032.0  \n",
       "1                        4.5546         5032980.0                   31551.0  \n",
       "2                        2.2045         5853476.0                   32076.0  \n",
       "3                        1.4645         4057503.0                   43199.0  \n",
       "4                        1.2727         1118776.0                    8465.0  \n",
       "...                         ...               ...                       ...  \n",
       "3555                        0.0           67673.0                       0.0  \n",
       "3556                        0.0           17453.0                       0.0  \n",
       "3557                        0.0           12487.0                       0.0  \n",
       "3558                        0.0           14792.0                       0.0  \n",
       "3559                    -0.0298       -8165447.79              -20690870.65  \n",
       "\n",
       "[3560 rows x 6 columns]"
      ]
     },
     "execution_count": 50,
     "metadata": {},
     "output_type": "execute_result"
    }
   ],
   "source": [
    "lp4"
   ]
  },
  {
   "cell_type": "code",
   "execution_count": 46,
   "id": "13a8119c",
   "metadata": {},
   "outputs": [
    {
     "data": {
      "text/plain": [
       "tuple"
      ]
     },
     "execution_count": 46,
     "metadata": {},
     "output_type": "execute_result"
    }
   ],
   "source": [
    "dax.set_index('Instrument')['YTD Total Return'].sort_values().iplot(kind='bar', color='blue')"
   ]
  },
  {
   "cell_type": "code",
   "execution_count": 1,
   "id": "b0e8c7cf",
   "metadata": {},
   "outputs": [],
   "source": [
    "f = [[1, 2], [2, 3]]"
   ]
  },
  {
   "cell_type": "code",
   "execution_count": 2,
   "id": "54a33815",
   "metadata": {},
   "outputs": [
    {
     "name": "stdout",
     "output_type": "stream",
     "text": [
      "[[1, 2], [2, 3]]\n"
     ]
    }
   ],
   "source": [
    "print(f)"
   ]
  },
  {
   "cell_type": "code",
   "execution_count": 51,
   "id": "f407c898",
   "metadata": {},
   "outputs": [],
   "source": [
    "XLE= ek.get_data('XLE', ['TR.FundHoldingRIC','TR.FundHoldingName', 'TR.FundPercentageOfFundAssets',\n",
    "                           'TR.FundNumberOfShares', 'TR.FundNumberOfSharesChanged'],\n",
    "            {'Endnum':'5000'})[0]"
   ]
  },
  {
   "cell_type": "code",
   "execution_count": 52,
   "id": "397ab251",
   "metadata": {},
   "outputs": [
    {
     "data": {
      "text/html": [
       "<div>\n",
       "<style scoped>\n",
       "    .dataframe tbody tr th:only-of-type {\n",
       "        vertical-align: middle;\n",
       "    }\n",
       "\n",
       "    .dataframe tbody tr th {\n",
       "        vertical-align: top;\n",
       "    }\n",
       "\n",
       "    .dataframe thead th {\n",
       "        text-align: right;\n",
       "    }\n",
       "</style>\n",
       "<table border=\"1\" class=\"dataframe\">\n",
       "  <thead>\n",
       "    <tr style=\"text-align: right;\">\n",
       "      <th></th>\n",
       "      <th>Instrument</th>\n",
       "      <th>Holding RIC</th>\n",
       "      <th>Holding Name</th>\n",
       "      <th>Percentage of Fund Assets</th>\n",
       "      <th>Number of Shares</th>\n",
       "      <th>Number of Shares Changed</th>\n",
       "    </tr>\n",
       "  </thead>\n",
       "  <tbody>\n",
       "    <tr>\n",
       "      <th>0</th>\n",
       "      <td>XLE</td>\n",
       "      <td>XOM.N</td>\n",
       "      <td>EXXON MOBIL CORP ORD</td>\n",
       "      <td>23.41</td>\n",
       "      <td>85651581.0</td>\n",
       "      <td>903479.0</td>\n",
       "    </tr>\n",
       "    <tr>\n",
       "      <th>1</th>\n",
       "      <td>XLE</td>\n",
       "      <td>CVX.N</td>\n",
       "      <td>CHEVRON CORP ORD</td>\n",
       "      <td>18.889</td>\n",
       "      <td>46072089.0</td>\n",
       "      <td>486014.0</td>\n",
       "    </tr>\n",
       "    <tr>\n",
       "      <th>2</th>\n",
       "      <td>XLE</td>\n",
       "      <td>SLB.N</td>\n",
       "      <td>SCHLUMBERGER NV ORD</td>\n",
       "      <td>4.9591</td>\n",
       "      <td>36940902.0</td>\n",
       "      <td>389655.0</td>\n",
       "    </tr>\n",
       "    <tr>\n",
       "      <th>3</th>\n",
       "      <td>XLE</td>\n",
       "      <td>COP.N</td>\n",
       "      <td>CONOCOPHILLIPS ORD</td>\n",
       "      <td>4.5282</td>\n",
       "      <td>15770957.0</td>\n",
       "      <td>166403.0</td>\n",
       "    </tr>\n",
       "    <tr>\n",
       "      <th>4</th>\n",
       "      <td>XLE</td>\n",
       "      <td>EOG.N</td>\n",
       "      <td>EOG RESOURCES INC ORD</td>\n",
       "      <td>4.4434</td>\n",
       "      <td>14260820.0</td>\n",
       "      <td>150428.0</td>\n",
       "    </tr>\n",
       "    <tr>\n",
       "      <th>5</th>\n",
       "      <td>XLE</td>\n",
       "      <td>MPC.N</td>\n",
       "      <td>MARATHON PETROLEUM CORP ORD</td>\n",
       "      <td>4.1514</td>\n",
       "      <td>13710609.0</td>\n",
       "      <td>144676.0</td>\n",
       "    </tr>\n",
       "    <tr>\n",
       "      <th>6</th>\n",
       "      <td>XLE</td>\n",
       "      <td>PXD.N</td>\n",
       "      <td>PIONEER NATURAL RESOURCES CO ORD</td>\n",
       "      <td>3.7723</td>\n",
       "      <td>6950903.0</td>\n",
       "      <td>73316.0</td>\n",
       "    </tr>\n",
       "    <tr>\n",
       "      <th>7</th>\n",
       "      <td>XLE</td>\n",
       "      <td>VLO.N</td>\n",
       "      <td>VALERO ENERGY CORP ORD</td>\n",
       "      <td>3.7208</td>\n",
       "      <td>11278375.0</td>\n",
       "      <td>118981.0</td>\n",
       "    </tr>\n",
       "    <tr>\n",
       "      <th>8</th>\n",
       "      <td>XLE</td>\n",
       "      <td>PSX.N</td>\n",
       "      <td>PHILLIPS 66 ORD</td>\n",
       "      <td>3.2663</td>\n",
       "      <td>13826737.0</td>\n",
       "      <td>145867.0</td>\n",
       "    </tr>\n",
       "    <tr>\n",
       "      <th>9</th>\n",
       "      <td>XLE</td>\n",
       "      <td>OXY.N</td>\n",
       "      <td>OCCIDENTAL PETROLEUM CORP ORD</td>\n",
       "      <td>3.247</td>\n",
       "      <td>21271979.0</td>\n",
       "      <td>224342.0</td>\n",
       "    </tr>\n",
       "    <tr>\n",
       "      <th>10</th>\n",
       "      <td>XLE</td>\n",
       "      <td>HES.N</td>\n",
       "      <td>HESS CORP ORD</td>\n",
       "      <td>2.8718</td>\n",
       "      <td>8117527.0</td>\n",
       "      <td>85619.0</td>\n",
       "    </tr>\n",
       "    <tr>\n",
       "      <th>11</th>\n",
       "      <td>XLE</td>\n",
       "      <td>DVN.N</td>\n",
       "      <td>DEVON ENERGY CORP ORD</td>\n",
       "      <td>2.8493</td>\n",
       "      <td>19123815.0</td>\n",
       "      <td>201720.0</td>\n",
       "    </tr>\n",
       "    <tr>\n",
       "      <th>12</th>\n",
       "      <td>XLE</td>\n",
       "      <td>WMB.N</td>\n",
       "      <td>WILLIAMS COMPANIES INC ORD</td>\n",
       "      <td>2.7065</td>\n",
       "      <td>35632263.0</td>\n",
       "      <td>375864.0</td>\n",
       "    </tr>\n",
       "    <tr>\n",
       "      <th>13</th>\n",
       "      <td>XLE</td>\n",
       "      <td>HAL.N</td>\n",
       "      <td>HALLIBURTON CO ORD</td>\n",
       "      <td>2.5798</td>\n",
       "      <td>26564666.0</td>\n",
       "      <td>280198.0</td>\n",
       "    </tr>\n",
       "    <tr>\n",
       "      <th>14</th>\n",
       "      <td>XLE</td>\n",
       "      <td>KMI.N</td>\n",
       "      <td>KINDER MORGAN INC ORD</td>\n",
       "      <td>2.4949</td>\n",
       "      <td>57866280.0</td>\n",
       "      <td>610423.0</td>\n",
       "    </tr>\n",
       "    <tr>\n",
       "      <th>15</th>\n",
       "      <td>XLE</td>\n",
       "      <td>BKR.OQ</td>\n",
       "      <td>BAKER HUGHES CO ORD</td>\n",
       "      <td>2.1908</td>\n",
       "      <td>29297728.0</td>\n",
       "      <td>309092.0</td>\n",
       "    </tr>\n",
       "    <tr>\n",
       "      <th>16</th>\n",
       "      <td>XLE</td>\n",
       "      <td>OKE.N</td>\n",
       "      <td>ONEOK INC ORD</td>\n",
       "      <td>2.1096</td>\n",
       "      <td>13075516.0</td>\n",
       "      <td>137930.0</td>\n",
       "    </tr>\n",
       "    <tr>\n",
       "      <th>17</th>\n",
       "      <td>XLE</td>\n",
       "      <td>FANG.OQ</td>\n",
       "      <td>DIAMONDBACK ENERGY INC ORD</td>\n",
       "      <td>1.7725</td>\n",
       "      <td>5148757.0</td>\n",
       "      <td>54268.0</td>\n",
       "    </tr>\n",
       "    <tr>\n",
       "      <th>18</th>\n",
       "      <td>XLE</td>\n",
       "      <td>CTRA.N</td>\n",
       "      <td>COTERRA ENERGY INC ORD</td>\n",
       "      <td>1.3602</td>\n",
       "      <td>23066372.0</td>\n",
       "      <td>243290.0</td>\n",
       "    </tr>\n",
       "    <tr>\n",
       "      <th>19</th>\n",
       "      <td>XLE</td>\n",
       "      <td>MRO.N</td>\n",
       "      <td>MARATHON OIL CORP ORD</td>\n",
       "      <td>1.2024</td>\n",
       "      <td>18578734.0</td>\n",
       "      <td>195966.0</td>\n",
       "    </tr>\n",
       "    <tr>\n",
       "      <th>20</th>\n",
       "      <td>XLE</td>\n",
       "      <td>TRGP.N</td>\n",
       "      <td>TARGA RESOURCES CORP ORD</td>\n",
       "      <td>1.1705</td>\n",
       "      <td>6622537.0</td>\n",
       "      <td>69845.0</td>\n",
       "    </tr>\n",
       "    <tr>\n",
       "      <th>21</th>\n",
       "      <td>XLE</td>\n",
       "      <td>APA.OQ</td>\n",
       "      <td>APA CORP (US) ORD</td>\n",
       "      <td>0.9823</td>\n",
       "      <td>9405759.0</td>\n",
       "      <td>99237.0</td>\n",
       "    </tr>\n",
       "    <tr>\n",
       "      <th>22</th>\n",
       "      <td>XLE</td>\n",
       "      <td>EQT.N</td>\n",
       "      <td>EQT CORP ORD</td>\n",
       "      <td>0.8265</td>\n",
       "      <td>10737842.0</td>\n",
       "      <td>113275.0</td>\n",
       "    </tr>\n",
       "    <tr>\n",
       "      <th>23</th>\n",
       "      <td>XLE</td>\n",
       "      <td>XAEH3</td>\n",
       "      <td>EMINI ENRGY MAR3</td>\n",
       "      <td>0.4221</td>\n",
       "      <td>190000.0</td>\n",
       "      <td>-1000.0</td>\n",
       "    </tr>\n",
       "    <tr>\n",
       "      <th>24</th>\n",
       "      <td>XLE</td>\n",
       "      <td>LP40098642</td>\n",
       "      <td>STATE STREET INSTITUTIONAL LIQUID RESERVES FD;...</td>\n",
       "      <td>0.3228</td>\n",
       "      <td>136944337.79</td>\n",
       "      <td>10076454.35</td>\n",
       "    </tr>\n",
       "    <tr>\n",
       "      <th>25</th>\n",
       "      <td>XLE</td>\n",
       "      <td></td>\n",
       "      <td>USD CASH</td>\n",
       "      <td>0.0046</td>\n",
       "      <td>1956953.68</td>\n",
       "      <td>-3658400.5</td>\n",
       "    </tr>\n",
       "    <tr>\n",
       "      <th>26</th>\n",
       "      <td>XLE</td>\n",
       "      <td></td>\n",
       "      <td>OTHER ASSETS LESS LIABILITIES</td>\n",
       "      <td>-0.2541</td>\n",
       "      <td>&lt;NA&gt;</td>\n",
       "      <td>&lt;NA&gt;</td>\n",
       "    </tr>\n",
       "  </tbody>\n",
       "</table>\n",
       "</div>"
      ],
      "text/plain": [
       "   Instrument Holding RIC                                       Holding Name  \\\n",
       "0         XLE       XOM.N                               EXXON MOBIL CORP ORD   \n",
       "1         XLE       CVX.N                                   CHEVRON CORP ORD   \n",
       "2         XLE       SLB.N                                SCHLUMBERGER NV ORD   \n",
       "3         XLE       COP.N                                 CONOCOPHILLIPS ORD   \n",
       "4         XLE       EOG.N                              EOG RESOURCES INC ORD   \n",
       "5         XLE       MPC.N                        MARATHON PETROLEUM CORP ORD   \n",
       "6         XLE       PXD.N                   PIONEER NATURAL RESOURCES CO ORD   \n",
       "7         XLE       VLO.N                             VALERO ENERGY CORP ORD   \n",
       "8         XLE       PSX.N                                    PHILLIPS 66 ORD   \n",
       "9         XLE       OXY.N                      OCCIDENTAL PETROLEUM CORP ORD   \n",
       "10        XLE       HES.N                                      HESS CORP ORD   \n",
       "11        XLE       DVN.N                              DEVON ENERGY CORP ORD   \n",
       "12        XLE       WMB.N                         WILLIAMS COMPANIES INC ORD   \n",
       "13        XLE       HAL.N                                 HALLIBURTON CO ORD   \n",
       "14        XLE       KMI.N                              KINDER MORGAN INC ORD   \n",
       "15        XLE      BKR.OQ                                BAKER HUGHES CO ORD   \n",
       "16        XLE       OKE.N                                      ONEOK INC ORD   \n",
       "17        XLE     FANG.OQ                         DIAMONDBACK ENERGY INC ORD   \n",
       "18        XLE      CTRA.N                             COTERRA ENERGY INC ORD   \n",
       "19        XLE       MRO.N                              MARATHON OIL CORP ORD   \n",
       "20        XLE      TRGP.N                           TARGA RESOURCES CORP ORD   \n",
       "21        XLE      APA.OQ                                  APA CORP (US) ORD   \n",
       "22        XLE       EQT.N                                       EQT CORP ORD   \n",
       "23        XLE       XAEH3                                   EMINI ENRGY MAR3   \n",
       "24        XLE  LP40098642  STATE STREET INSTITUTIONAL LIQUID RESERVES FD;...   \n",
       "25        XLE                                                       USD CASH   \n",
       "26        XLE                                  OTHER ASSETS LESS LIABILITIES   \n",
       "\n",
       "    Percentage of Fund Assets  Number of Shares  Number of Shares Changed  \n",
       "0                       23.41        85651581.0                  903479.0  \n",
       "1                      18.889        46072089.0                  486014.0  \n",
       "2                      4.9591        36940902.0                  389655.0  \n",
       "3                      4.5282        15770957.0                  166403.0  \n",
       "4                      4.4434        14260820.0                  150428.0  \n",
       "5                      4.1514        13710609.0                  144676.0  \n",
       "6                      3.7723         6950903.0                   73316.0  \n",
       "7                      3.7208        11278375.0                  118981.0  \n",
       "8                      3.2663        13826737.0                  145867.0  \n",
       "9                       3.247        21271979.0                  224342.0  \n",
       "10                     2.8718         8117527.0                   85619.0  \n",
       "11                     2.8493        19123815.0                  201720.0  \n",
       "12                     2.7065        35632263.0                  375864.0  \n",
       "13                     2.5798        26564666.0                  280198.0  \n",
       "14                     2.4949        57866280.0                  610423.0  \n",
       "15                     2.1908        29297728.0                  309092.0  \n",
       "16                     2.1096        13075516.0                  137930.0  \n",
       "17                     1.7725         5148757.0                   54268.0  \n",
       "18                     1.3602        23066372.0                  243290.0  \n",
       "19                     1.2024        18578734.0                  195966.0  \n",
       "20                     1.1705         6622537.0                   69845.0  \n",
       "21                     0.9823         9405759.0                   99237.0  \n",
       "22                     0.8265        10737842.0                  113275.0  \n",
       "23                     0.4221          190000.0                   -1000.0  \n",
       "24                     0.3228      136944337.79               10076454.35  \n",
       "25                     0.0046        1956953.68                -3658400.5  \n",
       "26                    -0.2541              <NA>                      <NA>  "
      ]
     },
     "execution_count": 52,
     "metadata": {},
     "output_type": "execute_result"
    }
   ],
   "source": [
    "XLE"
   ]
  },
  {
   "cell_type": "code",
   "execution_count": 56,
   "id": "cd6ecd3e",
   "metadata": {},
   "outputs": [
    {
     "data": {
      "text/plain": [
       "Holding RIC\n",
       "XOM.N           85651581.0\n",
       "CVX.N           46072089.0\n",
       "SLB.N           36940902.0\n",
       "COP.N           15770957.0\n",
       "EOG.N           14260820.0\n",
       "MPC.N           13710609.0\n",
       "PXD.N            6950903.0\n",
       "VLO.N           11278375.0\n",
       "PSX.N           13826737.0\n",
       "OXY.N           21271979.0\n",
       "HES.N            8117527.0\n",
       "DVN.N           19123815.0\n",
       "WMB.N           35632263.0\n",
       "HAL.N           26564666.0\n",
       "KMI.N           57866280.0\n",
       "BKR.OQ          29297728.0\n",
       "OKE.N           13075516.0\n",
       "FANG.OQ          5148757.0\n",
       "CTRA.N          23066372.0\n",
       "MRO.N           18578734.0\n",
       "TRGP.N           6622537.0\n",
       "APA.OQ           9405759.0\n",
       "EQT.N           10737842.0\n",
       "XAEH3             190000.0\n",
       "LP40098642    136944337.79\n",
       "                1956953.68\n",
       "                      <NA>\n",
       "Name: Number of Shares, dtype: Float64"
      ]
     },
     "execution_count": 56,
     "metadata": {},
     "output_type": "execute_result"
    }
   ],
   "source": [
    "XLE.set_index('Holding RIC')['Number of Shares']"
   ]
  },
  {
   "cell_type": "code",
   "execution_count": 60,
   "id": "fa606808",
   "metadata": {},
   "outputs": [
    {
     "data": {
      "application/vnd.plotly.v1+json": {
       "config": {
        "linkText": "Export to plot.ly",
        "plotlyServerURL": "https://plot.ly",
        "showLink": true
       },
       "data": [
        {
         "marker": {
          "color": "rgba(55, 128, 191, 0.6)",
          "line": {
           "color": "rgba(55, 128, 191, 1.0)",
           "width": 1
          }
         },
         "name": "Number of Shares",
         "orientation": "v",
         "text": "",
         "type": "bar",
         "x": [
          "XAEH3",
          "FANG.OQ",
          "TRGP.N",
          "PXD.N",
          "HES.N",
          "APA.OQ",
          "EQT.N",
          "VLO.N",
          "OKE.N",
          "MPC.N",
          "PSX.N",
          "EOG.N",
          "COP.N",
          "MRO.N",
          "DVN.N",
          "OXY.N",
          "CTRA.N",
          "HAL.N",
          "BKR.OQ",
          "WMB.N",
          "SLB.N",
          "CVX.N",
          "KMI.N",
          "XOM.N",
          "LP40098642"
         ],
         "y": [
          190000,
          5148757,
          6622537,
          6950903,
          8117527,
          9405759,
          10737842,
          11278375,
          13075516,
          13710609,
          13826737,
          14260820,
          15770957,
          18578734,
          19123815,
          21271979,
          23066372,
          26564666,
          29297728,
          35632263,
          36940902,
          46072089,
          57866280,
          85651581,
          136944337.79
         ]
        }
       ],
       "layout": {
        "legend": {
         "bgcolor": "#F5F6F9",
         "font": {
          "color": "#4D5663"
         }
        },
        "paper_bgcolor": "#F5F6F9",
        "plot_bgcolor": "#F5F6F9",
        "template": {
         "data": {
          "bar": [
           {
            "error_x": {
             "color": "#2a3f5f"
            },
            "error_y": {
             "color": "#2a3f5f"
            },
            "marker": {
             "line": {
              "color": "#E5ECF6",
              "width": 0.5
             },
             "pattern": {
              "fillmode": "overlay",
              "size": 10,
              "solidity": 0.2
             }
            },
            "type": "bar"
           }
          ],
          "barpolar": [
           {
            "marker": {
             "line": {
              "color": "#E5ECF6",
              "width": 0.5
             },
             "pattern": {
              "fillmode": "overlay",
              "size": 10,
              "solidity": 0.2
             }
            },
            "type": "barpolar"
           }
          ],
          "carpet": [
           {
            "aaxis": {
             "endlinecolor": "#2a3f5f",
             "gridcolor": "white",
             "linecolor": "white",
             "minorgridcolor": "white",
             "startlinecolor": "#2a3f5f"
            },
            "baxis": {
             "endlinecolor": "#2a3f5f",
             "gridcolor": "white",
             "linecolor": "white",
             "minorgridcolor": "white",
             "startlinecolor": "#2a3f5f"
            },
            "type": "carpet"
           }
          ],
          "choropleth": [
           {
            "colorbar": {
             "outlinewidth": 0,
             "ticks": ""
            },
            "type": "choropleth"
           }
          ],
          "contour": [
           {
            "colorbar": {
             "outlinewidth": 0,
             "ticks": ""
            },
            "colorscale": [
             [
              0,
              "#0d0887"
             ],
             [
              0.1111111111111111,
              "#46039f"
             ],
             [
              0.2222222222222222,
              "#7201a8"
             ],
             [
              0.3333333333333333,
              "#9c179e"
             ],
             [
              0.4444444444444444,
              "#bd3786"
             ],
             [
              0.5555555555555556,
              "#d8576b"
             ],
             [
              0.6666666666666666,
              "#ed7953"
             ],
             [
              0.7777777777777778,
              "#fb9f3a"
             ],
             [
              0.8888888888888888,
              "#fdca26"
             ],
             [
              1,
              "#f0f921"
             ]
            ],
            "type": "contour"
           }
          ],
          "contourcarpet": [
           {
            "colorbar": {
             "outlinewidth": 0,
             "ticks": ""
            },
            "type": "contourcarpet"
           }
          ],
          "heatmap": [
           {
            "colorbar": {
             "outlinewidth": 0,
             "ticks": ""
            },
            "colorscale": [
             [
              0,
              "#0d0887"
             ],
             [
              0.1111111111111111,
              "#46039f"
             ],
             [
              0.2222222222222222,
              "#7201a8"
             ],
             [
              0.3333333333333333,
              "#9c179e"
             ],
             [
              0.4444444444444444,
              "#bd3786"
             ],
             [
              0.5555555555555556,
              "#d8576b"
             ],
             [
              0.6666666666666666,
              "#ed7953"
             ],
             [
              0.7777777777777778,
              "#fb9f3a"
             ],
             [
              0.8888888888888888,
              "#fdca26"
             ],
             [
              1,
              "#f0f921"
             ]
            ],
            "type": "heatmap"
           }
          ],
          "heatmapgl": [
           {
            "colorbar": {
             "outlinewidth": 0,
             "ticks": ""
            },
            "colorscale": [
             [
              0,
              "#0d0887"
             ],
             [
              0.1111111111111111,
              "#46039f"
             ],
             [
              0.2222222222222222,
              "#7201a8"
             ],
             [
              0.3333333333333333,
              "#9c179e"
             ],
             [
              0.4444444444444444,
              "#bd3786"
             ],
             [
              0.5555555555555556,
              "#d8576b"
             ],
             [
              0.6666666666666666,
              "#ed7953"
             ],
             [
              0.7777777777777778,
              "#fb9f3a"
             ],
             [
              0.8888888888888888,
              "#fdca26"
             ],
             [
              1,
              "#f0f921"
             ]
            ],
            "type": "heatmapgl"
           }
          ],
          "histogram": [
           {
            "marker": {
             "pattern": {
              "fillmode": "overlay",
              "size": 10,
              "solidity": 0.2
             }
            },
            "type": "histogram"
           }
          ],
          "histogram2d": [
           {
            "colorbar": {
             "outlinewidth": 0,
             "ticks": ""
            },
            "colorscale": [
             [
              0,
              "#0d0887"
             ],
             [
              0.1111111111111111,
              "#46039f"
             ],
             [
              0.2222222222222222,
              "#7201a8"
             ],
             [
              0.3333333333333333,
              "#9c179e"
             ],
             [
              0.4444444444444444,
              "#bd3786"
             ],
             [
              0.5555555555555556,
              "#d8576b"
             ],
             [
              0.6666666666666666,
              "#ed7953"
             ],
             [
              0.7777777777777778,
              "#fb9f3a"
             ],
             [
              0.8888888888888888,
              "#fdca26"
             ],
             [
              1,
              "#f0f921"
             ]
            ],
            "type": "histogram2d"
           }
          ],
          "histogram2dcontour": [
           {
            "colorbar": {
             "outlinewidth": 0,
             "ticks": ""
            },
            "colorscale": [
             [
              0,
              "#0d0887"
             ],
             [
              0.1111111111111111,
              "#46039f"
             ],
             [
              0.2222222222222222,
              "#7201a8"
             ],
             [
              0.3333333333333333,
              "#9c179e"
             ],
             [
              0.4444444444444444,
              "#bd3786"
             ],
             [
              0.5555555555555556,
              "#d8576b"
             ],
             [
              0.6666666666666666,
              "#ed7953"
             ],
             [
              0.7777777777777778,
              "#fb9f3a"
             ],
             [
              0.8888888888888888,
              "#fdca26"
             ],
             [
              1,
              "#f0f921"
             ]
            ],
            "type": "histogram2dcontour"
           }
          ],
          "mesh3d": [
           {
            "colorbar": {
             "outlinewidth": 0,
             "ticks": ""
            },
            "type": "mesh3d"
           }
          ],
          "parcoords": [
           {
            "line": {
             "colorbar": {
              "outlinewidth": 0,
              "ticks": ""
             }
            },
            "type": "parcoords"
           }
          ],
          "pie": [
           {
            "automargin": true,
            "type": "pie"
           }
          ],
          "scatter": [
           {
            "fillpattern": {
             "fillmode": "overlay",
             "size": 10,
             "solidity": 0.2
            },
            "type": "scatter"
           }
          ],
          "scatter3d": [
           {
            "line": {
             "colorbar": {
              "outlinewidth": 0,
              "ticks": ""
             }
            },
            "marker": {
             "colorbar": {
              "outlinewidth": 0,
              "ticks": ""
             }
            },
            "type": "scatter3d"
           }
          ],
          "scattercarpet": [
           {
            "marker": {
             "colorbar": {
              "outlinewidth": 0,
              "ticks": ""
             }
            },
            "type": "scattercarpet"
           }
          ],
          "scattergeo": [
           {
            "marker": {
             "colorbar": {
              "outlinewidth": 0,
              "ticks": ""
             }
            },
            "type": "scattergeo"
           }
          ],
          "scattergl": [
           {
            "marker": {
             "colorbar": {
              "outlinewidth": 0,
              "ticks": ""
             }
            },
            "type": "scattergl"
           }
          ],
          "scattermapbox": [
           {
            "marker": {
             "colorbar": {
              "outlinewidth": 0,
              "ticks": ""
             }
            },
            "type": "scattermapbox"
           }
          ],
          "scatterpolar": [
           {
            "marker": {
             "colorbar": {
              "outlinewidth": 0,
              "ticks": ""
             }
            },
            "type": "scatterpolar"
           }
          ],
          "scatterpolargl": [
           {
            "marker": {
             "colorbar": {
              "outlinewidth": 0,
              "ticks": ""
             }
            },
            "type": "scatterpolargl"
           }
          ],
          "scatterternary": [
           {
            "marker": {
             "colorbar": {
              "outlinewidth": 0,
              "ticks": ""
             }
            },
            "type": "scatterternary"
           }
          ],
          "surface": [
           {
            "colorbar": {
             "outlinewidth": 0,
             "ticks": ""
            },
            "colorscale": [
             [
              0,
              "#0d0887"
             ],
             [
              0.1111111111111111,
              "#46039f"
             ],
             [
              0.2222222222222222,
              "#7201a8"
             ],
             [
              0.3333333333333333,
              "#9c179e"
             ],
             [
              0.4444444444444444,
              "#bd3786"
             ],
             [
              0.5555555555555556,
              "#d8576b"
             ],
             [
              0.6666666666666666,
              "#ed7953"
             ],
             [
              0.7777777777777778,
              "#fb9f3a"
             ],
             [
              0.8888888888888888,
              "#fdca26"
             ],
             [
              1,
              "#f0f921"
             ]
            ],
            "type": "surface"
           }
          ],
          "table": [
           {
            "cells": {
             "fill": {
              "color": "#EBF0F8"
             },
             "line": {
              "color": "white"
             }
            },
            "header": {
             "fill": {
              "color": "#C8D4E3"
             },
             "line": {
              "color": "white"
             }
            },
            "type": "table"
           }
          ]
         },
         "layout": {
          "annotationdefaults": {
           "arrowcolor": "#2a3f5f",
           "arrowhead": 0,
           "arrowwidth": 1
          },
          "autotypenumbers": "strict",
          "coloraxis": {
           "colorbar": {
            "outlinewidth": 0,
            "ticks": ""
           }
          },
          "colorscale": {
           "diverging": [
            [
             0,
             "#8e0152"
            ],
            [
             0.1,
             "#c51b7d"
            ],
            [
             0.2,
             "#de77ae"
            ],
            [
             0.3,
             "#f1b6da"
            ],
            [
             0.4,
             "#fde0ef"
            ],
            [
             0.5,
             "#f7f7f7"
            ],
            [
             0.6,
             "#e6f5d0"
            ],
            [
             0.7,
             "#b8e186"
            ],
            [
             0.8,
             "#7fbc41"
            ],
            [
             0.9,
             "#4d9221"
            ],
            [
             1,
             "#276419"
            ]
           ],
           "sequential": [
            [
             0,
             "#0d0887"
            ],
            [
             0.1111111111111111,
             "#46039f"
            ],
            [
             0.2222222222222222,
             "#7201a8"
            ],
            [
             0.3333333333333333,
             "#9c179e"
            ],
            [
             0.4444444444444444,
             "#bd3786"
            ],
            [
             0.5555555555555556,
             "#d8576b"
            ],
            [
             0.6666666666666666,
             "#ed7953"
            ],
            [
             0.7777777777777778,
             "#fb9f3a"
            ],
            [
             0.8888888888888888,
             "#fdca26"
            ],
            [
             1,
             "#f0f921"
            ]
           ],
           "sequentialminus": [
            [
             0,
             "#0d0887"
            ],
            [
             0.1111111111111111,
             "#46039f"
            ],
            [
             0.2222222222222222,
             "#7201a8"
            ],
            [
             0.3333333333333333,
             "#9c179e"
            ],
            [
             0.4444444444444444,
             "#bd3786"
            ],
            [
             0.5555555555555556,
             "#d8576b"
            ],
            [
             0.6666666666666666,
             "#ed7953"
            ],
            [
             0.7777777777777778,
             "#fb9f3a"
            ],
            [
             0.8888888888888888,
             "#fdca26"
            ],
            [
             1,
             "#f0f921"
            ]
           ]
          },
          "colorway": [
           "#636efa",
           "#EF553B",
           "#00cc96",
           "#ab63fa",
           "#FFA15A",
           "#19d3f3",
           "#FF6692",
           "#B6E880",
           "#FF97FF",
           "#FECB52"
          ],
          "font": {
           "color": "#2a3f5f"
          },
          "geo": {
           "bgcolor": "white",
           "lakecolor": "white",
           "landcolor": "#E5ECF6",
           "showlakes": true,
           "showland": true,
           "subunitcolor": "white"
          },
          "hoverlabel": {
           "align": "left"
          },
          "hovermode": "closest",
          "mapbox": {
           "style": "light"
          },
          "paper_bgcolor": "white",
          "plot_bgcolor": "#E5ECF6",
          "polar": {
           "angularaxis": {
            "gridcolor": "white",
            "linecolor": "white",
            "ticks": ""
           },
           "bgcolor": "#E5ECF6",
           "radialaxis": {
            "gridcolor": "white",
            "linecolor": "white",
            "ticks": ""
           }
          },
          "scene": {
           "xaxis": {
            "backgroundcolor": "#E5ECF6",
            "gridcolor": "white",
            "gridwidth": 2,
            "linecolor": "white",
            "showbackground": true,
            "ticks": "",
            "zerolinecolor": "white"
           },
           "yaxis": {
            "backgroundcolor": "#E5ECF6",
            "gridcolor": "white",
            "gridwidth": 2,
            "linecolor": "white",
            "showbackground": true,
            "ticks": "",
            "zerolinecolor": "white"
           },
           "zaxis": {
            "backgroundcolor": "#E5ECF6",
            "gridcolor": "white",
            "gridwidth": 2,
            "linecolor": "white",
            "showbackground": true,
            "ticks": "",
            "zerolinecolor": "white"
           }
          },
          "shapedefaults": {
           "line": {
            "color": "#2a3f5f"
           }
          },
          "ternary": {
           "aaxis": {
            "gridcolor": "white",
            "linecolor": "white",
            "ticks": ""
           },
           "baxis": {
            "gridcolor": "white",
            "linecolor": "white",
            "ticks": ""
           },
           "bgcolor": "#E5ECF6",
           "caxis": {
            "gridcolor": "white",
            "linecolor": "white",
            "ticks": ""
           }
          },
          "title": {
           "x": 0.05
          },
          "xaxis": {
           "automargin": true,
           "gridcolor": "white",
           "linecolor": "white",
           "ticks": "",
           "title": {
            "standoff": 15
           },
           "zerolinecolor": "white",
           "zerolinewidth": 2
          },
          "yaxis": {
           "automargin": true,
           "gridcolor": "white",
           "linecolor": "white",
           "ticks": "",
           "title": {
            "standoff": 15
           },
           "zerolinecolor": "white",
           "zerolinewidth": 2
          }
         }
        },
        "title": {
         "font": {
          "color": "#4D5663"
         }
        },
        "xaxis": {
         "gridcolor": "#E1E5ED",
         "showgrid": true,
         "tickfont": {
          "color": "#4D5663"
         },
         "title": {
          "font": {
           "color": "#4D5663"
          },
          "text": ""
         },
         "zerolinecolor": "#E1E5ED"
        },
        "yaxis": {
         "gridcolor": "#E1E5ED",
         "showgrid": true,
         "tickfont": {
          "color": "#4D5663"
         },
         "title": {
          "font": {
           "color": "#4D5663"
          },
          "text": ""
         },
         "zerolinecolor": "#E1E5ED"
        }
       }
      },
      "text/html": [
       "<div>                            <div id=\"c0ffdc1a-6dd8-4655-9d4a-3dcef4830a63\" class=\"plotly-graph-div\" style=\"height:525px; width:100%;\"></div>            <script type=\"text/javascript\">                require([\"plotly\"], function(Plotly) {                    window.PLOTLYENV=window.PLOTLYENV || {};\n",
       "                    window.PLOTLYENV.BASE_URL='https://plot.ly';                                    if (document.getElementById(\"c0ffdc1a-6dd8-4655-9d4a-3dcef4830a63\")) {                    Plotly.newPlot(                        \"c0ffdc1a-6dd8-4655-9d4a-3dcef4830a63\",                        [{\"marker\":{\"color\":\"rgba(55, 128, 191, 0.6)\",\"line\":{\"color\":\"rgba(55, 128, 191, 1.0)\",\"width\":1}},\"name\":\"Number of Shares\",\"orientation\":\"v\",\"text\":\"\",\"x\":[\"XAEH3\",\"FANG.OQ\",\"TRGP.N\",\"PXD.N\",\"HES.N\",\"APA.OQ\",\"EQT.N\",\"VLO.N\",\"OKE.N\",\"MPC.N\",\"PSX.N\",\"EOG.N\",\"COP.N\",\"MRO.N\",\"DVN.N\",\"OXY.N\",\"CTRA.N\",\"HAL.N\",\"BKR.OQ\",\"WMB.N\",\"SLB.N\",\"CVX.N\",\"KMI.N\",\"XOM.N\",\"LP40098642\"],\"y\":[190000.0,5148757.0,6622537.0,6950903.0,8117527.0,9405759.0,10737842.0,11278375.0,13075516.0,13710609.0,13826737.0,14260820.0,15770957.0,18578734.0,19123815.0,21271979.0,23066372.0,26564666.0,29297728.0,35632263.0,36940902.0,46072089.0,57866280.0,85651581.0,136944337.79],\"type\":\"bar\"}],                        {\"legend\":{\"bgcolor\":\"#F5F6F9\",\"font\":{\"color\":\"#4D5663\"}},\"paper_bgcolor\":\"#F5F6F9\",\"plot_bgcolor\":\"#F5F6F9\",\"template\":{\"data\":{\"barpolar\":[{\"marker\":{\"line\":{\"color\":\"#E5ECF6\",\"width\":0.5},\"pattern\":{\"fillmode\":\"overlay\",\"size\":10,\"solidity\":0.2}},\"type\":\"barpolar\"}],\"bar\":[{\"error_x\":{\"color\":\"#2a3f5f\"},\"error_y\":{\"color\":\"#2a3f5f\"},\"marker\":{\"line\":{\"color\":\"#E5ECF6\",\"width\":0.5},\"pattern\":{\"fillmode\":\"overlay\",\"size\":10,\"solidity\":0.2}},\"type\":\"bar\"}],\"carpet\":[{\"aaxis\":{\"endlinecolor\":\"#2a3f5f\",\"gridcolor\":\"white\",\"linecolor\":\"white\",\"minorgridcolor\":\"white\",\"startlinecolor\":\"#2a3f5f\"},\"baxis\":{\"endlinecolor\":\"#2a3f5f\",\"gridcolor\":\"white\",\"linecolor\":\"white\",\"minorgridcolor\":\"white\",\"startlinecolor\":\"#2a3f5f\"},\"type\":\"carpet\"}],\"choropleth\":[{\"colorbar\":{\"outlinewidth\":0,\"ticks\":\"\"},\"type\":\"choropleth\"}],\"contourcarpet\":[{\"colorbar\":{\"outlinewidth\":0,\"ticks\":\"\"},\"type\":\"contourcarpet\"}],\"contour\":[{\"colorbar\":{\"outlinewidth\":0,\"ticks\":\"\"},\"colorscale\":[[0.0,\"#0d0887\"],[0.1111111111111111,\"#46039f\"],[0.2222222222222222,\"#7201a8\"],[0.3333333333333333,\"#9c179e\"],[0.4444444444444444,\"#bd3786\"],[0.5555555555555556,\"#d8576b\"],[0.6666666666666666,\"#ed7953\"],[0.7777777777777778,\"#fb9f3a\"],[0.8888888888888888,\"#fdca26\"],[1.0,\"#f0f921\"]],\"type\":\"contour\"}],\"heatmapgl\":[{\"colorbar\":{\"outlinewidth\":0,\"ticks\":\"\"},\"colorscale\":[[0.0,\"#0d0887\"],[0.1111111111111111,\"#46039f\"],[0.2222222222222222,\"#7201a8\"],[0.3333333333333333,\"#9c179e\"],[0.4444444444444444,\"#bd3786\"],[0.5555555555555556,\"#d8576b\"],[0.6666666666666666,\"#ed7953\"],[0.7777777777777778,\"#fb9f3a\"],[0.8888888888888888,\"#fdca26\"],[1.0,\"#f0f921\"]],\"type\":\"heatmapgl\"}],\"heatmap\":[{\"colorbar\":{\"outlinewidth\":0,\"ticks\":\"\"},\"colorscale\":[[0.0,\"#0d0887\"],[0.1111111111111111,\"#46039f\"],[0.2222222222222222,\"#7201a8\"],[0.3333333333333333,\"#9c179e\"],[0.4444444444444444,\"#bd3786\"],[0.5555555555555556,\"#d8576b\"],[0.6666666666666666,\"#ed7953\"],[0.7777777777777778,\"#fb9f3a\"],[0.8888888888888888,\"#fdca26\"],[1.0,\"#f0f921\"]],\"type\":\"heatmap\"}],\"histogram2dcontour\":[{\"colorbar\":{\"outlinewidth\":0,\"ticks\":\"\"},\"colorscale\":[[0.0,\"#0d0887\"],[0.1111111111111111,\"#46039f\"],[0.2222222222222222,\"#7201a8\"],[0.3333333333333333,\"#9c179e\"],[0.4444444444444444,\"#bd3786\"],[0.5555555555555556,\"#d8576b\"],[0.6666666666666666,\"#ed7953\"],[0.7777777777777778,\"#fb9f3a\"],[0.8888888888888888,\"#fdca26\"],[1.0,\"#f0f921\"]],\"type\":\"histogram2dcontour\"}],\"histogram2d\":[{\"colorbar\":{\"outlinewidth\":0,\"ticks\":\"\"},\"colorscale\":[[0.0,\"#0d0887\"],[0.1111111111111111,\"#46039f\"],[0.2222222222222222,\"#7201a8\"],[0.3333333333333333,\"#9c179e\"],[0.4444444444444444,\"#bd3786\"],[0.5555555555555556,\"#d8576b\"],[0.6666666666666666,\"#ed7953\"],[0.7777777777777778,\"#fb9f3a\"],[0.8888888888888888,\"#fdca26\"],[1.0,\"#f0f921\"]],\"type\":\"histogram2d\"}],\"histogram\":[{\"marker\":{\"pattern\":{\"fillmode\":\"overlay\",\"size\":10,\"solidity\":0.2}},\"type\":\"histogram\"}],\"mesh3d\":[{\"colorbar\":{\"outlinewidth\":0,\"ticks\":\"\"},\"type\":\"mesh3d\"}],\"parcoords\":[{\"line\":{\"colorbar\":{\"outlinewidth\":0,\"ticks\":\"\"}},\"type\":\"parcoords\"}],\"pie\":[{\"automargin\":true,\"type\":\"pie\"}],\"scatter3d\":[{\"line\":{\"colorbar\":{\"outlinewidth\":0,\"ticks\":\"\"}},\"marker\":{\"colorbar\":{\"outlinewidth\":0,\"ticks\":\"\"}},\"type\":\"scatter3d\"}],\"scattercarpet\":[{\"marker\":{\"colorbar\":{\"outlinewidth\":0,\"ticks\":\"\"}},\"type\":\"scattercarpet\"}],\"scattergeo\":[{\"marker\":{\"colorbar\":{\"outlinewidth\":0,\"ticks\":\"\"}},\"type\":\"scattergeo\"}],\"scattergl\":[{\"marker\":{\"colorbar\":{\"outlinewidth\":0,\"ticks\":\"\"}},\"type\":\"scattergl\"}],\"scattermapbox\":[{\"marker\":{\"colorbar\":{\"outlinewidth\":0,\"ticks\":\"\"}},\"type\":\"scattermapbox\"}],\"scatterpolargl\":[{\"marker\":{\"colorbar\":{\"outlinewidth\":0,\"ticks\":\"\"}},\"type\":\"scatterpolargl\"}],\"scatterpolar\":[{\"marker\":{\"colorbar\":{\"outlinewidth\":0,\"ticks\":\"\"}},\"type\":\"scatterpolar\"}],\"scatter\":[{\"fillpattern\":{\"fillmode\":\"overlay\",\"size\":10,\"solidity\":0.2},\"type\":\"scatter\"}],\"scatterternary\":[{\"marker\":{\"colorbar\":{\"outlinewidth\":0,\"ticks\":\"\"}},\"type\":\"scatterternary\"}],\"surface\":[{\"colorbar\":{\"outlinewidth\":0,\"ticks\":\"\"},\"colorscale\":[[0.0,\"#0d0887\"],[0.1111111111111111,\"#46039f\"],[0.2222222222222222,\"#7201a8\"],[0.3333333333333333,\"#9c179e\"],[0.4444444444444444,\"#bd3786\"],[0.5555555555555556,\"#d8576b\"],[0.6666666666666666,\"#ed7953\"],[0.7777777777777778,\"#fb9f3a\"],[0.8888888888888888,\"#fdca26\"],[1.0,\"#f0f921\"]],\"type\":\"surface\"}],\"table\":[{\"cells\":{\"fill\":{\"color\":\"#EBF0F8\"},\"line\":{\"color\":\"white\"}},\"header\":{\"fill\":{\"color\":\"#C8D4E3\"},\"line\":{\"color\":\"white\"}},\"type\":\"table\"}]},\"layout\":{\"annotationdefaults\":{\"arrowcolor\":\"#2a3f5f\",\"arrowhead\":0,\"arrowwidth\":1},\"autotypenumbers\":\"strict\",\"coloraxis\":{\"colorbar\":{\"outlinewidth\":0,\"ticks\":\"\"}},\"colorscale\":{\"diverging\":[[0,\"#8e0152\"],[0.1,\"#c51b7d\"],[0.2,\"#de77ae\"],[0.3,\"#f1b6da\"],[0.4,\"#fde0ef\"],[0.5,\"#f7f7f7\"],[0.6,\"#e6f5d0\"],[0.7,\"#b8e186\"],[0.8,\"#7fbc41\"],[0.9,\"#4d9221\"],[1,\"#276419\"]],\"sequential\":[[0.0,\"#0d0887\"],[0.1111111111111111,\"#46039f\"],[0.2222222222222222,\"#7201a8\"],[0.3333333333333333,\"#9c179e\"],[0.4444444444444444,\"#bd3786\"],[0.5555555555555556,\"#d8576b\"],[0.6666666666666666,\"#ed7953\"],[0.7777777777777778,\"#fb9f3a\"],[0.8888888888888888,\"#fdca26\"],[1.0,\"#f0f921\"]],\"sequentialminus\":[[0.0,\"#0d0887\"],[0.1111111111111111,\"#46039f\"],[0.2222222222222222,\"#7201a8\"],[0.3333333333333333,\"#9c179e\"],[0.4444444444444444,\"#bd3786\"],[0.5555555555555556,\"#d8576b\"],[0.6666666666666666,\"#ed7953\"],[0.7777777777777778,\"#fb9f3a\"],[0.8888888888888888,\"#fdca26\"],[1.0,\"#f0f921\"]]},\"colorway\":[\"#636efa\",\"#EF553B\",\"#00cc96\",\"#ab63fa\",\"#FFA15A\",\"#19d3f3\",\"#FF6692\",\"#B6E880\",\"#FF97FF\",\"#FECB52\"],\"font\":{\"color\":\"#2a3f5f\"},\"geo\":{\"bgcolor\":\"white\",\"lakecolor\":\"white\",\"landcolor\":\"#E5ECF6\",\"showlakes\":true,\"showland\":true,\"subunitcolor\":\"white\"},\"hoverlabel\":{\"align\":\"left\"},\"hovermode\":\"closest\",\"mapbox\":{\"style\":\"light\"},\"paper_bgcolor\":\"white\",\"plot_bgcolor\":\"#E5ECF6\",\"polar\":{\"angularaxis\":{\"gridcolor\":\"white\",\"linecolor\":\"white\",\"ticks\":\"\"},\"bgcolor\":\"#E5ECF6\",\"radialaxis\":{\"gridcolor\":\"white\",\"linecolor\":\"white\",\"ticks\":\"\"}},\"scene\":{\"xaxis\":{\"backgroundcolor\":\"#E5ECF6\",\"gridcolor\":\"white\",\"gridwidth\":2,\"linecolor\":\"white\",\"showbackground\":true,\"ticks\":\"\",\"zerolinecolor\":\"white\"},\"yaxis\":{\"backgroundcolor\":\"#E5ECF6\",\"gridcolor\":\"white\",\"gridwidth\":2,\"linecolor\":\"white\",\"showbackground\":true,\"ticks\":\"\",\"zerolinecolor\":\"white\"},\"zaxis\":{\"backgroundcolor\":\"#E5ECF6\",\"gridcolor\":\"white\",\"gridwidth\":2,\"linecolor\":\"white\",\"showbackground\":true,\"ticks\":\"\",\"zerolinecolor\":\"white\"}},\"shapedefaults\":{\"line\":{\"color\":\"#2a3f5f\"}},\"ternary\":{\"aaxis\":{\"gridcolor\":\"white\",\"linecolor\":\"white\",\"ticks\":\"\"},\"baxis\":{\"gridcolor\":\"white\",\"linecolor\":\"white\",\"ticks\":\"\"},\"bgcolor\":\"#E5ECF6\",\"caxis\":{\"gridcolor\":\"white\",\"linecolor\":\"white\",\"ticks\":\"\"}},\"title\":{\"x\":0.05},\"xaxis\":{\"automargin\":true,\"gridcolor\":\"white\",\"linecolor\":\"white\",\"ticks\":\"\",\"title\":{\"standoff\":15},\"zerolinecolor\":\"white\",\"zerolinewidth\":2},\"yaxis\":{\"automargin\":true,\"gridcolor\":\"white\",\"linecolor\":\"white\",\"ticks\":\"\",\"title\":{\"standoff\":15},\"zerolinecolor\":\"white\",\"zerolinewidth\":2}}},\"title\":{\"font\":{\"color\":\"#4D5663\"}},\"xaxis\":{\"gridcolor\":\"#E1E5ED\",\"showgrid\":true,\"tickfont\":{\"color\":\"#4D5663\"},\"title\":{\"font\":{\"color\":\"#4D5663\"},\"text\":\"\"},\"zerolinecolor\":\"#E1E5ED\"},\"yaxis\":{\"gridcolor\":\"#E1E5ED\",\"showgrid\":true,\"tickfont\":{\"color\":\"#4D5663\"},\"title\":{\"font\":{\"color\":\"#4D5663\"},\"text\":\"\"},\"zerolinecolor\":\"#E1E5ED\"}},                        {\"showLink\": true, \"linkText\": \"Export to plot.ly\", \"plotlyServerURL\": \"https://plot.ly\", \"responsive\": true}                    ).then(function(){\n",
       "                            \n",
       "var gd = document.getElementById('c0ffdc1a-6dd8-4655-9d4a-3dcef4830a63');\n",
       "var x = new MutationObserver(function (mutations, observer) {{\n",
       "        var display = window.getComputedStyle(gd).display;\n",
       "        if (!display || display === 'none') {{\n",
       "            console.log([gd, 'removed!']);\n",
       "            Plotly.purge(gd);\n",
       "            observer.disconnect();\n",
       "        }}\n",
       "}});\n",
       "\n",
       "// Listen for the removal of the full notebook cells\n",
       "var notebookContainer = gd.closest('#notebook-container');\n",
       "if (notebookContainer) {{\n",
       "    x.observe(notebookContainer, {childList: true});\n",
       "}}\n",
       "\n",
       "// Listen for the clearing of the current output cell\n",
       "var outputEl = gd.closest('.output');\n",
       "if (outputEl) {{\n",
       "    x.observe(outputEl, {childList: true});\n",
       "}}\n",
       "\n",
       "                        })                };                });            </script>        </div>"
      ]
     },
     "metadata": {},
     "output_type": "display_data"
    }
   ],
   "source": [
    "XLE[(XLE['Holding RIC'] != '')].set_index('Holding RIC')['Number of Shares'].sort_values().iplot(kind='bar', color='blue')"
   ]
  },
  {
   "cell_type": "code",
   "execution_count": 9,
   "id": "b87a5c30",
   "metadata": {},
   "outputs": [
    {
     "name": "stdout",
     "output_type": "stream",
     "text": [
      "Help on function get_data in module eikon.data_grid:\n",
      "\n",
      "get_data(instruments, fields, parameters=None, field_name=False, raw_output=False, debug=False)\n",
      "    Returns a pandas.DataFrame with fields in columns and instruments as row index\n",
      "    \n",
      "    Parameters\n",
      "    ----------\n",
      "    instruments: string or list\n",
      "        Single instrument or list of instruments to request.\n",
      "    \n",
      "    fields: string, dictionary or list of strings and/or dictionaries.\n",
      "        List of fields to request.\n",
      "    \n",
      "        Examples:\n",
      "    \n",
      "        - 'TR.PriceClose'\n",
      "        - {'TR.GrossProfit': { 'params':{ 'Scale': 6, 'Curn': 'EUR' }}\n",
      "        - {'TR.GrossProfit': { 'params':{ 'Scale': 6, 'Curn': 'EUR' },sort_dir:'desc'}\n",
      "        - ['TR.PriceClose','TR.PriceOpen']\n",
      "        - [{'TR.PriceClose':  {'sort_dir':asc,sort_priority:1}},{'TR.PriceOpen':  {'sort_dir':asc,sort_priority:0}}\n",
      "        \n",
      "        You can use the function TR_Field to build the fields:\n",
      "    \n",
      "        >>> fields = [ek.TR_Field('tr.revenue'),ek.TR_Field('tr.open','asc',1),ek.TR_Field('TR.GrossProfit',{'Scale': 6, 'Curn': 'EUR'},'asc',0)]\n",
      "        >>> data, err = ek.get_data([\"IBM\",\"MSFT.O\"],fields)\n",
      "       \n",
      "        Tips:\n",
      "        You can launch the Data Item Browser to discover fields and parameters,\n",
      "        or copy field names and parameters from TR Eikon - MS Office formulas\n",
      "    \n",
      "    parameters: string or dictionary, optional\n",
      "        Single global parameter key=value or dictionary of global parameters to request.\n",
      "    \n",
      "        Default: None\n",
      "    \n",
      "    field_name: boolean, optional\n",
      "        Define if column headers are filled with field name or display names.\n",
      "    \n",
      "        If True value, field names will ube used as column headers. Otherwise, the full display name will be used.\n",
      "    \n",
      "        Default: False\n",
      "    \n",
      "    raw_output: boolean, optional\n",
      "        By default the output is a pandas.DataFrame.\n",
      "    \n",
      "        Set raw_output=True to get data in Json format.\n",
      "    \n",
      "        Default: False\n",
      "    \n",
      "    debug: boolean, optional\n",
      "        When set to True, the json request and response are printed. Default value is False\n",
      "    \n",
      "    Returns\n",
      "    -------\n",
      "        pandas.DataFrame\n",
      "            Returns pandas.DataFrame with fields in columns and instruments as row index\n",
      "    \n",
      "        errors\n",
      "            Returns a list of errors\n",
      "    \n",
      "    Raises\n",
      "    ----------\n",
      "        Exception\n",
      "            If http request fails or if server returns an error.\n",
      "    \n",
      "        ValueError\n",
      "            If a parameter type or value is wrong.\n",
      "    \n",
      "    Examples\n",
      "    --------\n",
      "    >>> import eikon as ek\n",
      "    >>> ek.set_app_key('set your app key here')\n",
      "    >>> data, err = ek.get_data([\"IBM\", \"GOOG.O\", \"MSFT.O\"], [\"TR.PriceClose\", \"TR.Volume\", \"TR.PriceLow\"])\n",
      "    >>> data, err = ek.get_data(\"IBM\", ['TR.Employees', {'TR.GrossProfit':{'params':{'Scale': 6, 'Curn': 'EUR'},'sort_dir':'asc'}}])\n",
      "    >>> fields = [ek.TR_Field('tr.revenue'),ek.TR_Field('tr.open',None,'asc',1),ek.TR_Field('TR.GrossProfit',{'Scale': 6, 'Curn': 'EUR'},'asc',0)]\n",
      "    >>> data, err = ek.get_data([\"IBM\",\"MSFT.O\"],fields)\n",
      "\n"
     ]
    }
   ],
   "source": [
    "help(ek.get_data)"
   ]
  },
  {
   "cell_type": "markdown",
   "id": "73aeb56c",
   "metadata": {},
   "source": [
    "# Descargar series de tiempo"
   ]
  },
  {
   "cell_type": "code",
   "execution_count": 47,
   "id": "73c2ec30",
   "metadata": {},
   "outputs": [],
   "source": [
    "#help(ek.get_timeseries)"
   ]
  },
  {
   "cell_type": "code",
   "execution_count": 34,
   "id": "93f30e3e",
   "metadata": {},
   "outputs": [
    {
     "name": "stdout",
     "output_type": "stream",
     "text": [
      "2023-02-28 2022-11-20\n"
     ]
    }
   ],
   "source": [
    "import datetime as dt\n",
    "today = dt.date.today()\n",
    "d = today - dt.timedelta(days=100)\n",
    "print(today, d)"
   ]
  },
  {
   "cell_type": "code",
   "execution_count": null,
   "id": "8c024382",
   "metadata": {},
   "outputs": [],
   "source": []
  },
  {
   "cell_type": "code",
   "execution_count": 64,
   "id": "c4563de2",
   "metadata": {},
   "outputs": [
    {
     "data": {
      "text/html": [
       "<div>\n",
       "<style scoped>\n",
       "    .dataframe tbody tr th:only-of-type {\n",
       "        vertical-align: middle;\n",
       "    }\n",
       "\n",
       "    .dataframe tbody tr th {\n",
       "        vertical-align: top;\n",
       "    }\n",
       "\n",
       "    .dataframe thead th {\n",
       "        text-align: right;\n",
       "    }\n",
       "</style>\n",
       "<table border=\"1\" class=\"dataframe\">\n",
       "  <thead>\n",
       "    <tr style=\"text-align: right;\">\n",
       "      <th>000001.SZ</th>\n",
       "      <th>HIGH</th>\n",
       "      <th>CLOSE</th>\n",
       "      <th>LOW</th>\n",
       "      <th>OPEN</th>\n",
       "      <th>VOLUME</th>\n",
       "    </tr>\n",
       "    <tr>\n",
       "      <th>Date</th>\n",
       "      <th></th>\n",
       "      <th></th>\n",
       "      <th></th>\n",
       "      <th></th>\n",
       "      <th></th>\n",
       "    </tr>\n",
       "  </thead>\n",
       "  <tbody>\n",
       "    <tr>\n",
       "      <th>2016-06-14</th>\n",
       "      <td>8.674997</td>\n",
       "      <td>8.666663</td>\n",
       "      <td>8.599997</td>\n",
       "      <td>8.616663</td>\n",
       "      <td>32836484.334594</td>\n",
       "    </tr>\n",
       "    <tr>\n",
       "      <th>2016-06-15</th>\n",
       "      <td>8.73333</td>\n",
       "      <td>8.699997</td>\n",
       "      <td>8.599997</td>\n",
       "      <td>8.60833</td>\n",
       "      <td>45380707.352283</td>\n",
       "    </tr>\n",
       "    <tr>\n",
       "      <th>2016-06-16</th>\n",
       "      <td>8.6</td>\n",
       "      <td>8.57</td>\n",
       "      <td>8.53</td>\n",
       "      <td>8.57</td>\n",
       "      <td>38667008.0</td>\n",
       "    </tr>\n",
       "    <tr>\n",
       "      <th>2016-06-17</th>\n",
       "      <td>8.61</td>\n",
       "      <td>8.58</td>\n",
       "      <td>8.54</td>\n",
       "      <td>8.57</td>\n",
       "      <td>31517300.0</td>\n",
       "    </tr>\n",
       "    <tr>\n",
       "      <th>2016-06-20</th>\n",
       "      <td>8.6</td>\n",
       "      <td>8.6</td>\n",
       "      <td>8.56</td>\n",
       "      <td>8.59</td>\n",
       "      <td>27073158.0</td>\n",
       "    </tr>\n",
       "  </tbody>\n",
       "</table>\n",
       "</div>"
      ],
      "text/plain": [
       "000001.SZ       HIGH     CLOSE       LOW      OPEN           VOLUME\n",
       "Date                                                               \n",
       "2016-06-14  8.674997  8.666663  8.599997  8.616663  32836484.334594\n",
       "2016-06-15   8.73333  8.699997  8.599997   8.60833  45380707.352283\n",
       "2016-06-16       8.6      8.57      8.53      8.57       38667008.0\n",
       "2016-06-17      8.61      8.58      8.54      8.57       31517300.0\n",
       "2016-06-20       8.6       8.6      8.56      8.59       27073158.0"
      ]
     },
     "execution_count": 64,
     "metadata": {},
     "output_type": "execute_result"
    }
   ],
   "source": [
    "df_ts = ek.get_timeseries([\"000001.SZ\"], \n",
    "                          start_date = \"2016-06-14\", \n",
    "                          end_date = \"2016-06-20\", \n",
    "                          interval=\"daily\", \n",
    "                          corax = 'adjusted' )\n",
    "df_ts"
   ]
  },
  {
   "cell_type": "code",
   "execution_count": 65,
   "id": "4a75ae24",
   "metadata": {},
   "outputs": [
    {
     "name": "stdout",
     "output_type": "stream",
     "text": [
      "2023-02-23 20:54:39.570986 2022-11-15 20:54:39.570986\n"
     ]
    }
   ],
   "source": [
    "import datetime as dt\n",
    "today = dt.datetime.today()\n",
    "d = today - dt.timedelta(days=100)\n",
    "print(today, d)"
   ]
  },
  {
   "cell_type": "code",
   "execution_count": 66,
   "id": "8f78dd2e",
   "metadata": {},
   "outputs": [
    {
     "data": {
      "text/html": [
       "<div>\n",
       "<style scoped>\n",
       "    .dataframe tbody tr th:only-of-type {\n",
       "        vertical-align: middle;\n",
       "    }\n",
       "\n",
       "    .dataframe tbody tr th {\n",
       "        vertical-align: top;\n",
       "    }\n",
       "\n",
       "    .dataframe thead th {\n",
       "        text-align: right;\n",
       "    }\n",
       "</style>\n",
       "<table border=\"1\" class=\"dataframe\">\n",
       "  <thead>\n",
       "    <tr style=\"text-align: right;\">\n",
       "      <th>000001.SZ</th>\n",
       "      <th>HIGH</th>\n",
       "      <th>CLOSE</th>\n",
       "      <th>LOW</th>\n",
       "      <th>OPEN</th>\n",
       "      <th>VOLUME</th>\n",
       "    </tr>\n",
       "    <tr>\n",
       "      <th>Date</th>\n",
       "      <th></th>\n",
       "      <th></th>\n",
       "      <th></th>\n",
       "      <th></th>\n",
       "      <th></th>\n",
       "    </tr>\n",
       "  </thead>\n",
       "  <tbody>\n",
       "    <tr>\n",
       "      <th>2016-06-14</th>\n",
       "      <td>10.41</td>\n",
       "      <td>10.4</td>\n",
       "      <td>10.32</td>\n",
       "      <td>10.34</td>\n",
       "      <td>27363726</td>\n",
       "    </tr>\n",
       "    <tr>\n",
       "      <th>2016-06-15</th>\n",
       "      <td>10.48</td>\n",
       "      <td>10.44</td>\n",
       "      <td>10.32</td>\n",
       "      <td>10.33</td>\n",
       "      <td>37817241</td>\n",
       "    </tr>\n",
       "    <tr>\n",
       "      <th>2016-06-16</th>\n",
       "      <td>8.6</td>\n",
       "      <td>8.57</td>\n",
       "      <td>8.53</td>\n",
       "      <td>8.57</td>\n",
       "      <td>38667008</td>\n",
       "    </tr>\n",
       "    <tr>\n",
       "      <th>2016-06-17</th>\n",
       "      <td>8.61</td>\n",
       "      <td>8.58</td>\n",
       "      <td>8.54</td>\n",
       "      <td>8.57</td>\n",
       "      <td>31517300</td>\n",
       "    </tr>\n",
       "    <tr>\n",
       "      <th>2016-06-20</th>\n",
       "      <td>8.6</td>\n",
       "      <td>8.6</td>\n",
       "      <td>8.56</td>\n",
       "      <td>8.59</td>\n",
       "      <td>27073158</td>\n",
       "    </tr>\n",
       "  </tbody>\n",
       "</table>\n",
       "</div>"
      ],
      "text/plain": [
       "000001.SZ    HIGH  CLOSE    LOW   OPEN    VOLUME\n",
       "Date                                            \n",
       "2016-06-14  10.41   10.4  10.32  10.34  27363726\n",
       "2016-06-15  10.48  10.44  10.32  10.33  37817241\n",
       "2016-06-16    8.6   8.57   8.53   8.57  38667008\n",
       "2016-06-17   8.61   8.58   8.54   8.57  31517300\n",
       "2016-06-20    8.6    8.6   8.56   8.59  27073158"
      ]
     },
     "execution_count": 66,
     "metadata": {},
     "output_type": "execute_result"
    }
   ],
   "source": [
    "df_ts = ek.get_timeseries([\"000001.SZ\"], start_date = \"2016-06-14\", end_date = \"2016-06-20\", interval=\"daily\", corax = 'unadjusted')\n",
    "df_ts"
   ]
  },
  {
   "cell_type": "code",
   "execution_count": 25,
   "id": "b4a29d47",
   "metadata": {},
   "outputs": [
    {
     "data": {
      "text/html": [
       "<div>\n",
       "<style scoped>\n",
       "    .dataframe tbody tr th:only-of-type {\n",
       "        vertical-align: middle;\n",
       "    }\n",
       "\n",
       "    .dataframe tbody tr th {\n",
       "        vertical-align: top;\n",
       "    }\n",
       "\n",
       "    .dataframe thead th {\n",
       "        text-align: right;\n",
       "    }\n",
       "</style>\n",
       "<table border=\"1\" class=\"dataframe\">\n",
       "  <thead>\n",
       "    <tr style=\"text-align: right;\">\n",
       "      <th>MSFT.O</th>\n",
       "      <th>HIGH</th>\n",
       "      <th>CLOSE</th>\n",
       "      <th>LOW</th>\n",
       "      <th>OPEN</th>\n",
       "      <th>COUNT</th>\n",
       "      <th>VOLUME</th>\n",
       "    </tr>\n",
       "    <tr>\n",
       "      <th>Date</th>\n",
       "      <th></th>\n",
       "      <th></th>\n",
       "      <th></th>\n",
       "      <th></th>\n",
       "      <th></th>\n",
       "      <th></th>\n",
       "    </tr>\n",
       "  </thead>\n",
       "  <tbody>\n",
       "    <tr>\n",
       "      <th>2022-11-21</th>\n",
       "      <td>244.67</td>\n",
       "      <td>242.05</td>\n",
       "      <td>241.19</td>\n",
       "      <td>241.43</td>\n",
       "      <td>270840</td>\n",
       "      <td>26394700</td>\n",
       "    </tr>\n",
       "    <tr>\n",
       "      <th>2022-11-22</th>\n",
       "      <td>245.31</td>\n",
       "      <td>245.03</td>\n",
       "      <td>240.71</td>\n",
       "      <td>243.59</td>\n",
       "      <td>216514</td>\n",
       "      <td>19665699</td>\n",
       "    </tr>\n",
       "    <tr>\n",
       "      <th>2022-11-23</th>\n",
       "      <td>248.28</td>\n",
       "      <td>247.58</td>\n",
       "      <td>244.27</td>\n",
       "      <td>245.105</td>\n",
       "      <td>229081</td>\n",
       "      <td>19508462</td>\n",
       "    </tr>\n",
       "    <tr>\n",
       "      <th>2022-11-25</th>\n",
       "      <td>248.7</td>\n",
       "      <td>247.49</td>\n",
       "      <td>246.73</td>\n",
       "      <td>247.31</td>\n",
       "      <td>126714</td>\n",
       "      <td>9200772</td>\n",
       "    </tr>\n",
       "    <tr>\n",
       "      <th>2022-11-28</th>\n",
       "      <td>246.65</td>\n",
       "      <td>241.76</td>\n",
       "      <td>240.8</td>\n",
       "      <td>246.08</td>\n",
       "      <td>273059</td>\n",
       "      <td>24810271</td>\n",
       "    </tr>\n",
       "    <tr>\n",
       "      <th>...</th>\n",
       "      <td>...</td>\n",
       "      <td>...</td>\n",
       "      <td>...</td>\n",
       "      <td>...</td>\n",
       "      <td>...</td>\n",
       "      <td>...</td>\n",
       "    </tr>\n",
       "    <tr>\n",
       "      <th>2023-02-22</th>\n",
       "      <td>254.34</td>\n",
       "      <td>251.51</td>\n",
       "      <td>250.34</td>\n",
       "      <td>254.09</td>\n",
       "      <td>276380</td>\n",
       "      <td>22491056</td>\n",
       "    </tr>\n",
       "    <tr>\n",
       "      <th>2023-02-23</th>\n",
       "      <td>256.84</td>\n",
       "      <td>254.77</td>\n",
       "      <td>250.48</td>\n",
       "      <td>255.56</td>\n",
       "      <td>366248</td>\n",
       "      <td>29219095</td>\n",
       "    </tr>\n",
       "    <tr>\n",
       "      <th>2023-02-24</th>\n",
       "      <td>251.0</td>\n",
       "      <td>249.22</td>\n",
       "      <td>248.1</td>\n",
       "      <td>249.96</td>\n",
       "      <td>339812</td>\n",
       "      <td>24990905</td>\n",
       "    </tr>\n",
       "    <tr>\n",
       "      <th>2023-02-27</th>\n",
       "      <td>252.82</td>\n",
       "      <td>250.16</td>\n",
       "      <td>249.39</td>\n",
       "      <td>252.46</td>\n",
       "      <td>267767</td>\n",
       "      <td>21190042</td>\n",
       "    </tr>\n",
       "    <tr>\n",
       "      <th>2023-02-28</th>\n",
       "      <td>251.49</td>\n",
       "      <td>249.42</td>\n",
       "      <td>248.73</td>\n",
       "      <td>249.07</td>\n",
       "      <td>248763</td>\n",
       "      <td>20819808</td>\n",
       "    </tr>\n",
       "  </tbody>\n",
       "</table>\n",
       "<p>67 rows × 6 columns</p>\n",
       "</div>"
      ],
      "text/plain": [
       "MSFT.O        HIGH   CLOSE     LOW     OPEN   COUNT    VOLUME\n",
       "Date                                                         \n",
       "2022-11-21  244.67  242.05  241.19   241.43  270840  26394700\n",
       "2022-11-22  245.31  245.03  240.71   243.59  216514  19665699\n",
       "2022-11-23  248.28  247.58  244.27  245.105  229081  19508462\n",
       "2022-11-25   248.7  247.49  246.73   247.31  126714   9200772\n",
       "2022-11-28  246.65  241.76   240.8   246.08  273059  24810271\n",
       "...            ...     ...     ...      ...     ...       ...\n",
       "2023-02-22  254.34  251.51  250.34   254.09  276380  22491056\n",
       "2023-02-23  256.84  254.77  250.48   255.56  366248  29219095\n",
       "2023-02-24   251.0  249.22   248.1   249.96  339812  24990905\n",
       "2023-02-27  252.82  250.16  249.39   252.46  267767  21190042\n",
       "2023-02-28  251.49  249.42  248.73   249.07  248763  20819808\n",
       "\n",
       "[67 rows x 6 columns]"
      ]
     },
     "execution_count": 25,
     "metadata": {},
     "output_type": "execute_result"
    }
   ],
   "source": [
    "df_ts = ek.get_timeseries([\"MSFT.O\"], start_date = d, end_date = today, interval=\"daily\", corax = 'unadjusted')\n",
    "df_ts"
   ]
  },
  {
   "cell_type": "code",
   "execution_count": 12,
   "id": "a7e4bc73",
   "metadata": {},
   "outputs": [
    {
     "data": {
      "text/plain": [
       "pandas.core.frame.DataFrame"
      ]
     },
     "execution_count": 12,
     "metadata": {},
     "output_type": "execute_result"
    }
   ],
   "source": [
    "type(df_ts)"
   ]
  },
  {
   "cell_type": "code",
   "execution_count": 16,
   "id": "8db9ac8a",
   "metadata": {},
   "outputs": [
    {
     "data": {
      "text/plain": [
       "MSFT.O\n",
       "HIGH      Float64\n",
       "CLOSE     Float64\n",
       "LOW       Float64\n",
       "OPEN      Float64\n",
       "COUNT       Int64\n",
       "VOLUME      Int64\n",
       "dtype: object"
      ]
     },
     "execution_count": 16,
     "metadata": {},
     "output_type": "execute_result"
    }
   ],
   "source": [
    "df_ts.dtypes"
   ]
  },
  {
   "cell_type": "code",
   "execution_count": 70,
   "id": "623e0e9b",
   "metadata": {},
   "outputs": [],
   "source": [
    "#df_ts.values"
   ]
  },
  {
   "cell_type": "code",
   "execution_count": 71,
   "id": "2383c8f0",
   "metadata": {},
   "outputs": [
    {
     "data": {
      "text/plain": [
       "Date\n",
       "2022-11-16    241.73\n",
       "2022-11-17    241.68\n",
       "2022-11-18    241.22\n",
       "2022-11-21    242.05\n",
       "2022-11-22    245.03\n",
       "               ...  \n",
       "2023-02-16    262.15\n",
       "2023-02-17    258.06\n",
       "2023-02-21    252.67\n",
       "2023-02-22    251.51\n",
       "2023-02-23    254.77\n",
       "Name: CLOSE, Length: 67, dtype: Float64"
      ]
     },
     "execution_count": 71,
     "metadata": {},
     "output_type": "execute_result"
    }
   ],
   "source": [
    "df_ts['CLOSE']"
   ]
  },
  {
   "cell_type": "code",
   "execution_count": 17,
   "id": "95ee8dd9",
   "metadata": {},
   "outputs": [
    {
     "data": {
      "text/html": [
       "<div>\n",
       "<style scoped>\n",
       "    .dataframe tbody tr th:only-of-type {\n",
       "        vertical-align: middle;\n",
       "    }\n",
       "\n",
       "    .dataframe tbody tr th {\n",
       "        vertical-align: top;\n",
       "    }\n",
       "\n",
       "    .dataframe thead th {\n",
       "        text-align: right;\n",
       "    }\n",
       "</style>\n",
       "<table border=\"1\" class=\"dataframe\">\n",
       "  <thead>\n",
       "    <tr style=\"text-align: right;\">\n",
       "      <th>MSFT.O</th>\n",
       "      <th>HIGH</th>\n",
       "      <th>CLOSE</th>\n",
       "      <th>LOW</th>\n",
       "      <th>OPEN</th>\n",
       "      <th>COUNT</th>\n",
       "      <th>VOLUME</th>\n",
       "    </tr>\n",
       "    <tr>\n",
       "      <th>Date</th>\n",
       "      <th></th>\n",
       "      <th></th>\n",
       "      <th></th>\n",
       "      <th></th>\n",
       "      <th></th>\n",
       "      <th></th>\n",
       "    </tr>\n",
       "  </thead>\n",
       "  <tbody>\n",
       "    <tr>\n",
       "      <th>2022-11-30</th>\n",
       "      <td>255.33</td>\n",
       "      <td>255.14</td>\n",
       "      <td>213.431</td>\n",
       "      <td>234.6</td>\n",
       "      <td>6820102</td>\n",
       "      <td>615328220</td>\n",
       "    </tr>\n",
       "    <tr>\n",
       "      <th>2022-12-31</th>\n",
       "      <td>263.915</td>\n",
       "      <td>239.82</td>\n",
       "      <td>233.87</td>\n",
       "      <td>253.87</td>\n",
       "      <td>6293921</td>\n",
       "      <td>591366468</td>\n",
       "    </tr>\n",
       "    <tr>\n",
       "      <th>2023-02-28</th>\n",
       "      <td>276.76</td>\n",
       "      <td>249.42</td>\n",
       "      <td>245.47</td>\n",
       "      <td>248.0</td>\n",
       "      <td>7654769</td>\n",
       "      <td>613869636</td>\n",
       "    </tr>\n",
       "  </tbody>\n",
       "</table>\n",
       "</div>"
      ],
      "text/plain": [
       "MSFT.O         HIGH   CLOSE      LOW    OPEN    COUNT     VOLUME\n",
       "Date                                                            \n",
       "2022-11-30   255.33  255.14  213.431   234.6  6820102  615328220\n",
       "2022-12-31  263.915  239.82   233.87  253.87  6293921  591366468\n",
       "2023-02-28   276.76  249.42   245.47   248.0  7654769  613869636"
      ]
     },
     "execution_count": 17,
     "metadata": {},
     "output_type": "execute_result"
    }
   ],
   "source": [
    "#podemos usar la seleccion boleeana dentro del pandas.DataFrame\n",
    "df_ts[(df_ts['HIGH'] > 250)]"
   ]
  },
  {
   "cell_type": "code",
   "execution_count": 18,
   "id": "6b3ac04a",
   "metadata": {},
   "outputs": [
    {
     "data": {
      "text/plain": [
       "DatetimeIndex(['2022-11-30', '2022-12-31', '2023-01-31', '2023-02-28'], dtype='datetime64[ns]', name='Date', freq=None)"
      ]
     },
     "execution_count": 18,
     "metadata": {},
     "output_type": "execute_result"
    }
   ],
   "source": [
    "df_ts.index"
   ]
  },
  {
   "cell_type": "code",
   "execution_count": 32,
   "id": "235318b7",
   "metadata": {},
   "outputs": [
    {
     "name": "stdout",
     "output_type": "stream",
     "text": [
      "2023-02-16\n"
     ]
    }
   ],
   "source": [
    "today_date = dt.date.today()\n",
    "d = today_date - dt.timedelta(days=12)\n",
    "print(d)"
   ]
  },
  {
   "cell_type": "code",
   "execution_count": 24,
   "id": "86922fe8",
   "metadata": {},
   "outputs": [
    {
     "data": {
      "text/html": [
       "<div>\n",
       "<style scoped>\n",
       "    .dataframe tbody tr th:only-of-type {\n",
       "        vertical-align: middle;\n",
       "    }\n",
       "\n",
       "    .dataframe tbody tr th {\n",
       "        vertical-align: top;\n",
       "    }\n",
       "\n",
       "    .dataframe thead th {\n",
       "        text-align: right;\n",
       "    }\n",
       "</style>\n",
       "<table border=\"1\" class=\"dataframe\">\n",
       "  <thead>\n",
       "    <tr style=\"text-align: right;\">\n",
       "      <th>MSFT.O</th>\n",
       "      <th>HIGH</th>\n",
       "      <th>CLOSE</th>\n",
       "      <th>LOW</th>\n",
       "      <th>OPEN</th>\n",
       "      <th>COUNT</th>\n",
       "      <th>VOLUME</th>\n",
       "    </tr>\n",
       "    <tr>\n",
       "      <th>Date</th>\n",
       "      <th></th>\n",
       "      <th></th>\n",
       "      <th></th>\n",
       "      <th></th>\n",
       "      <th></th>\n",
       "      <th></th>\n",
       "    </tr>\n",
       "  </thead>\n",
       "  <tbody>\n",
       "    <tr>\n",
       "      <th>2022-12-31</th>\n",
       "      <td>263.915</td>\n",
       "      <td>239.82</td>\n",
       "      <td>233.87</td>\n",
       "      <td>253.87</td>\n",
       "      <td>6293921</td>\n",
       "      <td>591366468</td>\n",
       "    </tr>\n",
       "    <tr>\n",
       "      <th>2023-01-31</th>\n",
       "      <td>249.83</td>\n",
       "      <td>247.81</td>\n",
       "      <td>219.35</td>\n",
       "      <td>243.08</td>\n",
       "      <td>8148964</td>\n",
       "      <td>666168068</td>\n",
       "    </tr>\n",
       "    <tr>\n",
       "      <th>2023-02-28</th>\n",
       "      <td>276.76</td>\n",
       "      <td>249.42</td>\n",
       "      <td>245.47</td>\n",
       "      <td>248.0</td>\n",
       "      <td>7654769</td>\n",
       "      <td>613869636</td>\n",
       "    </tr>\n",
       "  </tbody>\n",
       "</table>\n",
       "</div>"
      ],
      "text/plain": [
       "MSFT.O         HIGH   CLOSE     LOW    OPEN    COUNT     VOLUME\n",
       "Date                                                           \n",
       "2022-12-31  263.915  239.82  233.87  253.87  6293921  591366468\n",
       "2023-01-31   249.83  247.81  219.35  243.08  8148964  666168068\n",
       "2023-02-28   276.76  249.42  245.47   248.0  7654769  613869636"
      ]
     },
     "execution_count": 24,
     "metadata": {},
     "output_type": "execute_result"
    }
   ],
   "source": [
    "#Podemos seleccionar una sola fila, como lo haciamos en numpy, de la siguiente manera:\n",
    "df_ts.iloc[1:4]"
   ]
  },
  {
   "cell_type": "code",
   "execution_count": 33,
   "id": "3ab4c2cd",
   "metadata": {},
   "outputs": [
    {
     "data": {
      "text/html": [
       "<div>\n",
       "<style scoped>\n",
       "    .dataframe tbody tr th:only-of-type {\n",
       "        vertical-align: middle;\n",
       "    }\n",
       "\n",
       "    .dataframe tbody tr th {\n",
       "        vertical-align: top;\n",
       "    }\n",
       "\n",
       "    .dataframe thead th {\n",
       "        text-align: right;\n",
       "    }\n",
       "</style>\n",
       "<table border=\"1\" class=\"dataframe\">\n",
       "  <thead>\n",
       "    <tr style=\"text-align: right;\">\n",
       "      <th>MSFT.O</th>\n",
       "      <th>HIGH</th>\n",
       "      <th>CLOSE</th>\n",
       "      <th>LOW</th>\n",
       "      <th>OPEN</th>\n",
       "      <th>COUNT</th>\n",
       "      <th>VOLUME</th>\n",
       "    </tr>\n",
       "    <tr>\n",
       "      <th>Date</th>\n",
       "      <th></th>\n",
       "      <th></th>\n",
       "      <th></th>\n",
       "      <th></th>\n",
       "      <th></th>\n",
       "      <th></th>\n",
       "    </tr>\n",
       "  </thead>\n",
       "  <tbody>\n",
       "    <tr>\n",
       "      <th>2023-02-16</th>\n",
       "      <td>266.74</td>\n",
       "      <td>262.15</td>\n",
       "      <td>261.9</td>\n",
       "      <td>264.02</td>\n",
       "      <td>389914</td>\n",
       "      <td>29603616</td>\n",
       "    </tr>\n",
       "  </tbody>\n",
       "</table>\n",
       "</div>"
      ],
      "text/plain": [
       "MSFT.O        HIGH   CLOSE    LOW    OPEN   COUNT    VOLUME\n",
       "Date                                                       \n",
       "2023-02-16  266.74  262.15  261.9  264.02  389914  29603616"
      ]
     },
     "execution_count": 33,
     "metadata": {},
     "output_type": "execute_result"
    }
   ],
   "source": [
    "#El atributo pandas.DateFrame.loc nos permite indexar las filas en vez de las columnas\n",
    "df_ts.loc[[d]]"
   ]
  },
  {
   "cell_type": "code",
   "execution_count": 31,
   "id": "720a7e01",
   "metadata": {},
   "outputs": [
    {
     "data": {
      "text/html": [
       "<div>\n",
       "<style scoped>\n",
       "    .dataframe tbody tr th:only-of-type {\n",
       "        vertical-align: middle;\n",
       "    }\n",
       "\n",
       "    .dataframe tbody tr th {\n",
       "        vertical-align: top;\n",
       "    }\n",
       "\n",
       "    .dataframe thead th {\n",
       "        text-align: right;\n",
       "    }\n",
       "</style>\n",
       "<table border=\"1\" class=\"dataframe\">\n",
       "  <thead>\n",
       "    <tr style=\"text-align: right;\">\n",
       "      <th>MSFT.O</th>\n",
       "      <th>HIGH</th>\n",
       "      <th>CLOSE</th>\n",
       "      <th>LOW</th>\n",
       "      <th>OPEN</th>\n",
       "      <th>COUNT</th>\n",
       "      <th>VOLUME</th>\n",
       "    </tr>\n",
       "    <tr>\n",
       "      <th>Date</th>\n",
       "      <th></th>\n",
       "      <th></th>\n",
       "      <th></th>\n",
       "      <th></th>\n",
       "      <th></th>\n",
       "      <th></th>\n",
       "    </tr>\n",
       "  </thead>\n",
       "  <tbody>\n",
       "    <tr>\n",
       "      <th>2023-02-14</th>\n",
       "      <td>274.97</td>\n",
       "      <td>272.17</td>\n",
       "      <td>269.28</td>\n",
       "      <td>272.67</td>\n",
       "      <td>471699</td>\n",
       "      <td>37047924</td>\n",
       "    </tr>\n",
       "    <tr>\n",
       "      <th>2023-02-15</th>\n",
       "      <td>270.73</td>\n",
       "      <td>269.32</td>\n",
       "      <td>266.18</td>\n",
       "      <td>268.32</td>\n",
       "      <td>370701</td>\n",
       "      <td>28962163</td>\n",
       "    </tr>\n",
       "    <tr>\n",
       "      <th>2023-02-16</th>\n",
       "      <td>266.74</td>\n",
       "      <td>262.15</td>\n",
       "      <td>261.9</td>\n",
       "      <td>264.02</td>\n",
       "      <td>389914</td>\n",
       "      <td>29603616</td>\n",
       "    </tr>\n",
       "    <tr>\n",
       "      <th>2023-02-17</th>\n",
       "      <td>260.09</td>\n",
       "      <td>258.06</td>\n",
       "      <td>256.0</td>\n",
       "      <td>259.39</td>\n",
       "      <td>392724</td>\n",
       "      <td>30000055</td>\n",
       "    </tr>\n",
       "    <tr>\n",
       "      <th>2023-02-21</th>\n",
       "      <td>255.49</td>\n",
       "      <td>252.67</td>\n",
       "      <td>251.59</td>\n",
       "      <td>254.48</td>\n",
       "      <td>341326</td>\n",
       "      <td>28397444</td>\n",
       "    </tr>\n",
       "    <tr>\n",
       "      <th>2023-02-22</th>\n",
       "      <td>254.34</td>\n",
       "      <td>251.51</td>\n",
       "      <td>250.34</td>\n",
       "      <td>254.09</td>\n",
       "      <td>276380</td>\n",
       "      <td>22491056</td>\n",
       "    </tr>\n",
       "    <tr>\n",
       "      <th>2023-02-23</th>\n",
       "      <td>256.84</td>\n",
       "      <td>254.77</td>\n",
       "      <td>250.48</td>\n",
       "      <td>255.56</td>\n",
       "      <td>366248</td>\n",
       "      <td>29219095</td>\n",
       "    </tr>\n",
       "    <tr>\n",
       "      <th>2023-02-24</th>\n",
       "      <td>251.0</td>\n",
       "      <td>249.22</td>\n",
       "      <td>248.1</td>\n",
       "      <td>249.96</td>\n",
       "      <td>339812</td>\n",
       "      <td>24990905</td>\n",
       "    </tr>\n",
       "    <tr>\n",
       "      <th>2023-02-27</th>\n",
       "      <td>252.82</td>\n",
       "      <td>250.16</td>\n",
       "      <td>249.39</td>\n",
       "      <td>252.46</td>\n",
       "      <td>267767</td>\n",
       "      <td>21190042</td>\n",
       "    </tr>\n",
       "    <tr>\n",
       "      <th>2023-02-28</th>\n",
       "      <td>251.49</td>\n",
       "      <td>249.42</td>\n",
       "      <td>248.73</td>\n",
       "      <td>249.07</td>\n",
       "      <td>248763</td>\n",
       "      <td>20819808</td>\n",
       "    </tr>\n",
       "  </tbody>\n",
       "</table>\n",
       "</div>"
      ],
      "text/plain": [
       "MSFT.O        HIGH   CLOSE     LOW    OPEN   COUNT    VOLUME\n",
       "Date                                                        \n",
       "2023-02-14  274.97  272.17  269.28  272.67  471699  37047924\n",
       "2023-02-15  270.73  269.32  266.18  268.32  370701  28962163\n",
       "2023-02-16  266.74  262.15   261.9  264.02  389914  29603616\n",
       "2023-02-17  260.09  258.06   256.0  259.39  392724  30000055\n",
       "2023-02-21  255.49  252.67  251.59  254.48  341326  28397444\n",
       "2023-02-22  254.34  251.51  250.34  254.09  276380  22491056\n",
       "2023-02-23  256.84  254.77  250.48  255.56  366248  29219095\n",
       "2023-02-24   251.0  249.22   248.1  249.96  339812  24990905\n",
       "2023-02-27  252.82  250.16  249.39  252.46  267767  21190042\n",
       "2023-02-28  251.49  249.42  248.73  249.07  248763  20819808"
      ]
     },
     "execution_count": 31,
     "metadata": {},
     "output_type": "execute_result"
    }
   ],
   "source": [
    "df_ts[-10:]"
   ]
  },
  {
   "cell_type": "markdown",
   "id": "80e047f0",
   "metadata": {},
   "source": [
    "# Estadística básica"
   ]
  },
  {
   "cell_type": "code",
   "execution_count": 35,
   "id": "5063a2fb",
   "metadata": {},
   "outputs": [
    {
     "data": {
      "text/plain": [
       "['BASFn.DE',\n",
       " 'IFXGn.DE',\n",
       " 'SIEGn.DE',\n",
       " 'EONGn.DE',\n",
       " 'DBKGn.DE',\n",
       " 'SATG_p.DE',\n",
       " 'SAPG.DE',\n",
       " 'BAYGn.DE',\n",
       " 'RWEG.DE',\n",
       " '1COV.DE']"
      ]
     },
     "execution_count": 35,
     "metadata": {},
     "output_type": "execute_result"
    }
   ],
   "source": [
    "dax_corto = dax['Instrument'][0:10].tolist()\n",
    "dax_corto"
   ]
  },
  {
   "cell_type": "code",
   "execution_count": 36,
   "id": "c79a93b7",
   "metadata": {},
   "outputs": [
    {
     "name": "stdout",
     "output_type": "stream",
     "text": [
      "2023-02-28 18:32:30.557184 2022-11-20 18:32:30.557184\n"
     ]
    }
   ],
   "source": [
    "today = dt.datetime.today()\n",
    "d = today - dt.timedelta(days=100)\n",
    "print(today, d)"
   ]
  },
  {
   "cell_type": "code",
   "execution_count": 39,
   "id": "8d753be3",
   "metadata": {},
   "outputs": [
    {
     "data": {
      "text/html": [
       "<div>\n",
       "<style scoped>\n",
       "    .dataframe tbody tr th:only-of-type {\n",
       "        vertical-align: middle;\n",
       "    }\n",
       "\n",
       "    .dataframe tbody tr th {\n",
       "        vertical-align: top;\n",
       "    }\n",
       "\n",
       "    .dataframe thead th {\n",
       "        text-align: right;\n",
       "    }\n",
       "</style>\n",
       "<table border=\"1\" class=\"dataframe\">\n",
       "  <thead>\n",
       "    <tr style=\"text-align: right;\">\n",
       "      <th>CLOSE</th>\n",
       "      <th>BASFn.DE</th>\n",
       "      <th>IFXGn.DE</th>\n",
       "      <th>SIEGn.DE</th>\n",
       "      <th>EONGn.DE</th>\n",
       "      <th>DBKGn.DE</th>\n",
       "      <th>SATG_p.DE</th>\n",
       "      <th>SAPG.DE</th>\n",
       "      <th>BAYGn.DE</th>\n",
       "      <th>RWEG.DE</th>\n",
       "      <th>1COV.DE</th>\n",
       "    </tr>\n",
       "    <tr>\n",
       "      <th>Date</th>\n",
       "      <th></th>\n",
       "      <th></th>\n",
       "      <th></th>\n",
       "      <th></th>\n",
       "      <th></th>\n",
       "      <th></th>\n",
       "      <th></th>\n",
       "      <th></th>\n",
       "      <th></th>\n",
       "      <th></th>\n",
       "    </tr>\n",
       "  </thead>\n",
       "  <tbody>\n",
       "    <tr>\n",
       "      <th>2022-11-21</th>\n",
       "      <td>48.67</td>\n",
       "      <td>31.505</td>\n",
       "      <td>129.1</td>\n",
       "      <td>9.08</td>\n",
       "      <td>10.218</td>\n",
       "      <td>373.4</td>\n",
       "      <td>106.24</td>\n",
       "      <td>54.4</td>\n",
       "      <td>40.99</td>\n",
       "      <td>35.02</td>\n",
       "    </tr>\n",
       "    <tr>\n",
       "      <th>2022-11-22</th>\n",
       "      <td>49.52</td>\n",
       "      <td>31.67</td>\n",
       "      <td>130.68</td>\n",
       "      <td>9.0</td>\n",
       "      <td>10.168</td>\n",
       "      <td>367.6</td>\n",
       "      <td>105.62</td>\n",
       "      <td>54.61</td>\n",
       "      <td>41.3</td>\n",
       "      <td>36.61</td>\n",
       "    </tr>\n",
       "    <tr>\n",
       "      <th>2022-11-23</th>\n",
       "      <td>49.27</td>\n",
       "      <td>31.685</td>\n",
       "      <td>130.68</td>\n",
       "      <td>8.952</td>\n",
       "      <td>10.226</td>\n",
       "      <td>367.6</td>\n",
       "      <td>105.6</td>\n",
       "      <td>54.49</td>\n",
       "      <td>41.05</td>\n",
       "      <td>36.82</td>\n",
       "    </tr>\n",
       "    <tr>\n",
       "      <th>2022-11-24</th>\n",
       "      <td>49.885</td>\n",
       "      <td>31.85</td>\n",
       "      <td>130.96</td>\n",
       "      <td>9.084</td>\n",
       "      <td>10.37</td>\n",
       "      <td>374.4</td>\n",
       "      <td>105.46</td>\n",
       "      <td>55.51</td>\n",
       "      <td>41.61</td>\n",
       "      <td>38.12</td>\n",
       "    </tr>\n",
       "    <tr>\n",
       "      <th>2022-11-25</th>\n",
       "      <td>49.605</td>\n",
       "      <td>31.6</td>\n",
       "      <td>132.06</td>\n",
       "      <td>9.126</td>\n",
       "      <td>10.39</td>\n",
       "      <td>371.9</td>\n",
       "      <td>106.02</td>\n",
       "      <td>55.45</td>\n",
       "      <td>42.41</td>\n",
       "      <td>37.42</td>\n",
       "    </tr>\n",
       "    <tr>\n",
       "      <th>...</th>\n",
       "      <td>...</td>\n",
       "      <td>...</td>\n",
       "      <td>...</td>\n",
       "      <td>...</td>\n",
       "      <td>...</td>\n",
       "      <td>...</td>\n",
       "      <td>...</td>\n",
       "      <td>...</td>\n",
       "      <td>...</td>\n",
       "      <td>...</td>\n",
       "    </tr>\n",
       "    <tr>\n",
       "      <th>2023-02-22</th>\n",
       "      <td>52.36</td>\n",
       "      <td>34.26</td>\n",
       "      <td>144.34</td>\n",
       "      <td>10.245</td>\n",
       "      <td>11.42</td>\n",
       "      <td>420.5</td>\n",
       "      <td>108.72</td>\n",
       "      <td>59.06</td>\n",
       "      <td>40.3</td>\n",
       "      <td>41.18</td>\n",
       "    </tr>\n",
       "    <tr>\n",
       "      <th>2023-02-23</th>\n",
       "      <td>52.17</td>\n",
       "      <td>34.815</td>\n",
       "      <td>145.98</td>\n",
       "      <td>10.42</td>\n",
       "      <td>11.468</td>\n",
       "      <td>426.8</td>\n",
       "      <td>108.8</td>\n",
       "      <td>59.91</td>\n",
       "      <td>40.03</td>\n",
       "      <td>41.37</td>\n",
       "    </tr>\n",
       "    <tr>\n",
       "      <th>2023-02-24</th>\n",
       "      <td>48.07</td>\n",
       "      <td>33.595</td>\n",
       "      <td>141.46</td>\n",
       "      <td>10.34</td>\n",
       "      <td>11.294</td>\n",
       "      <td>415.1</td>\n",
       "      <td>106.92</td>\n",
       "      <td>58.62</td>\n",
       "      <td>39.9</td>\n",
       "      <td>40.32</td>\n",
       "    </tr>\n",
       "    <tr>\n",
       "      <th>2023-02-27</th>\n",
       "      <td>47.89</td>\n",
       "      <td>33.81</td>\n",
       "      <td>143.8</td>\n",
       "      <td>10.415</td>\n",
       "      <td>11.55</td>\n",
       "      <td>416.6</td>\n",
       "      <td>108.38</td>\n",
       "      <td>58.58</td>\n",
       "      <td>39.97</td>\n",
       "      <td>40.96</td>\n",
       "    </tr>\n",
       "    <tr>\n",
       "      <th>2023-02-28</th>\n",
       "      <td>48.475</td>\n",
       "      <td>33.515</td>\n",
       "      <td>144.7</td>\n",
       "      <td>10.345</td>\n",
       "      <td>11.8</td>\n",
       "      <td>402.6</td>\n",
       "      <td>107.48</td>\n",
       "      <td>56.29</td>\n",
       "      <td>40.24</td>\n",
       "      <td>41.65</td>\n",
       "    </tr>\n",
       "  </tbody>\n",
       "</table>\n",
       "<p>71 rows × 10 columns</p>\n",
       "</div>"
      ],
      "text/plain": [
       "CLOSE       BASFn.DE  IFXGn.DE  SIEGn.DE  EONGn.DE  DBKGn.DE  SATG_p.DE  \\\n",
       "Date                                                                      \n",
       "2022-11-21     48.67    31.505     129.1      9.08    10.218      373.4   \n",
       "2022-11-22     49.52     31.67    130.68       9.0    10.168      367.6   \n",
       "2022-11-23     49.27    31.685    130.68     8.952    10.226      367.6   \n",
       "2022-11-24    49.885     31.85    130.96     9.084     10.37      374.4   \n",
       "2022-11-25    49.605      31.6    132.06     9.126     10.39      371.9   \n",
       "...              ...       ...       ...       ...       ...        ...   \n",
       "2023-02-22     52.36     34.26    144.34    10.245     11.42      420.5   \n",
       "2023-02-23     52.17    34.815    145.98     10.42    11.468      426.8   \n",
       "2023-02-24     48.07    33.595    141.46     10.34    11.294      415.1   \n",
       "2023-02-27     47.89     33.81     143.8    10.415     11.55      416.6   \n",
       "2023-02-28    48.475    33.515     144.7    10.345      11.8      402.6   \n",
       "\n",
       "CLOSE       SAPG.DE  BAYGn.DE  RWEG.DE  1COV.DE  \n",
       "Date                                             \n",
       "2022-11-21   106.24      54.4    40.99    35.02  \n",
       "2022-11-22   105.62     54.61     41.3    36.61  \n",
       "2022-11-23    105.6     54.49    41.05    36.82  \n",
       "2022-11-24   105.46     55.51    41.61    38.12  \n",
       "2022-11-25   106.02     55.45    42.41    37.42  \n",
       "...             ...       ...      ...      ...  \n",
       "2023-02-22   108.72     59.06     40.3    41.18  \n",
       "2023-02-23    108.8     59.91    40.03    41.37  \n",
       "2023-02-24   106.92     58.62     39.9    40.32  \n",
       "2023-02-27   108.38     58.58    39.97    40.96  \n",
       "2023-02-28   107.48     56.29    40.24    41.65  \n",
       "\n",
       "[71 rows x 10 columns]"
      ]
     },
     "execution_count": 39,
     "metadata": {},
     "output_type": "execute_result"
    }
   ],
   "source": [
    "df = ek.get_timeseries(dax_corto, start_date = d, end_date = today, fields='CLOSE', interval=\"daily\")\n",
    "df"
   ]
  },
  {
   "cell_type": "code",
   "execution_count": 40,
   "id": "b4c35f3d",
   "metadata": {},
   "outputs": [
    {
     "data": {
      "text/html": [
       "<div>\n",
       "<style scoped>\n",
       "    .dataframe tbody tr th:only-of-type {\n",
       "        vertical-align: middle;\n",
       "    }\n",
       "\n",
       "    .dataframe tbody tr th {\n",
       "        vertical-align: top;\n",
       "    }\n",
       "\n",
       "    .dataframe thead th {\n",
       "        text-align: right;\n",
       "    }\n",
       "</style>\n",
       "<table border=\"1\" class=\"dataframe\">\n",
       "  <thead>\n",
       "    <tr style=\"text-align: right;\">\n",
       "      <th>CLOSE</th>\n",
       "      <th>BASFn.DE</th>\n",
       "      <th>IFXGn.DE</th>\n",
       "      <th>SIEGn.DE</th>\n",
       "      <th>EONGn.DE</th>\n",
       "      <th>DBKGn.DE</th>\n",
       "      <th>SATG_p.DE</th>\n",
       "      <th>SAPG.DE</th>\n",
       "      <th>BAYGn.DE</th>\n",
       "      <th>RWEG.DE</th>\n",
       "      <th>1COV.DE</th>\n",
       "    </tr>\n",
       "  </thead>\n",
       "  <tbody>\n",
       "    <tr>\n",
       "      <th>count</th>\n",
       "      <td>71.0</td>\n",
       "      <td>71.0</td>\n",
       "      <td>71.0</td>\n",
       "      <td>71.0</td>\n",
       "      <td>71.0</td>\n",
       "      <td>71.0</td>\n",
       "      <td>71.0</td>\n",
       "      <td>71.0</td>\n",
       "      <td>71.0</td>\n",
       "      <td>71.0</td>\n",
       "    </tr>\n",
       "    <tr>\n",
       "      <th>mean</th>\n",
       "      <td>50.169085</td>\n",
       "      <td>32.175352</td>\n",
       "      <td>137.781127</td>\n",
       "      <td>9.652268</td>\n",
       "      <td>11.105169</td>\n",
       "      <td>392.160563</td>\n",
       "      <td>105.171408</td>\n",
       "      <td>54.775282</td>\n",
       "      <td>41.038451</td>\n",
       "      <td>39.728028</td>\n",
       "    </tr>\n",
       "    <tr>\n",
       "      <th>std</th>\n",
       "      <td>2.663489</td>\n",
       "      <td>2.319811</td>\n",
       "      <td>6.592447</td>\n",
       "      <td>0.458616</td>\n",
       "      <td>0.775304</td>\n",
       "      <td>35.716093</td>\n",
       "      <td>4.359299</td>\n",
       "      <td>3.76176</td>\n",
       "      <td>1.07365</td>\n",
       "      <td>2.642398</td>\n",
       "    </tr>\n",
       "    <tr>\n",
       "      <th>min</th>\n",
       "      <td>45.52</td>\n",
       "      <td>28.065</td>\n",
       "      <td>127.08</td>\n",
       "      <td>8.928</td>\n",
       "      <td>9.713</td>\n",
       "      <td>339.2</td>\n",
       "      <td>96.39</td>\n",
       "      <td>48.325</td>\n",
       "      <td>38.67</td>\n",
       "      <td>35.02</td>\n",
       "    </tr>\n",
       "    <tr>\n",
       "      <th>25%</th>\n",
       "      <td>47.875</td>\n",
       "      <td>30.73</td>\n",
       "      <td>131.38</td>\n",
       "      <td>9.164</td>\n",
       "      <td>10.237</td>\n",
       "      <td>360.55</td>\n",
       "      <td>102.41</td>\n",
       "      <td>52.185</td>\n",
       "      <td>40.27</td>\n",
       "      <td>36.935</td>\n",
       "    </tr>\n",
       "    <tr>\n",
       "      <th>50%</th>\n",
       "      <td>51.06</td>\n",
       "      <td>31.765</td>\n",
       "      <td>138.34</td>\n",
       "      <td>9.854</td>\n",
       "      <td>11.41</td>\n",
       "      <td>389.7</td>\n",
       "      <td>106.02</td>\n",
       "      <td>55.52</td>\n",
       "      <td>41.3</td>\n",
       "      <td>40.96</td>\n",
       "    </tr>\n",
       "    <tr>\n",
       "      <th>75%</th>\n",
       "      <td>52.75</td>\n",
       "      <td>33.73</td>\n",
       "      <td>143.77</td>\n",
       "      <td>10.015</td>\n",
       "      <td>11.707</td>\n",
       "      <td>419.4</td>\n",
       "      <td>108.38</td>\n",
       "      <td>57.21</td>\n",
       "      <td>41.86</td>\n",
       "      <td>42.045</td>\n",
       "    </tr>\n",
       "    <tr>\n",
       "      <th>max</th>\n",
       "      <td>54.04</td>\n",
       "      <td>36.645</td>\n",
       "      <td>149.42</td>\n",
       "      <td>10.42</td>\n",
       "      <td>12.34</td>\n",
       "      <td>465.9</td>\n",
       "      <td>112.58</td>\n",
       "      <td>62.49</td>\n",
       "      <td>42.75</td>\n",
       "      <td>44.07</td>\n",
       "    </tr>\n",
       "  </tbody>\n",
       "</table>\n",
       "</div>"
      ],
      "text/plain": [
       "CLOSE   BASFn.DE   IFXGn.DE    SIEGn.DE  EONGn.DE   DBKGn.DE   SATG_p.DE  \\\n",
       "count       71.0       71.0        71.0      71.0       71.0        71.0   \n",
       "mean   50.169085  32.175352  137.781127  9.652268  11.105169  392.160563   \n",
       "std     2.663489   2.319811    6.592447  0.458616   0.775304   35.716093   \n",
       "min        45.52     28.065      127.08     8.928      9.713       339.2   \n",
       "25%       47.875      30.73      131.38     9.164     10.237      360.55   \n",
       "50%        51.06     31.765      138.34     9.854      11.41       389.7   \n",
       "75%        52.75      33.73      143.77    10.015     11.707       419.4   \n",
       "max        54.04     36.645      149.42     10.42      12.34       465.9   \n",
       "\n",
       "CLOSE     SAPG.DE   BAYGn.DE    RWEG.DE    1COV.DE  \n",
       "count        71.0       71.0       71.0       71.0  \n",
       "mean   105.171408  54.775282  41.038451  39.728028  \n",
       "std      4.359299    3.76176    1.07365   2.642398  \n",
       "min         96.39     48.325      38.67      35.02  \n",
       "25%        102.41     52.185      40.27     36.935  \n",
       "50%        106.02      55.52       41.3      40.96  \n",
       "75%        108.38      57.21      41.86     42.045  \n",
       "max        112.58      62.49      42.75      44.07  "
      ]
     },
     "execution_count": 40,
     "metadata": {},
     "output_type": "execute_result"
    }
   ],
   "source": [
    "df.describe()"
   ]
  },
  {
   "cell_type": "code",
   "execution_count": 41,
   "id": "9f4b2137",
   "metadata": {},
   "outputs": [
    {
     "name": "stdout",
     "output_type": "stream",
     "text": [
      "CLOSE      BASFn.DE  IFXGn.DE  SIEGn.DE  EONGn.DE  DBKGn.DE  SATG_p.DE  \\\n",
      "CLOSE                                                                    \n",
      "BASFn.DE   1.000000  0.642669  0.827993  0.767901  0.829086   0.801250   \n",
      "IFXGn.DE   0.642669  1.000000  0.817718  0.627851  0.462561   0.888925   \n",
      "SIEGn.DE   0.827993  0.817718  1.000000  0.892783  0.814048   0.903758   \n",
      "EONGn.DE   0.767901  0.627851  0.892783  1.000000  0.893147   0.802956   \n",
      "DBKGn.DE   0.829086  0.462561  0.814048  0.893147  1.000000   0.720394   \n",
      "SATG_p.DE  0.801250  0.888925  0.903758  0.802956  0.720394   1.000000   \n",
      "SAPG.DE    0.767856  0.915844  0.841086  0.637188  0.528010   0.877877   \n",
      "BAYGn.DE   0.703557  0.885260  0.832355  0.653190  0.524144   0.855739   \n",
      "RWEG.DE   -0.439163 -0.402367 -0.461733 -0.588090 -0.525362  -0.432091   \n",
      "1COV.DE    0.907861  0.676725  0.884191  0.901715  0.903884   0.837140   \n",
      "\n",
      "CLOSE       SAPG.DE  BAYGn.DE   RWEG.DE   1COV.DE  \n",
      "CLOSE                                              \n",
      "BASFn.DE   0.767856  0.703557 -0.439163  0.907861  \n",
      "IFXGn.DE   0.915844  0.885260 -0.402367  0.676725  \n",
      "SIEGn.DE   0.841086  0.832355 -0.461733  0.884191  \n",
      "EONGn.DE   0.637188  0.653190 -0.588090  0.901715  \n",
      "DBKGn.DE   0.528010  0.524144 -0.525362  0.903884  \n",
      "SATG_p.DE  0.877877  0.855739 -0.432091  0.837140  \n",
      "SAPG.DE    1.000000  0.932250 -0.331784  0.718338  \n",
      "BAYGn.DE   0.932250  1.000000 -0.302911  0.661835  \n",
      "RWEG.DE   -0.331784 -0.302911  1.000000 -0.605110  \n",
      "1COV.DE    0.718338  0.661835 -0.605110  1.000000  \n"
     ]
    }
   ],
   "source": [
    "correlacion = df[dax_corto].corr()\n",
    "print(correlacion)"
   ]
  },
  {
   "cell_type": "code",
   "execution_count": 42,
   "id": "9fc5e2f0",
   "metadata": {},
   "outputs": [
    {
     "data": {
      "text/plain": [
       "<Axes: xlabel='CLOSE', ylabel='CLOSE'>"
      ]
     },
     "execution_count": 42,
     "metadata": {},
     "output_type": "execute_result"
    },
    {
     "data": {
      "image/png": "[encoded data removed]",
      "text/plain": [
       "<Figure size 640x480 with 2 Axes>"
      ]
     },
     "metadata": {},
     "output_type": "display_data"
    }
   ],
   "source": [
    "import seaborn as sns\n",
    "sns.heatmap(df[dax_corto].corr(), annot = True, fmt='.2g',cmap= 'coolwarm')"
   ]
  },
  {
   "cell_type": "markdown",
   "id": "843c63ce",
   "metadata": {},
   "source": [
    "# Bibliografía"
   ]
  },
  {
   "cell_type": "markdown",
   "id": "733cbe37",
   "metadata": {},
   "source": [
    "Python for Finance, 2nd Edition. December 2018 O'Reilly Media, Inc.\n",
    "Numpy | ndarray Last Updated : 28 Jun, 2021 https://www.geeksforgeeks.org/numpy-ndarray/\n",
    "Machine Learning for Trading, Tucker Balch, Arpan Chakraborty, Udacity. https://www.udacity.com/course/machine-learning-for-trading--ud501"
   ]
  },
  {
   "cell_type": "code",
   "execution_count": null,
   "id": "577d1927",
   "metadata": {},
   "outputs": [],
   "source": []
  }
 ],
 "metadata": {
  "kernelspec": {
   "display_name": "Python 3 (ipykernel)",
   "language": "python",
   "name": "python3"
  },
  "language_info": {
   "codemirror_mode": {
    "name": "ipython",
    "version": 3
   },
   "file_extension": ".py",
   "mimetype": "text/x-python",
   "name": "python",
   "nbconvert_exporter": "python",
   "pygments_lexer": "ipython3",
   "version": "3.8.15"
  }
 },
 "nbformat": 4,
 "nbformat_minor": 5
}
