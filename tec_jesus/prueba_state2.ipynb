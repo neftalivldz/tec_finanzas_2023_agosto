{
 "cells": [
  {
   "cell_type": "code",
   "execution_count": 1,
   "metadata": {},
   "outputs": [],
   "source": [
    "import math\n",
    "import numpy as np\n",
    "import pandas as pd"
   ]
  },
  {
   "cell_type": "code",
   "execution_count": 54,
   "metadata": {},
   "outputs": [],
   "source": [
    "indicadores = 10\n",
    "window_size = 10\n",
    "timestep = 0\n",
    "data = pd.read_parquet('resultadoIndicadores.parquet')"
   ]
  },
  {
   "cell_type": "code",
   "execution_count": 55,
   "metadata": {},
   "outputs": [],
   "source": [
    "def indicadores(data, indicadores):\n",
    "    for i in range(0, indicadores):\n",
    "        if i == 0:\n",
    "            globals()['df_' + str(data.columns[i])] = data.iloc[:,0:1 ]\n",
    "        else:\n",
    "            globals()['df_' + str(data.columns[i])] = data.iloc[:,i:i+1 ]"
   ]
  },
  {
   "cell_type": "code",
   "execution_count": 43,
   "metadata": {},
   "outputs": [],
   "source": [
    "def state_creator(data, timestep, window_size, indicadores):\n",
    "    starting_id = timestep - window_size + 1\n",
    "    for i in range(0, indicadores):\n",
    "        if i == 0:\n",
    "            globals()['df_' + str(data.columns[i])] = data.iloc[:,0:1 ]\n",
    "            \n",
    "        else:\n",
    "            globals()['df_' + str(data.columns[i])] = data.iloc[:,i:i+1 ]\n",
    "            lista_indicadores.append('df_' + str(data.columns[i]))"
   ]
  },
  {
   "cell_type": "code",
   "execution_count": 48,
   "metadata": {},
   "outputs": [
    {
     "ename": "TypeError",
     "evalue": "can only concatenate str (not \"list\") to str",
     "output_type": "error",
     "traceback": [
      "\u001b[1;31m---------------------------------------------------------------------------\u001b[0m",
      "\u001b[1;31mTypeError\u001b[0m                                 Traceback (most recent call last)",
      "\u001b[1;32mc:\\Users\\jesiq\\github\\Material_tec\\Codigos\\prueba_state2.ipynb Cell 5\u001b[0m line \u001b[0;36m5\n\u001b[0;32m      <a href='vscode-notebook-cell:/c%3A/Users/jesiq/github/Material_tec/Codigos/prueba_state2.ipynb#X15sZmlsZQ%3D%3D?line=2'>3</a>\u001b[0m     windowed_data \u001b[39m=\u001b[39m lista_indicadores[\u001b[39m0\u001b[39m][starting_id:timestep\u001b[39m+\u001b[39m\u001b[39m1\u001b[39m]\n\u001b[0;32m      <a href='vscode-notebook-cell:/c%3A/Users/jesiq/github/Material_tec/Codigos/prueba_state2.ipynb#X15sZmlsZQ%3D%3D?line=3'>4</a>\u001b[0m \u001b[39melse\u001b[39;00m:\n\u001b[1;32m----> <a href='vscode-notebook-cell:/c%3A/Users/jesiq/github/Material_tec/Codigos/prueba_state2.ipynb#X15sZmlsZQ%3D%3D?line=4'>5</a>\u001b[0m     windowed_data \u001b[39m=\u001b[39m \u001b[39m-\u001b[39;49m starting_id \u001b[39m*\u001b[39;49m lista_indicadores[\u001b[39m0\u001b[39;49m] \u001b[39m+\u001b[39;49m \u001b[39mlist\u001b[39;49m(lista_indicadores[\u001b[39m0\u001b[39;49m][\u001b[39m0\u001b[39;49m:timestep\u001b[39m+\u001b[39;49m\u001b[39m1\u001b[39;49m])\n",
      "\u001b[1;31mTypeError\u001b[0m: can only concatenate str (not \"list\") to str"
     ]
    }
   ],
   "source": [
    "starting_id = starting_id = timestep - window_size + 1\n",
    "if starting_id >= 0:\n",
    "    windowed_data = lista_indicadores[0][starting_id:timestep+1]\n",
    "else:\n",
    "    windowed_data = - starting_id * lista_indicadores[0] + list(lista_indicadores[0][0:timestep+1])"
   ]
  },
  {
   "cell_type": "code",
   "execution_count": 53,
   "metadata": {},
   "outputs": [
    {
     "ename": "AttributeError",
     "evalue": "'list' object has no attribute 'replace'",
     "output_type": "error",
     "traceback": [
      "\u001b[1;31m---------------------------------------------------------------------------\u001b[0m",
      "\u001b[1;31mAttributeError\u001b[0m                            Traceback (most recent call last)",
      "\u001b[1;32mc:\\Users\\jesiq\\github\\Material_tec\\Codigos\\prueba_state2.ipynb Cell 6\u001b[0m line \u001b[0;36m1\n\u001b[1;32m----> <a href='vscode-notebook-cell:/c%3A/Users/jesiq/github/Material_tec/Codigos/prueba_state2.ipynb#X16sZmlsZQ%3D%3D?line=0'>1</a>\u001b[0m lista_indicadores\u001b[39m.\u001b[39;49mreplace\n",
      "\u001b[1;31mAttributeError\u001b[0m: 'list' object has no attribute 'replace'"
     ]
    }
   ],
   "source": [
    "lista_indicadores.replace"
   ]
  },
  {
   "cell_type": "code",
   "execution_count": 2,
   "metadata": {},
   "outputs": [],
   "source": [
    "def sigmoid(x):\n",
    "  return 1 / (1 + np.exp(-x))\n",
    "\n",
    "\n",
    "def state_creator(data, timestep, window_size):\n",
    "    for i in range(0, len(lista_indicadores)):\n",
    "       starting_id = starting_id = timestep - window_size + 1\n",
    "\n",
    "       if starting_id >= 0:\n",
    "          windowed_data = i[starting_id:timestep+1]\n",
    "       else:\n",
    "          windowed_data = - starting_id * [i[0]] + list(i[0:timestep+1])\n",
    "       \n",
    "  \n",
    "\n",
    "\n",
    "  \n",
    "  # starting day of our state\n",
    "    starting_id = timestep - window_size + 1\n",
    "  \n",
    "  if starting_id >= 0:\n",
    "    windowed_data = data[starting_id:timestep+1]\n",
    "  else:\n",
    "    # Replicate member (data[0]) needed times\n",
    "    windowed_data = - starting_id * [data.iloc[0]] + list(data[0:timestep+1])\n",
    "    \n",
    "  state = []\n",
    "  # Iterate trough whole windowed_data minus current state (-1)\n",
    "  for i in range(window_size - 1):\n",
    "    # Normalize the difference from current day and the next day\n",
    "    # Because the prices can be very different and we want them on same scale\n",
    "    state.append(sigmoid(windowed_data[i+1] - windowed_data[i]))\n",
    "    \n",
    "  return np.array([state])"
   ]
  },
  {
   "cell_type": "code",
   "execution_count": 27,
   "metadata": {},
   "outputs": [],
   "source": [
    "window_size = 10\n",
    "data = pd.read_parquet('resultadoIndicadores.parquet')"
   ]
  },
  {
   "cell_type": "code",
   "execution_count": 19,
   "metadata": {},
   "outputs": [
    {
     "data": {
      "text/plain": [
       "'SMA_5'"
      ]
     },
     "execution_count": 19,
     "metadata": {},
     "output_type": "execute_result"
    }
   ],
   "source": [
    "data.columns[0]"
   ]
  },
  {
   "cell_type": "code",
   "execution_count": 38,
   "metadata": {},
   "outputs": [],
   "source": [
    "indicadores = 10\n",
    "window_size = 10\n",
    "timestep = 0\n",
    "lista_indicadores = []\n",
    "for i in range(0, indicadores):\n",
    "    if i == 0:\n",
    "        globals()['df_' + str(data.columns[i])] = data.iloc[:,0:1 ]\n",
    "        lista_indicadores.append('df_' + str(data.columns[i]))\n",
    "    else:\n",
    "        globals()['df_' + str(data.columns[i])] = data.iloc[:,i:i+1 ]\n",
    "        lista_indicadores.append('df_' + str(data.columns[i]))\n",
    "    "
   ]
  },
  {
   "cell_type": "code",
   "execution_count": 39,
   "metadata": {},
   "outputs": [
    {
     "data": {
      "text/plain": [
       "['df_SMA_5',\n",
       " 'df_SMA_21',\n",
       " 'df_SMA_63',\n",
       " 'df_EMA_5',\n",
       " 'df_EMA_21',\n",
       " 'df_EMA_63',\n",
       " 'df_WMA_5',\n",
       " 'df_WMA_21',\n",
       " 'df_WMA_63',\n",
       " 'df_middle']"
      ]
     },
     "execution_count": 39,
     "metadata": {},
     "output_type": "execute_result"
    }
   ],
   "source": [
    "lista_indicadores"
   ]
  },
  {
   "cell_type": "code",
   "execution_count": 18,
   "metadata": {},
   "outputs": [
    {
     "data": {
      "text/html": [
       "<div>\n",
       "<style scoped>\n",
       "    .dataframe tbody tr th:only-of-type {\n",
       "        vertical-align: middle;\n",
       "    }\n",
       "\n",
       "    .dataframe tbody tr th {\n",
       "        vertical-align: top;\n",
       "    }\n",
       "\n",
       "    .dataframe thead th {\n",
       "        text-align: right;\n",
       "    }\n",
       "</style>\n",
       "<table border=\"1\" class=\"dataframe\">\n",
       "  <thead>\n",
       "    <tr style=\"text-align: right;\">\n",
       "      <th></th>\n",
       "      <th>SMA_21</th>\n",
       "    </tr>\n",
       "    <tr>\n",
       "      <th>Date</th>\n",
       "      <th></th>\n",
       "    </tr>\n",
       "  </thead>\n",
       "  <tbody>\n",
       "    <tr>\n",
       "      <th>2020-04-01</th>\n",
       "      <td>146.202915</td>\n",
       "    </tr>\n",
       "    <tr>\n",
       "      <th>2020-04-02</th>\n",
       "      <td>145.497950</td>\n",
       "    </tr>\n",
       "    <tr>\n",
       "      <th>2020-04-03</th>\n",
       "      <td>144.924388</td>\n",
       "    </tr>\n",
       "    <tr>\n",
       "      <th>2020-04-06</th>\n",
       "      <td>145.094980</td>\n",
       "    </tr>\n",
       "    <tr>\n",
       "      <th>2020-04-07</th>\n",
       "      <td>145.688369</td>\n",
       "    </tr>\n",
       "    <tr>\n",
       "      <th>...</th>\n",
       "      <td>...</td>\n",
       "    </tr>\n",
       "    <tr>\n",
       "      <th>2023-10-02</th>\n",
       "      <td>325.840001</td>\n",
       "    </tr>\n",
       "    <tr>\n",
       "      <th>2023-10-03</th>\n",
       "      <td>325.112858</td>\n",
       "    </tr>\n",
       "    <tr>\n",
       "      <th>2023-10-04</th>\n",
       "      <td>324.418097</td>\n",
       "    </tr>\n",
       "    <tr>\n",
       "      <th>2023-10-05</th>\n",
       "      <td>323.774286</td>\n",
       "    </tr>\n",
       "    <tr>\n",
       "      <th>2023-10-06</th>\n",
       "      <td>323.648096</td>\n",
       "    </tr>\n",
       "  </tbody>\n",
       "</table>\n",
       "<p>886 rows × 1 columns</p>\n",
       "</div>"
      ],
      "text/plain": [
       "                SMA_21\n",
       "Date                  \n",
       "2020-04-01  146.202915\n",
       "2020-04-02  145.497950\n",
       "2020-04-03  144.924388\n",
       "2020-04-06  145.094980\n",
       "2020-04-07  145.688369\n",
       "...                ...\n",
       "2023-10-02  325.840001\n",
       "2023-10-03  325.112858\n",
       "2023-10-04  324.418097\n",
       "2023-10-05  323.774286\n",
       "2023-10-06  323.648096\n",
       "\n",
       "[886 rows x 1 columns]"
      ]
     },
     "execution_count": 18,
     "metadata": {},
     "output_type": "execute_result"
    }
   ],
   "source": [
    "data.iloc[0:, 1:2]"
   ]
  },
  {
   "cell_type": "code",
   "execution_count": null,
   "metadata": {},
   "outputs": [],
   "source": []
  }
 ],
 "metadata": {
  "kernelspec": {
   "display_name": "talib",
   "language": "python",
   "name": "python3"
  },
  "language_info": {
   "codemirror_mode": {
    "name": "ipython",
    "version": 3
   },
   "file_extension": ".py",
   "mimetype": "text/x-python",
   "name": "python",
   "nbconvert_exporter": "python",
   "pygments_lexer": "ipython3",
   "version": "3.10.13"
  }
 },
 "nbformat": 4,
 "nbformat_minor": 2
}
