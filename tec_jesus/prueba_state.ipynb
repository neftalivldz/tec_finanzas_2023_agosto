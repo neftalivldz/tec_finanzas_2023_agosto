{
 "cells": [
  {
   "cell_type": "code",
   "execution_count": 3,
   "metadata": {},
   "outputs": [],
   "source": [
    "import math\n",
    "import numpy as np\n",
    "import pandas as pd"
   ]
  },
  {
   "cell_type": "code",
   "execution_count": 18,
   "metadata": {},
   "outputs": [],
   "source": [
    "window_size = 10\n",
    "data = pd.read_parquet('resultadoIndicadores.parquet')\n",
    "data = data.drop(['EMA_5','EMA_63', 'EMA_63', 'WMA_63', 'MINUS_DM','PLUS_DI', 'AD', 'WMA_5'], axis=1)"
   ]
  },
  {
   "cell_type": "code",
   "execution_count": 20,
   "metadata": {},
   "outputs": [],
   "source": [
    "def sigmoid(x):\n",
    "  return 1 / (1 + np.exp(-x))\n",
    "\n",
    "\n",
    "def state_creator(data, timestep, window_size):\n",
    "  \n",
    "  # starting day of our state\n",
    "  starting_id = timestep - window_size + 1\n",
    "  \n",
    "  if starting_id >= 0:\n",
    "    windowed_data = data[starting_id:timestep+1]\n",
    "  else:\n",
    "    # Replicate member (data[0]) needed times\n",
    "    windowed_data = - starting_id * [data.iloc[0]] + list(data[0:timestep+1])\n",
    "    \n",
    "  state = []\n",
    "  # Iterate trough whole windowed_data minus current state (-1)\n",
    "  for i in range(window_size - 1):\n",
    "    # Normalize the difference from current day and the next day\n",
    "    # Because the prices can be very different and we want them on same scale\n",
    "    state.append(sigmoid(windowed_data[i+1] - windowed_data[i]))\n",
    "    \n",
    "  return np.array([state])"
   ]
  },
  {
   "cell_type": "code",
   "execution_count": null,
   "metadata": {},
   "outputs": [],
   "source": [
    "def state_creator(data, timestep, window_size):\n",
    "  \n",
    "  # starting day of our state\n",
    "  starting_id = timestep - window_size + 1\n",
    "  \n",
    "  if starting_id >= 0:\n",
    "    windowed_data = data[starting_id:timestep+1]\n",
    "  else:\n",
    "    # Replicate member (data[0]) needed times\n",
    "    windowed_data = - starting_id * [data[0]] + list(data[0:timestep+1])\n",
    "    \n",
    "  state = []\n",
    "  # Iterate trough whole windowed_data minus current state (-1)\n",
    "  for i in range(window_size - 1):\n",
    "    # Normalize the difference from current day and the next day\n",
    "    # Because the prices can be very different and we want them on same scale\n",
    "    state.append(sigmoid(windowed_data[i+1] - windowed_data[i]))\n",
    "    \n",
    "  return np.array([state])"
   ]
  },
  {
   "cell_type": "code",
   "execution_count": 61,
   "metadata": {},
   "outputs": [
    {
     "data": {
      "text/plain": [
       "array([[0.45894275, 0.33071239, 0.48109581, 0.54126934, 0.59265915,\n",
       "        0.54929343, 0.08595002, 0.35559431, 0.77157366, 0.20149962]])"
      ]
     },
     "execution_count": 61,
     "metadata": {},
     "output_type": "execute_result"
    }
   ],
   "source": [
    "state = []\n",
    "for i in range(1):\n",
    "    state.append(sigmoid(data['SMA_5'][i+1] - data['SMA_5'][i]))\n",
    "    state.append(sigmoid(data['SMA_21'][i+1] - data['SMA_21'][i]))\n",
    "    state.append(sigmoid(data['SMA_63'][i+1] - data['SMA_63'][i]))\n",
    "    state.append(sigmoid(data['EMA_21'][i+1] - data['EMA_21'][i]))\n",
    "    state.append(sigmoid(data['WMA_21'][i+1] - data['WMA_21'][i]))\n",
    "    state.append(sigmoid(data['middle'][i+1] - data['middle'][i]))\n",
    "    state.append(sigmoid(data['PLUS_DM'][i+1] - data['PLUS_DM'][i]))\n",
    "    state.append(sigmoid(data['MINUS_DI'][i+1] - data['MINUS_DI'][i]))\n",
    "    state.append(sigmoid(data['SAR'][i+1] - data['SAR'][i]))\n",
    "    state.append(sigmoid(data['ADX'][i+1] - data['ADX'][i]))\n",
    "\n",
    "np.array([state])\n"
   ]
  },
  {
   "cell_type": "code",
   "execution_count": null,
   "metadata": {},
   "outputs": [],
   "source": [
    "next_state = state_creator(data=data, timestep=(t + 1), window_size=(9 + 1))"
   ]
  },
  {
   "cell_type": "code",
   "execution_count": 90,
   "metadata": {},
   "outputs": [
    {
     "data": {
      "text/plain": [
       "array([[0.68992291, 0.36041518, 0.48326228, 0.50613504, 0.57766267,\n",
       "        0.51177573, 0.76287913, 0.44332014, 0.31945996, 0.2632473 ]])"
      ]
     },
     "execution_count": 90,
     "metadata": {},
     "output_type": "execute_result"
    }
   ],
   "source": [
    "sigmoid(data.iloc[-1 + 1:0 +1, 0:10].values - data.iloc[+:1 + 1, 0:10].values)"
   ]
  },
  {
   "cell_type": "code",
   "execution_count": 107,
   "metadata": {},
   "outputs": [
    {
     "data": {
      "text/plain": [
       "array([], shape=(1, 1, 0, 10), dtype=float64)"
      ]
     },
     "execution_count": 107,
     "metadata": {},
     "output_type": "execute_result"
    }
   ],
   "source": [
    "time = 0\n",
    "window_size = 10\n",
    "\n",
    "state = []\n",
    "state.append(sigmoid(data.iloc[time:time + 1, :10].values - data.iloc[time -1 :time, :10].values))\n",
    "\n",
    "    \n",
    "np.array([state])\n"
   ]
  },
  {
   "cell_type": "code",
   "execution_count": 110,
   "metadata": {},
   "outputs": [
    {
     "data": {
      "text/plain": [
       "array([[1.        , 1.        , 1.        , 1.        , 1.        ,\n",
       "        1.        , 1.        , 1.        , 0.99999996, 1.        ]])"
      ]
     },
     "execution_count": 110,
     "metadata": {},
     "output_type": "execute_result"
    }
   ],
   "source": [
    "sigmoid(data.iloc[time:time + 1, :10].values)"
   ]
  },
  {
   "cell_type": "code",
   "execution_count": 131,
   "metadata": {},
   "outputs": [],
   "source": [
    "timestemp = 15\n",
    "window_size = 10 # Numero de indicadores"
   ]
  },
  {
   "cell_type": "code",
   "execution_count": 132,
   "metadata": {},
   "outputs": [],
   "source": [
    "def state_indicador_creator(data, timestemp, window_size):\n",
    "\n",
    "    state = []\n",
    "    if timestemp == 0:\n",
    "        state.append(sigmoid(data.iloc[0:1, :window_size].values - data.iloc[0:1, :window_size].values))\n",
    "    else:\n",
    "        state.append(sigmoid(data.iloc[timestemp:timestemp + 1, :window_size].values - data.iloc[timestemp -1 :timestemp, :window_size].values))\n",
    "\n",
    "    return np.array([state])"
   ]
  },
  {
   "cell_type": "code",
   "execution_count": 133,
   "metadata": {},
   "outputs": [
    {
     "data": {
      "text/plain": [
       "array([[[[0.25194034, 0.74347938, 0.51979271, 0.62482017, 0.67782139,\n",
       "          0.6243827 , 0.80184812, 0.29270485, 0.32418882, 0.37890178]]]])"
      ]
     },
     "execution_count": 133,
     "metadata": {},
     "output_type": "execute_result"
    }
   ],
   "source": [
    "state_indicador_creator(data, timestemp, window_size)"
   ]
  },
  {
   "cell_type": "code",
   "execution_count": 112,
   "metadata": {},
   "outputs": [],
   "source": [
    "state.append(sigmoid(data.iloc[time:time + 1, :10].values - data.iloc[time -1 :time, :10].values))"
   ]
  },
  {
   "cell_type": "code",
   "execution_count": 113,
   "metadata": {},
   "outputs": [
    {
     "data": {
      "text/plain": [
       "array([[0.5, 0.5, 0.5, 0.5, 0.5, 0.5, 0.5, 0.5, 0.5, 0.5]])"
      ]
     },
     "execution_count": 113,
     "metadata": {},
     "output_type": "execute_result"
    }
   ],
   "source": [
    "sigmoid(data.iloc[0:1, :10].values - data.iloc[0:1, :10].values)"
   ]
  },
  {
   "cell_type": "code",
   "execution_count": null,
   "metadata": {},
   "outputs": [],
   "source": []
  }
 ],
 "metadata": {
  "kernelspec": {
   "display_name": "talib",
   "language": "python",
   "name": "python3"
  },
  "language_info": {
   "codemirror_mode": {
    "name": "ipython",
    "version": 3
   },
   "file_extension": ".py",
   "mimetype": "text/x-python",
   "name": "python",
   "nbconvert_exporter": "python",
   "pygments_lexer": "ipython3",
   "version": "3.10.13"
  }
 },
 "nbformat": 4,
 "nbformat_minor": 2
}
